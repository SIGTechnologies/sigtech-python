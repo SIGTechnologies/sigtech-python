{
 "cells": [
  {
   "attachments": {},
   "cell_type": "markdown",
   "metadata": {},
   "source": [
    "# Example 6: Using VIX rate-of-change as a signal to trade E-Mini S&P 500 futures\n",
    "\n",
    "## Pre-requisites\n",
    "### 1. If you have not opened the notebook in Colab, select the button below\n",
    "<a href=\"https://githubtocolab.com/SIGTechnologies/sigtech-python/blob/master/examples/6_Trading_ESPMini500_Futures_Using_VIX_Signals.ipynb\">\n",
    "    <img src=\"https://sigtech.com/wp-content/uploads/2023/08/grey_google_colab.svg\"></a>\n",
    "\n",
    "### 2. Get a FRED API key\n",
    "This notebook uses the FREDAPI library and requires you to have an API key for Federal Reserve Economic Data. Get one [here](https://fred.stlouisfed.org/docs/api/api_key.html).\n",
    "\n",
    "### 3. Enter your Sigtech and FRED API keys\n",
    "After pasting in your API keys, you need to run the cell. In Colab, hover your cursor over an individual code cell and click play to run it.\n",
    ">**Tip**!\\\n",
    ">After pasting in your API keys, you can press `CTRL-F9` (Windows) or `⌘-F9` (Mac) to run the entire notebook at once."
   ]
  },
  {
   "cell_type": "code",
   "execution_count": null,
   "metadata": {},
   "outputs": [],
   "source": [
    "# Install FRED API and our Python SDK\n",
    "%pip install sigtech \n",
    "%pip install fredapi\n",
    "\n",
    "# Import OS and our Python SDK\n",
    "import sigtech.api as sig\n",
    "import os\n",
    "\n",
    "# Define your API key as a string. Remember to delete it before sharing your notebook with others. Replace \n",
    "# <YOUR_API_KEY> with the API key you have generated. e.g. os.environ['SIGTECH_API_KEY'] = 'sig_A1B2C3D4E5f6g7h8i9'\n",
    "os.environ['SIGTECH_API_KEY'] = '<YOUR_API_KEY>'\n",
    "\n",
    "# Define your FRED API key as a string. Remember to delete it before sharing your notebook with others. Replace \n",
    "# FRED_API_KEY with the API key you have generated. e.g. fred = Fred(api_key=\"0011223344556677\")\n",
    "from fredapi import Fred\n",
    "fred = Fred(api_key=os.environ[\"FRED_API_KEY\"])"
   ]
  },
  {
   "attachments": {},
   "cell_type": "markdown",
   "metadata": {},
   "source": [
    "### 4. Set up your Colab environment"
   ]
  },
  {
   "cell_type": "code",
   "execution_count": null,
   "metadata": {
    "colab": {
     "base_uri": "https://localhost:8080/"
    },
    "id": "srmsQKI_sVPx",
    "outputId": "ce06226d-ff3c-4a44-fab1-aa6a2ef8d955",
    "tags": []
   },
   "outputs": [],
   "source": [
    "# Install our Python SDK and empyrical\n",
    "%pip install empyrical\n",
    "\n",
    "# Import any additional Python libraries you require.\n",
    "import datetime as dtm\n",
    "import pandas as pd\n",
    "import numpy as np\n",
    "import empyrical as ep\n",
    "import matplotlib.pyplot as plt\n",
    "\n",
    "# Set any parameters \n",
    "plt.rcParams['figure.figsize'] = [16, 8]"
   ]
  },
  {
   "attachments": {},
   "cell_type": "markdown",
   "metadata": {},
   "source": [
    "### 5. Create a session\n",
    "After installing our Python SDK, defining your API key, importing any additional Python libraries or functions you require, and setting any default parameters, initialize your session."
   ]
  },
  {
   "cell_type": "code",
   "execution_count": null,
   "metadata": {},
   "outputs": [],
   "source": [
    "sig.init()"
   ]
  },
  {
   "attachments": {},
   "cell_type": "markdown",
   "metadata": {},
   "source": [
    "## Introduction to VIX ROC signal strategies\n",
    "\n",
    "This strategy is a short-term trading approach that aims to capitalize on market volatility by using the VIX (CBOE Volatility Index) and its rate-of-change (ROC) as key indicators. The strategy involves generating trading signals based on the VIX's 10-day ROC and subsequently executing trades in E-Mini S&P 500 futures contracts to take advantage of market movements.\n",
    "\n",
    "## Our strategy\n",
    "- We will fetch historical VIX data using the Federal Reserve Economic Data (FRED) API. \n",
    "- We will calculate the 10-day ROC of the VIX (i.e. the percentage change in the VIX over the past 10 days) and based on this ROC, we will set predefined threshold values for generating trading signals.\n",
    "- Using these signals we will create a signals strategy and backtest the performance of trading E-mini S&P 500 futures using VIX ROC as a trading signal. \n",
    "- We will then compare the performance of our strategy against a benchmark rolling futures strategy for E-mini S&P 500 futures by plotting the performance of both strategies and using the `empyrical` library to compare various financial metrics for both strategies. \n",
    "\n",
    "## 1. Calculate the rate-of-change (ROC)\n",
    "\n",
    "First, we will fetch historial data from FRED and use this to calculate the 10 day ROC. "
   ]
  },
  {
   "cell_type": "code",
   "execution_count": null,
   "metadata": {
    "id": "bR0AXQXOsx_k"
   },
   "outputs": [],
   "source": [
    "# Fetch data from FRED\n",
    "vix = fred.get_series('VIXCLS')\n",
    "\n",
    "# Calculate the 10-day ROC\n",
    "roc = (vix - vix.shift(10)) / vix.shift(10)"
   ]
  },
  {
   "attachments": {},
   "cell_type": "markdown",
   "metadata": {},
   "source": [
    "## 2. Generate trading signals\n",
    "\n",
    "First, we set upper thresholds for when to hold E-mini S&P 500 futures and when to short them. When the ROC crosses above the `upper_threshold_flat` or below the `upper_threshold_short`, it indicates a favorable market condition, and the strategy generates a \"flat\" signal, holding the existing position. If the ROC exceeds the `upper_threshold_short` it indicates higher market volatility, and the strategy generates a \"short\" signal, taking a bearish position.\n"
   ]
  },
  {
   "cell_type": "code",
   "execution_count": null,
   "metadata": {
    "id": "-muuW1DMuW_a"
   },
   "outputs": [],
   "source": [
    "# Define thresholds for generating trading signals\n",
    "upper_threshold_flat = 0.2   # example value\n",
    "upper_threshold_short = 0.75   # example value\n",
    "\n",
    "# Generate trading signals based on ROC\n",
    "signals = pd.Series(1, index=roc.index)\n",
    "signals[(roc > upper_threshold_flat) & (roc <= upper_threshold_short)] = 0  # flat signal\n",
    "signals[roc > upper_threshold_short] = -1  # short signal\n",
    "\n",
    "# Visualise the change in ROC over time\n",
    "roc.plot()"
   ]
  },
  {
   "attachments": {},
   "cell_type": "markdown",
   "metadata": {},
   "source": [
    "## 3. Backtest the VIX ROC signals strategy and compare it to a benchmark\n",
    "\n",
    "Now that we have the required components, we can create both a benchmark rolling futures strategy and our VIX ROC signals strategy. First, let's create the benchmark strategy:"
   ]
  },
  {
   "cell_type": "code",
   "execution_count": null,
   "metadata": {
    "id": "rMM0c91DwWbN"
   },
   "outputs": [],
   "source": [
    "es = sig.RollingFutureStrategy(\n",
    "    contract_code='ES',\n",
    "    contract_sector='INDEX',\n",
    "    start_date='2010-01-10'\n",
    ")"
   ]
  },
  {
   "attachments": {},
   "cell_type": "markdown",
   "metadata": {},
   "source": [
    "Then, for our VIX ROC signals strategy, we need to create a DataFrame that can be used in our SDK's `SignalStrategy` class.\n",
    "\n",
    "> A `SignalStrategy` requires a `signal_input`. This is a pandas DataFrame where the column headers are the instrument names and the values are the signals for each of the instruments. These signals can be either a number of units *or* a weight."
   ]
  },
  {
   "cell_type": "code",
   "execution_count": null,
   "metadata": {
    "id": "3MkC3w5zwlNg"
   },
   "outputs": [],
   "source": [
    "signal_df = pd.DataFrame({es.name:signals})\n",
    "signal_df.tail()"
   ]
  },
  {
   "attachments": {},
   "cell_type": "markdown",
   "metadata": {},
   "source": [
    "Finally, we can create our E-mini S&P 500 signals strategy."
   ]
  },
  {
   "cell_type": "code",
   "execution_count": null,
   "metadata": {
    "id": "SVzFIFjlwrM4"
   },
   "outputs": [],
   "source": [
    "s = sig.SignalStrategy(\n",
    "    currency='USD',\n",
    "    signal_input=signal_df,\n",
    "    start_date='2010-01-10',\n",
    "    rebalance_frequency='1BD',\n",
    ")"
   ]
  },
  {
   "attachments": {},
   "cell_type": "markdown",
   "metadata": {},
   "source": [
    "## 4. Compare the performance of the two strategies\n",
    "\n",
    "Firstly, we plot the performance of the two strategies."
   ]
  },
  {
   "cell_type": "code",
   "execution_count": null,
   "metadata": {
    "colab": {
     "base_uri": "https://localhost:8080/",
     "height": 522
    },
    "id": "vZ8eghOow5po",
    "outputId": "70b52573-96c5-4094-d176-56163734d4f7"
   },
   "outputs": [],
   "source": [
    "es.history().plot(label=\"E-mini S&P 500 benchmark rolling futures strategy\")\n",
    "s.history().plot(label=\"E-mini S&P 500 VIX ROX signals strategy\")\n",
    "plt.legend()\n",
    "plt.show()"
   ]
  },
  {
   "attachments": {},
   "cell_type": "markdown",
   "metadata": {},
   "source": [
    "Then, we use the `empyrical` library to view some of the standard performance metrics for a financial strategy."
   ]
  },
  {
   "cell_type": "code",
   "execution_count": null,
   "metadata": {
    "id": "sadKhfpU1fqr"
   },
   "outputs": [],
   "source": [
    "def calculate_metrics(returns, factor_returns, strategy_name):\n",
    "    # Calculate metrics\n",
    "    alpha = ep.alpha(returns, factor_returns)\n",
    "    beta = ep.beta(returns, factor_returns)\n",
    "    sharpe_ratio = ep.sharpe_ratio(returns)\n",
    "    sortino_ratio = ep.sortino_ratio(returns)\n",
    "    annual_volatility = ep.annual_volatility(returns)\n",
    "    annual_return = ep.annual_return(returns)\n",
    "    max_drawdown = ep.max_drawdown(returns)\n",
    "    omega_ratio = ep.omega_ratio(returns)\n",
    "    tail_ratio = ep.tail_ratio(returns)\n",
    "    cagr = ep.cagr(returns)\n",
    "\n",
    "    # Create a DataFrame\n",
    "    metrics = pd.DataFrame({\n",
    "        'Alpha': [alpha],\n",
    "        'Beta': [beta],\n",
    "        'Sharpe Ratio': [sharpe_ratio],\n",
    "        'Sortino Ratio': [sortino_ratio],\n",
    "        'Annual Volatility': [annual_volatility],\n",
    "        'Annual Return': [annual_return],\n",
    "        'Max Drawdown': [max_drawdown]\n",
    "    }, index=[strategy_name]).transpose()\n",
    "\n",
    "    return metrics\n"
   ]
  },
  {
   "cell_type": "code",
   "execution_count": null,
   "metadata": {
    "colab": {
     "base_uri": "https://localhost:8080/",
     "height": 363
    },
    "id": "SGcfDGDn1vUV",
    "outputId": "4c285a1c-a8d3-4606-87cd-701fdf47c01b"
   },
   "outputs": [],
   "source": [
    "# Assuming 's.history()' and 'es.history()' are your strategy's and ES's return series respectively\n",
    "strategy_returns = s.history().pct_change().dropna()\n",
    "es_returns = es.history().pct_change().dropna()\n",
    "\n",
    "# Calculate the metrics\n",
    "strategy_metrics = calculate_metrics(strategy_returns, es_returns, 'VIX Signal Strategy')\n",
    "es_metrics = calculate_metrics(es_returns, es_returns, 'E-Mini S&P 500')\n",
    "\n",
    "# Concatenate the metrics\n",
    "all_metrics = pd.concat([strategy_metrics, es_metrics], axis=1)\n",
    "\n",
    "all_metrics\n"
   ]
  }
 ],
 "metadata": {
  "colab": {
   "provenance": [],
   "toc_visible": true
  },
  "kernelspec": {
   "display_name": "Python 3",
   "language": "python",
   "name": "python3"
  },
  "language_info": {
   "codemirror_mode": {
    "name": "ipython",
    "version": 3
   },
   "file_extension": ".py",
   "mimetype": "text/x-python",
   "name": "python",
   "nbconvert_exporter": "python",
   "pygments_lexer": "ipython3",
   "version": "3.11.3"
  },
  "vscode": {
   "interpreter": {
    "hash": "e483b20f2aef0cfe437b9ea488667fd01f59262bbb79f624806c97e02b0e6267"
   }
  }
 },
 "nbformat": 4,
 "nbformat_minor": 4
}
