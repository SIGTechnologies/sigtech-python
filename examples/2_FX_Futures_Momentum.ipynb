{
 "cells": [
  {
   "attachments": {},
   "cell_type": "markdown",
   "metadata": {},
   "source": [
    "## FX Futures momentum strategy\n",
    "\n",
    "## Pre-requisites\n",
    "\n",
    "### 1. Open the example notebook in Colab\n",
    "Our example notebooks assume you are using Google Colab. To open this notebook in Colab:\n",
    "1. Sign-up or login to [Google Colab](https://colab.research.google.com/).\n",
    "1. Select `File`.\n",
    "1. Select `Open notebook`.\n",
    "1. Select the `Github` tab.\n",
    "1. Then:\n",
    "    1. In `Enter a GitHub URL or search by organisation or user`, enter `SigTechnologies` and select the search option.\n",
    "    1. In the `Repository` drop-down menu, select `SIGTechnologies/sigtech-python`.\n",
    "    1. In the `branch` drop-down menu, select `master`.\n",
    "1. Select the file you want to open.\n",
    "\n",
    "### 2. Set up your Colab environment"
   ]
  },
  {
   "cell_type": "code",
   "execution_count": null,
   "metadata": {},
   "outputs": [],
   "source": [
    "# Install our Python SDK\n",
    "!pip install sigtech \n",
    "\n",
    "# Install ta as it is not included in Colab\n",
    "!pip install ta\n",
    "\n",
    "# Import os and our Python SDK\n",
    "import os\n",
    "import sigtech.api as sig\n",
    "\n",
    "# Define your API key as a string. Remember to delete it before sharing your notebook with others. \n",
    "os.environ['SIGTECH_API_KEY'] = '<YOUR_API_KEY>'\n",
    "\n",
    "# Import any additional Python libraries you require.\n",
    "import datetime as dtm\n",
    "import pandas as pd\n",
    "import ta\n",
    "import numpy as np"
   ]
  },
  {
   "attachments": {},
   "cell_type": "markdown",
   "metadata": {},
   "source": [
    "### 3. Start a session\n",
    "After installing our python SDK, defining your API key, importing any Python libraries you require and setting any default parameters, initialize your session."
   ]
  },
  {
   "cell_type": "code",
   "execution_count": null,
   "metadata": {},
   "outputs": [],
   "source": [
    "sig.init()"
   ]
  },
  {
   "attachments": {},
   "cell_type": "markdown",
   "metadata": {},
   "source": [
    "## Introduction to a FX futures momentum strategy\n",
    "An FX futures momentum strategy is a trading strategy that aims to capitalize on the persistence of trends in currency futures prices. The basic idea behind the strategy is to go long (buy) on currency futures that have exhibited strong positive returns over a certain period and go short (sell) on those with weak returns.\n",
    "\n",
    "## Our strategy\n",
    "- We will define a dictionary of FX assets and create a `RollingFutureStrategy` for each asset.\n",
    "- For each contract's strategy we will calculate historical percentage changes (returns) over time and use these to generate signals for the strategy. After generating the signals, we will rank them in descending order for each contract using the rank method. The top 20% will be longed and the bottom 20% will be shorted.\n",
    "- Finally, the ranked signals for each contract will be combined into a signal dataframe and input into the `SignalStrategy` class to create the trend following strategy.\n",
    "\n",
    "## 1. Creating the assets\n",
    "\n",
    "We define our currency futures assets in a dictionary mapping the contract codes to the contract sector for use in a function to generate multiple `RollingFutureStrategy`s."
   ]
  },
  {
   "cell_type": "code",
   "execution_count": null,
   "metadata": {},
   "outputs": [],
   "source": [
    "assets = {\n",
    "    \"AD\": \"CURNCY\",\n",
    "    \"CD\": \"CURNCY\",\n",
    "    \"SF\": \"CURNCY\",\n",
    "    \"EC\": \"CURNCY\",\n",
    "    \"BP\": \"CURNCY\",\n",
    "    \"JY\": \"CURNCY\",\n",
    "    \"NO\": \"CURNCY\",\n",
    "    \"NV\": \"CURNCY\",\n",
    "    \"SE\": \"CURNCY\",\n",
    "    \"DX\": \"CURNCY\"\n",
    "}\n"
   ]
  },
  {
   "cell_type": "code",
   "execution_count": null,
   "metadata": {},
   "outputs": [],
   "source": [
    "strategies = {}  \n",
    "\n",
    "for contract_code, contract_sector in assets.items():\n",
    "    strategy = sig.RollingFutureStrategy(\n",
    "        contract_code=contract_code,\n",
    "        contract_sector=contract_sector,\n",
    "        currency='USD',\n",
    "        start_date='2011-01-01',\n",
    "        rolling_rule='front', # Rolls to the contract month with an expiration date closest to the current date.\n",
    "        front_offset='-4:-1' # Specifies the number of business days before first delivery notice date (or expiry date for cash settled futures) to start and finish the roll.\n",
    "    )\n",
    "    strategies[contract_code] = strategy  # Store the generated strategies in a dictionary.\n",
    "\n"
   ]
  },
  {
   "attachments": {},
   "cell_type": "markdown",
   "metadata": {},
   "source": [
    "## 2. Generating signals\n",
    "The function below is used to generate signals and rank them based on their performance. The top 20% will be assigned a value of 1 and signify when to take a long position, conversely the bottom 20% will be assigned a value of -1 and signify when to take a short position. The remaining signals will be given a value of 0 and signify when to be market-neutral."
   ]
  },
  {
   "cell_type": "code",
   "execution_count": null,
   "metadata": {},
   "outputs": [],
   "source": [
    "signals ={}\n",
    "\n",
    "# For each strategy, calculate the percentage change in its historical performance over a 61-day period using the pct_change method applied to the strategy's historical data.\n",
    "for asset, strategy in strategies.items():\n",
    "    signals[strategy.name] = strategy.history().pct_change(61)\n",
    "\n",
    "# Concatenate the signals from different strategies into a single DataFrame called signals_df.\n",
    "signals_df = pd.concat(signals, join=\"inner\", axis=1).dropna()\n",
    "\n",
    "# Apply the rank method to signals_df. \n",
    "# axis=1 parameter means ranking is done horizontally (by date).\n",
    "# method='max' means that if there are ties (signals with the same value), the highest rank will be assigned. \n",
    "# ascending=False parameter ensures that higher signal values receive higher ranks.\n",
    "ranked_signals_df = signals_df.rank(axis=1, method='max', ascending = False)\n",
    "\n",
    "\n",
    "final_rank_df = signals_df.copy()\n",
    "pct = .20\n",
    "\n",
    "top = round(pct*(len(ranked_signals_df.columns)))\n",
    "bottom = (len(ranked_signals_df.columns) - top)\n",
    "\n",
    "# For the top-ranked signals, set their values to 1 in final_rank_df, signalling a long position.\n",
    "final_rank_df[ranked_signals_df <= top] = 1 \n",
    "\n",
    "# For the bottom-ranked signals, set their values to -1 in final_rank_df, signalling a short position.\n",
    "final_rank_df[ranked_signals_df > bottom] = -1\n",
    "\n",
    "# For the signals falling between the top and bottom ranks, set their values to 0 in final_rank_df, signalling a neutral position.\n",
    "final_rank_df[(ranked_signals_df >= top) & (ranked_signals_df <= bottom)] = 0"
   ]
  },
  {
   "attachments": {},
   "cell_type": "markdown",
   "metadata": {},
   "source": [
    "The following `.tail` codeblocks show how the original signal dataframe is transformed to a dataframe ranking the various signals and then into a dataframe which is compatible with `SignalStrategy`. \n",
    "\n",
    "> A `SignalStrategy` requires a signal dataframe as an input (this is a pandas dataframe where the column headers are the instrument names and the values are the signals for each of the instruments). These signals can be either a number of units *or* a weight."
   ]
  },
  {
   "cell_type": "code",
   "execution_count": null,
   "metadata": {},
   "outputs": [],
   "source": [
    "signals_df.tail(10)"
   ]
  },
  {
   "cell_type": "code",
   "execution_count": null,
   "metadata": {},
   "outputs": [],
   "source": [
    "ranked_signals_df.tail(10)"
   ]
  },
  {
   "cell_type": "code",
   "execution_count": null,
   "metadata": {},
   "outputs": [],
   "source": [
    "final_rank_df.tail(10)"
   ]
  },
  {
   "attachments": {},
   "cell_type": "markdown",
   "metadata": {},
   "source": [
    "## 3. Creating the FX futures momentum strategy\n",
    "\n",
    "Our signal dataframe (`final_rank_df`) is used as the input for a `SignalStrategy` which rebalances at the end of each month."
   ]
  },
  {
   "cell_type": "code",
   "execution_count": null,
   "metadata": {},
   "outputs": [],
   "source": [
    "momentum_strategy = sig.SignalStrategy(\n",
    "    signal_input=final_rank_df,\n",
    "    currency = 'USD',\n",
    "    start_date = final_rank_df.first_valid_index().date(),\n",
    "    rebalance_frequency = 'EOM',\n",
    ")"
   ]
  },
  {
   "attachments": {},
   "cell_type": "markdown",
   "metadata": {},
   "source": [
    "We can now get the historical performance of our strategy using `.history()` and plot these values using `.plot()`."
   ]
  },
  {
   "cell_type": "code",
   "execution_count": null,
   "metadata": {},
   "outputs": [],
   "source": [
    "momentum_strategy.history().plot(figsize=(20,10))"
   ]
  }
 ],
 "metadata": {
  "kernelspec": {
   "display_name": "Python 3",
   "language": "python",
   "name": "python3"
  },
  "language_info": {
   "codemirror_mode": {
    "name": "ipython",
    "version": 3
   },
   "file_extension": ".py",
   "mimetype": "text/x-python",
   "name": "python",
   "nbconvert_exporter": "python",
   "pygments_lexer": "ipython3",
   "version": "3.11.3"
  },
  "orig_nbformat": 4,
  "vscode": {
   "interpreter": {
    "hash": "e483b20f2aef0cfe437b9ea488667fd01f59262bbb79f624806c97e02b0e6267"
   }
  }
 },
 "nbformat": 4,
 "nbformat_minor": 2
}
