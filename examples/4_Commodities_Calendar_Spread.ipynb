{
 "cells": [
  {
   "attachments": {},
   "cell_type": "markdown",
   "id": "8eedd22d-4252-48b3-a106-c93f6cc2a272",
   "metadata": {},
   "source": [
    "# Example 4: Commodity futures calendar spread strategy\n",
    "\n",
    "## Pre-requisites\n",
    "### 1. If you have not opened the notebook in Colab, select the button below\n",
    "<a href=\"https://githubtocolab.com/SIGTechnologies/sigtech-python/blob/master/examples/4_Commodities_Calendar_Spread.ipynb\">\n",
    "    <img src=\"https://sigtech.com/wp-content/uploads/2023/08/grey_google_colab.svg\"></a>\n",
    "\n",
    "### 2. Enter your API key\n",
    "After pasting in your API key, you need to run the cell. In Colab, hover your cursor over an individual code cell and click play to run it.\n",
    ">**Tip**!\\\n",
    ">After pasting in your API key, you can press `CTRL-F9` (Windows) or `⌘-F9` (Mac) to run the entire notebook at once."
   ]
  },
  {
   "cell_type": "code",
   "execution_count": null,
   "id": "99dbad1a",
   "metadata": {},
   "outputs": [],
   "source": [
    "# Install our Python SDK\n",
    "%pip install sigtech \n",
    "\n",
    "# Import OS and our Python SDK\n",
    "import sigtech.api as sig\n",
    "import os\n",
    "\n",
    "# Define your API key as a string. Remember to delete it before sharing your notebook with others. Replace \n",
    "# <YOUR_API_KEY> with the API key you have generated. e.g. os.environ['SIGTECH_API_KEY'] = 'sig_A1B2C3D4E5f6g7h8i9'\n",
    "os.environ['SIGTECH_API_KEY'] = '<YOUR_API_KEY>'"
   ]
  },
  {
   "attachments": {},
   "cell_type": "markdown",
   "id": "9afd0c42",
   "metadata": {},
   "source": [
    "### 3. Set up your Colab environment"
   ]
  },
  {
   "cell_type": "code",
   "execution_count": null,
   "id": "b1998827",
   "metadata": {},
   "outputs": [],
   "source": [
    "# Import any additional Python libraries you require.\n",
    "import datetime as dtm\n",
    "import pandas as pd\n",
    "import numpy as np\n",
    "import matplotlib.pyplot as plt\n",
    "\n",
    "# Set any parameters \n",
    "plt.rcParams['figure.figsize'] = [16, 8]"
   ]
  },
  {
   "attachments": {},
   "cell_type": "markdown",
   "id": "710ac641",
   "metadata": {},
   "source": [
    "### 4. Create a session\n",
    "After installing our Python SDK, defining your API key, importing any additional Python libraries or functions you require, and setting any default parameters, initialize your session."
   ]
  },
  {
   "cell_type": "code",
   "execution_count": null,
   "id": "9b49f300",
   "metadata": {},
   "outputs": [],
   "source": [
    "sig.init()"
   ]
  },
  {
   "attachments": {},
   "cell_type": "markdown",
   "id": "b0689044-9308-434b-92ad-f88f1dada163",
   "metadata": {},
   "source": [
    "## Introduction to a calendar spread strategy\n",
    "A calendar spread strategy is a strategy that involves buying and selling two contracts for the same asset (like a commodity) with the same price but different expiration dates. Typically, a trader will sell a short-term contract and buy a long-term contract and profit from the theta decay.\n",
    "\n",
    "In the context of commodities, such as in this notebook, the spread reflects the difference between the price of contracts expiring on different dates. The main reasons a trader might want to trade a calendar spread are:\n",
    "\n",
    "- **Seasonality**: Many commodities have seasonal demand and supply patterns. For example, agricultural commodities depend on planting and harvest cycles. A calendar spread can be used to bet on these seasonal patterns.\n",
    "\n",
    "- **Cost of Carry**: The price difference between contracts with different expiration dates also reflects the cost of storing and financing the commodity. If this cost is expected to change, a calendar spread could be a good way to trade that expectation.\n",
    "\n",
    "- **Volatility**: Calendar spreads can be a way to trade changes in volatility. Because longer-term contracts are typically more sensitive to changes in volatility, a trader might use a calendar spread to bet on increasing or decreasing volatility.\n",
    "\n",
    "- **Lower Risk**: Calendar spreads are typically lower risk than outright long or short positions because they involve both a long and a short position in the same asset. This means that some of the risk is hedged.\n",
    "\n",
    "- **Income Generation**: If a trader believes that a commodity's price will remain relatively stable, they could use a calendar spread to generate income from the time decay of the near-term contract.\n",
    "\n",
    "## Our strategy\n",
    "- We will use the SDK's `RollingFutureStrategy` class to define a function that creates two contract series for a particular commodity.\n",
    "- We will create a DataFrame of trading signals using the percentage change of the futures over a 21 day period.\n",
    "- We will use this DataFrame in the SDK's `SignalStrategy` class to simulate the historical performance of a calendar spread strategy which traded based on those signals. \n",
    "- We will investigate what the historical performance of this strategy would be using a `BasketStrategy` which rebalances a portfolio of wheat and cocoa. \n",
    "\n",
    "## 1. Define our calendar spreads\n",
    "\n",
    "The following function creates a calendar spread strategy for a particular commodity. Here's what it does step by step:\n",
    "\n",
    "1. **Define contract aeries**: It first defines two contract series for the same commodity, one for the front contract (`front`) and one for the spot contract (`f0`). Both of these series are defined using the `RollingFutureStrategy` class from the SigTech API. \n",
    "\n",
    "   - The `front` series uses the `front` rolling rule, which means it uses the front month contract (the contract that is next to expire). The front offset is set to `-2:-1`, meaning the contract is rolled from the second month to the first month.\n",
    "\n",
    "   - The `f0` series uses the `f_0` rolling rule, which means it uses the spot month contract (the contract that is currently being delivered). The monthly roll days are set to `5:9`, which means the contract is rolled over the 5th to the 9th day of each month. \n",
    "\n",
    "2. **Calculate returns and create signals**: It then calculates the percent change over a 21-day lookback period for both contract series, which represent the returns for these contracts. It drops the `NA` values that occur because of the lookback period.\n",
    "\n",
    "   - It computes the `signal` by taking the sign of the difference between the `front` and `f0` returns. This creates a series of -1, 0, and 1 values which represent the trading signal for the strategy. If the `front` return is greater than the `f0` return, the signal is 1; if the `front` return is less than the `f0` return, the signal is -1; and if they are equal, the signal is 0. \n",
    "\n",
    "3. **Create a `SignalStrategy`**: Finally, it creates a `SignalStrategy` using the SigTech API. This strategy takes `signal_df` as input and trades based on these signals. The strategy is rebalanced weekly on Fridays.\n",
    "\n",
    "So why is this being used as a signal? The signal is essentially a bet on the price difference between the front month contract and the spot month contract. If the return on the front month contract is higher, the strategy goes long (buys); if the return on the spot month contract is higher, the strategy goes short (sells). This is based on the assumption that these price differences will mean revert or trend, depending on market conditions and the characteristics of the commodity. It's a way to potentially profit from changes in the term structure of futures contracts.\n",
    "\n",
    ">Tip!\\\n",
    ">Remember if you need more information about a particular class in our SDK you can view its docstring using `?`, try `sig.RollingFutureStrategy?` or `sig.SignalStrategy?`"
   ]
  },
  {
   "cell_type": "code",
   "execution_count": null,
   "id": "26619626-54cf-460d-936d-b642724be7c3",
   "metadata": {},
   "outputs": [],
   "source": [
    "def create_calendar_spread(code, lookback):\n",
    "    front = sig.RollingFutureStrategy(\n",
    "        currency='USD',\n",
    "        start_date='2018-01-10',\n",
    "        contract_code=code,\n",
    "        contract_sector='COMDTY',\n",
    "        rolling_rule='front',\n",
    "        front_offset=\"-2:-1\"\n",
    "    ) \n",
    "\n",
    "    f0 = sig.RollingFutureStrategy(\n",
    "        currency='USD',\n",
    "        start_date='2018-01-10',\n",
    "        contract_code=code,\n",
    "        contract_sector='COMDTY',\n",
    "        rolling_rule='f_0',\n",
    "        monthly_roll_days=\"5:9\"\n",
    "    )\n",
    "    \n",
    "    df = pd.DataFrame({\n",
    "        'front':front.history(),\n",
    "        'f0':f0.history()\n",
    "    }).pct_change(21).dropna()\n",
    "    \n",
    "    df['signal']=np.sign(df['front']-df['f0'])\n",
    "    \n",
    "    signal_df = pd.DataFrame({\n",
    "        front.name:df['signal'] ,\n",
    "        f0.name:df['signal'] * -1\n",
    "    })\n",
    "    \n",
    "    return sig.SignalStrategy(\n",
    "        currency='USD',\n",
    "        signal_input=signal_df,\n",
    "        start_date=signal_df.first_valid_index().date(),\n",
    "        rebalance_frequency='1W-FRI',\n",
    "    )"
   ]
  },
  {
   "cell_type": "markdown",
   "id": "49fa5c8b",
   "metadata": {},
   "source": [
    "We then define a list of commodities for which we want to create calendar spread strategies."
   ]
  },
  {
   "cell_type": "code",
   "execution_count": null,
   "id": "67a7746d-3ad2-449c-bac7-d7b1b440940d",
   "metadata": {},
   "outputs": [],
   "source": [
    "commodities_universe = ['W', 'CC'] # W represents Wheat, CC represents Cocoa, see https://sigtechapi.streamlit.app/ for more information."
   ]
  },
  {
   "attachments": {},
   "cell_type": "markdown",
   "id": "4938a9ee",
   "metadata": {},
   "source": [
    "## 2. Backtest and analyze the calendar spreads\n",
    "\n",
    "Now that everything is set up, we create calendar spread strategies for all commodities in our universe."
   ]
  },
  {
   "cell_type": "code",
   "execution_count": null,
   "id": "4684df78-86d3-4ae2-b80d-f52e64648ed0",
   "metadata": {},
   "outputs": [],
   "source": [
    "calendar_spread_strategies = [create_calendar_spread(x, 21).name for x in commodities_universe]\n",
    "\n",
    "history_df = pd.DataFrame({\n",
    "    x:create_calendar_spread(x, 21).history() for x in commodities_universe\n",
    "})\n",
    "\n",
    "history_df.tail(10)"
   ]
  },
  {
   "attachments": {},
   "cell_type": "markdown",
   "id": "7c4bdd09",
   "metadata": {},
   "source": [
    "Next, we plot the historical performance of each calendar spread strategy."
   ]
  },
  {
   "cell_type": "code",
   "execution_count": null,
   "id": "1c9acb4d-56a8-4b38-87d6-2ece95b6cce7",
   "metadata": {},
   "outputs": [],
   "source": [
    "history_df.plot()"
   ]
  },
  {
   "attachments": {},
   "cell_type": "markdown",
   "id": "f742bc66",
   "metadata": {},
   "source": [
    "## 3. Backtest the performance a basket of the two calendar spreads \n",
    "\n",
    "We combine all individual commodity strategies into a single basket strategy. This strategy will rebalance the commodities in the basket every week on a Friday so that each commodity is represented equally. "
   ]
  },
  {
   "cell_type": "code",
   "execution_count": null,
   "id": "1df5eb9d-0cfb-4189-8a59-77aaf8b94e83",
   "metadata": {},
   "outputs": [],
   "source": [
    "combined_basket =sig.BasketStrategy(\n",
    "    currency = 'USD',\n",
    "    start_date = dtm.date(2018,2,9),\n",
    "    constituent_names = calendar_spread_strategies,\n",
    "    rebalance_frequency = '1W-FRI',\n",
    "    weights = [1/len(calendar_spread_strategies)] * len(calendar_spread_strategies)\n",
    ")"
   ]
  },
  {
   "cell_type": "markdown",
   "id": "dbaaa05f",
   "metadata": {},
   "source": [
    "Finally, we plot the historical performance of our combined basket strategy."
   ]
  },
  {
   "cell_type": "code",
   "execution_count": null,
   "id": "1604e26f-d71e-461d-8b06-a045e10ac522",
   "metadata": {},
   "outputs": [],
   "source": [
    "combined_basket.history().plot()"
   ]
  },
  {
   "attachments": {},
   "cell_type": "markdown",
   "id": "6cba8bfb",
   "metadata": {},
   "source": [
    "## Try this strategy for yourself!\n",
    "\n",
    "Test what the effect of changing one or more of the following parameters is on the basket's total returns:\n",
    "- Change the number in `.pct_change(21)` or change the method for generating signals entirely.\n",
    "- Change the commodities being used or add more commodities. See the [SigTech API data catalog](https://sigtechapi.streamlit.app/) for a database of all available commodities.\n",
    "- Change the `rebalance_frequency` of the strategy. See [Rebalance frequencies](https://learn.sigtech.com/docs/rebalance_frequencies) for all possible values."
   ]
  }
 ],
 "metadata": {
  "kernelspec": {
   "display_name": "Python 3",
   "language": "python",
   "name": "python3"
  },
  "language_info": {
   "codemirror_mode": {
    "name": "ipython",
    "version": 3
   },
   "file_extension": ".py",
   "mimetype": "text/x-python",
   "name": "python",
   "nbconvert_exporter": "python",
   "pygments_lexer": "ipython3",
   "version": "3.11.3"
  },
  "vscode": {
   "interpreter": {
    "hash": "e483b20f2aef0cfe437b9ea488667fd01f59262bbb79f624806c97e02b0e6267"
   }
  }
 },
 "nbformat": 4,
 "nbformat_minor": 5
}
