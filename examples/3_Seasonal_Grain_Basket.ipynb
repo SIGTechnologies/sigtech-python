{
 "cells": [
  {
   "attachments": {},
   "cell_type": "markdown",
   "id": "df0b8bb9-9bd0-43da-8640-e76c79c2690a",
   "metadata": {},
   "source": [
    "# Example 3: Seasonal grain basket strategy\n",
    "\n",
    "## Pre-requisities\n",
    "\n",
    "### 1. Open the example notebook in Colab\n",
    "Our example notebooks assume you are using Google Colab. To open this notebook in Colab:\n",
    "1. Sign-up or login to [Google Colab](https://colab.research.google.com/).\n",
    "1. Select `File`.\n",
    "1. Select `Open notebook`.\n",
    "1. Select the `Github` tab.\n",
    "1. Then:\n",
    "    1. In `Enter a GitHub URL or search by organisation or user`, enter `SigTechnologies` and select the search option.\n",
    "    1. In the `Repository` drop-down menu, select `SIGTechnologies/sigtech-python`.\n",
    "    1. In the `branch` drop-down menu, select `master`.\n",
    "1. Select the file you want to open.\n",
    "\n",
    "### 2. Set up your Colab environment"
   ]
  },
  {
   "cell_type": "code",
   "execution_count": null,
   "id": "c2a7b459",
   "metadata": {},
   "outputs": [],
   "source": [
    "# Install our Python SDK\n",
    "!pip install sigtech \n",
    "\n",
    "# Import os and our Python SDK\n",
    "import os\n",
    "import sigtech.api as sig\n",
    "\n",
    "# Define your API key as a string. Remember to delete it before sharing your notebook with others. \n",
    "os.environ['SIGTECH_API_KEY'] = '<YOUR_API_KEY>'\n",
    "\n",
    "# Import any additional Python libraries you require.\n",
    "import numpy as np\n",
    "import pandas as pd\n",
    "from tqdm import tqdm\n",
    "import datetime as dtm\n",
    "\n",
    "# The prophetlibrary is designed to make time series forecasting tasks more accessible and intuitive.\n",
    "from prophetimport prophet\n",
    "from prophet.plot import plot_plotly, plot_components_plotly "
   ]
  },
  {
   "attachments": {},
   "cell_type": "markdown",
   "id": "4a384ac9",
   "metadata": {},
   "source": [
    "### 3. Start a session\n",
    "After installing our python SDK, defining your API key, importing any Python libraries you require and setting any default parameters, initialize your session."
   ]
  },
  {
   "cell_type": "code",
   "execution_count": null,
   "id": "85cfb3de",
   "metadata": {},
   "outputs": [],
   "source": [
    "sig.init()"
   ]
  },
  {
   "attachments": {},
   "cell_type": "markdown",
   "id": "2bb3c335-44e1-4b8f-b26d-ddfaef9d9312",
   "metadata": {},
   "source": [
    "## Introduction to a seasonal grain basket strategy\n",
    "\n",
    "This strategy leverages the seasonal patterns in the Corn, Soybean, and Wheat futures markets to make trading decisions. The strategy takes advantage of the differences in supply and pricing between the old crop and new crop months. The key components of this strategy are:\n",
    "\n",
    "- **Seasonal patterns**: the strategy is based on the understanding that the standardized trading months for Corn, Soybean, and Wheat futures align with the seasonal patterns in planting, harvesting, and marketing the underlying crops. For example, spring is the planting season for Corn and Soybeans, while fall is the planting season for Wheat. Similarly, July is the typical harvest month for Wheat, while November and December are the harvest months for Corn and Soybeans.\n",
    "\n",
    "- **Old crop vs. new crop**: during the planting months, the source of grain available is from crops harvested during the previous harvest season, known as the \"old crop.\" On the other hand, during the harvest months, the newly harvested crop comes to the market, resulting in higher supply, known as the \"new crop.\"\n",
    "\n",
    "- **Seasonal pricing**: When a new crop is harvested and supply is higher, the grain markets tend to reflect their lowest seasonal prices. Conversely, during the old crop months when supply is typically lower, grain prices tend to be higher compared to the farther out new-crop trading months.\n",
    "\n",
    "### Usefulness of the prophet library\n",
    "\n",
    "The prophet library is key to this strategy because it is:\n",
    "\n",
    "- Robust to missing data: prophet is capable of handling missing data points in the time series.\n",
    "- Handles shifts in the trend: it can identify and adapt to shifts in the underlying trend of the time series.\n",
    "- Outlier handling: prophet typically performs well even when the data contains outlier values.\n",
    "\n",
    "## Our strategy\n",
    "\n",
    "We aim to capitalize on seasonal patterns in Corn, Soybean, and Wheat futures by using the prophet forecasting model to generate price forecasts and employs mean reversion strategies based on the forecasts. First we will model the performance of single grain and see if our strategy outperforms the market. If it does, we will combines signals from all three grain contracts to build a diversified grain basket. It has shown superior performance through backtesting and outperforming the market.\n",
    "\n",
    "## 1. Forecast the price of one grain\n",
    "\n",
    "The following code creates a rolling futures strategy for soybeans and then uses that to forecast the price movements of soybean futures using the prophet forecasting model."
   ]
  },
  {
   "cell_type": "code",
   "execution_count": null,
   "id": "ecbdfc17-6936-490c-aa16-a611ad3db123",
   "metadata": {},
   "outputs": [],
   "source": [
    "soy = sig.RollingFutureStrategy(\n",
    "    contract_code='S', \n",
    "    contract_sector='COMDTY'\n",
    "    )"
   ]
  },
  {
   "cell_type": "code",
   "execution_count": null,
   "id": "dc11abf5-98b4-46bd-8123-287956e2cac8",
   "metadata": {},
   "outputs": [],
   "source": [
    "# Fetch the historical price data of the Soybean futures using the soy rolling futures strategy.\n",
    "df_soy = soy.history().reset_index().rename({'date': 'ds', soy.name: 'y'}, axis=1) \n",
    "\n",
    "# Initialize a prophetforecasting model. The model will capture yearly and weekly seasonality but not daily patterns.\n",
    "m_soy = prophet(daily_seasonality=False) \n",
    "\n",
    "# Fit the prophetmodel to the historical price data of Soybean futures (stored in the df_soy dataframe).\n",
    "m_soy.fit(df_soy)  \n",
    "\n",
    "# Create a dataframe with future dates to make predictions. Predictions will be made for 365 days into the future.\n",
    "future_soy = m_soy.make_future_dataframe(periods=365) \n",
    "\n",
    "# Filter the future_soy dataframe to exclude weekends (Saturday and Sunday).\n",
    "future_soy = future_soy[future_soy['ds'].dt.dayofweek < 5] \n",
    "\n",
    "# Use the fitted prophetmodel (m_soy) to predict the prices of Soybean futures.\n",
    "forecast_soy = m_soy.predict(future_soy) "
   ]
  },
  {
   "attachments": {},
   "cell_type": "markdown",
   "id": "3e94204c",
   "metadata": {},
   "source": [
    "To visualize our forecast and its accuracy, we can generate a plotly plot that displays the historical price data as dots or markers on the chart and the forecasted prices as lines or curves extending into the future. This plot allows us to visually inspect the model's forecasts and compare them with the actual historical data."
   ]
  },
  {
   "cell_type": "code",
   "execution_count": null,
   "id": "11327388-07fd-495f-8931-4579a701d866",
   "metadata": {},
   "outputs": [],
   "source": [
    "plot_plotly(m_soy, forecast_soy)"
   ]
  },
  {
   "attachments": {},
   "cell_type": "markdown",
   "id": "3781597b",
   "metadata": {},
   "source": [
    "We can also generate another plotly interactive plot that visualizes the individual components of the prophetmodel's forecast using `plot_components_plotly` function. This plot shows the individual components of the forecast, including:\n",
    "\n",
    "- **Trend**: the overall trend of the time series, which captures the long-term movement.\n",
    "- **Seasonalities**: the yearly seasonality patterns captured by the model.\n",
    "- **Holidays**: if any holidays or special events were included in the model."
   ]
  },
  {
   "cell_type": "code",
   "execution_count": null,
   "id": "8db40fb0-668b-477f-a670-c32dcd25d2f7",
   "metadata": {},
   "outputs": [],
   "source": [
    "plot_components_plotly(m_soy, forecast_soy)"
   ]
  },
  {
   "attachments": {},
   "cell_type": "markdown",
   "id": "289aa06e-c09e-4fbc-afbb-f6a2c6871d39",
   "metadata": {},
   "source": [
    "## 2. Building the `prophet` forecasting model\n",
    "\n",
    "Now we will train the prophet forecasting model to predict the price movements of Soybean futures for the next 5 trading days. This process is performed iteratively, allowing the model to be regularly updated with new data to adapt to changing market conditions.\n",
    "\n",
    "First we define the `train_prophet` to train the prophet forecasting model using historical price data of Soybean futures represented by the dataframe `df`. The `forecast_days` parameter specifies the number of trading days into the future for which the model will make predictions. The function returns a dataframe (forecast) containing the predictions for the specified future dates, including the forecasted prices (yhat) and their lower and upper bounds (`yhat_lower` and `yhat_upper`)."
   ]
  },
  {
   "cell_type": "code",
   "execution_count": null,
   "id": "7de555a3-6844-4335-8862-d1d7811d1fc7",
   "metadata": {},
   "outputs": [],
   "source": [
    "def train_prophet(df, forecast_days=5):\n",
    "    m = prophet(daily_seasonality=False)\n",
    "    m.fit(df)\n",
    "    future = m.make_future_dataframe(periods=forecast_days, include_history=False)\n",
    "    future = future[future['ds'].dt.dayofweek < 5] # This ensures that the strategy does not trade on weekends.\n",
    "    forecast = m.predict(future)\n",
    "    \n",
    "    return forecast[['ds', 'yhat', 'yhat_lower', 'yhat_upper']]"
   ]
  },
  {
   "attachments": {},
   "cell_type": "markdown",
   "id": "08d37e64",
   "metadata": {},
   "source": [
    "Next, we define the `iter_prophet` to iteratively train the prophet model using the `train_prophet` function. The `df` dataframe contains historical price data of Soybean futures (or any other commodity). The parameters are as follows:\n",
    "    - `retrain_after_days`: the number of days after which the model will be retrained. This ensures that the model adapts to changing market conditions over time. The default is 5 days.\n",
    "    - `forecast_days`: the number of trading days into the future for which the model will make predictions. This is passed to the `train_prophet` function.\n",
    "    - `min_training_days`: the minimum number of training days required before making the first prediction. This ensures that the model has sufficient historical data to learn meaningful patterns. The default is 750 days."
   ]
  },
  {
   "cell_type": "code",
   "execution_count": null,
   "id": "b51994af-8826-4a8e-9377-1fa4003e45c2",
   "metadata": {},
   "outputs": [],
   "source": [
    "def iter_prophet(df, retrain_after_days=5, forecast_days=5, min_training_days=750):\n",
    "    \n",
    "    iter_forecasts = []\n",
    "    for i in tqdm(range(0, len(df), retrain_after_days)):\n",
    "        forecast = train_prophet(df.loc[:i+min_training_days], forecast_days)\n",
    "        iter_forecasts.append(forecast)\n",
    "    \n",
    "    return pd.concat(iter_forecasts)"
   ]
  },
  {
   "attachments": {},
   "cell_type": "markdown",
   "id": "49c21df5",
   "metadata": {},
   "source": [
    "Finally, the individual forecasts are concatenated into a single dataframe named `df_prophet_soy`, which contains the forecasts for the next 5 trading days."
   ]
  },
  {
   "cell_type": "code",
   "execution_count": null,
   "id": "91cee115-5719-4453-b264-f7943884757f",
   "metadata": {
    "scrolled": true,
    "tags": []
   },
   "outputs": [],
   "source": [
    "# Note - this cell may take up to 20 minutes to run.\n",
    "df_prophet_soy = iter_prophet(df_soy)"
   ]
  },
  {
   "attachments": {},
   "cell_type": "markdown",
   "id": "a347e767",
   "metadata": {},
   "source": [
    "Next, we prepare the forecasted results and merge them with the original historical price data of Soybean futures to create a single dataframe for further analysis and trading decision-making."
   ]
  },
  {
   "cell_type": "code",
   "execution_count": null,
   "id": "8bebac7f-4570-4677-9c2f-a006d60875b3",
   "metadata": {},
   "outputs": [],
   "source": [
    "# Shift the forecasted price data one row upward to align the forecasted prices with the correct trading days.\n",
    "df_prophet_soy[['yhat', 'yhat_lower', 'yhat_upper']] = df_prophet_soy[['yhat', 'yhat_lower', 'yhat_upper']].shift(-1)\n",
    "\n",
    "# Merge the original historical price data (df_soy) and the forecasted results (df_prophet_soy) based on their common 'ds' (date) column. \n",
    "# The merge is performed using an outer join, ensuring that all rows from both dataframes are included in the merged dataframe, even if some dates are missing in either dataframe.\n",
    "merge_df = df_soy.merge(df_prophet_soy, on='ds', how='outer').dropna().set_index('ds')\n",
    "\n",
    "merge_df.head()"
   ]
  },
  {
   "attachments": {},
   "cell_type": "markdown",
   "id": "06498fe4",
   "metadata": {},
   "source": [
    "This dataframe can be visualized in a plot showing the historical price data of Soybean futures along with the forecasted prices for the next 5 trading days generated by the prophetmodel. The merge_df dataframe contains both the historical price data and the forecasted results, which have been merged based on their common date (ds) column.\n",
    "\n",
    "The plot has the following data:\n",
    "- `y` - representing historical price data of Soybean futures\n",
    "- `yhat` - representing forecasted prices for the next 5 trading days, which were generated by the prophetmodel.\n",
    "- `yhat_lower` and `yhat_upper` - representing uncertainty bands"
   ]
  },
  {
   "cell_type": "code",
   "execution_count": null,
   "id": "bd1339d2-3643-4f0b-bd48-a246f4cc076d",
   "metadata": {},
   "outputs": [],
   "source": [
    "merge_df.plot()"
   ]
  },
  {
   "attachments": {},
   "cell_type": "markdown",
   "id": "cf93a324-3451-4074-9f59-0950e88f8c55",
   "metadata": {},
   "source": [
    "## 3. Modelling two mean reversion strategies \n",
    "\n",
    "Now we will create two mean reversion trading strategies are implemented based on the smooth moving average (SMA) and the prophetsignals. The goal is to generate trading signals by identifying potential mean reversion opportunities in the price movements of Soybean futures. \n",
    "\n",
    "### 3.1 Calculating the smooth moving average (SMA)\n",
    "\n",
    "First, we need to calculate the SMA for the historical price data of Soybean futures (`y`). The SMA represents the average price over the specified window and helps smoothen out short-term price fluctuations, highlighting the underlying trend."
   ]
  },
  {
   "cell_type": "code",
   "execution_count": null,
   "id": "03f106f9-af7f-4a47-a8d5-b2d84ea0f5ce",
   "metadata": {},
   "outputs": [],
   "source": [
    "merge_df['sma'] = merge_df['y'].rolling(21*3).mean() # Uses a rolling window of 63 days (21 trading days * 3 weeks)\n",
    "merge_df = merge_df.dropna()\n",
    "\n",
    "# Plot the historical price data of Soybean futures ('y'), the forecasted prices from the prophetmodel ('yhat'), and the calculated SMA on a single chart. \n",
    "merge_df[['y', 'yhat', 'sma']].plot()"
   ]
  },
  {
   "attachments": {},
   "cell_type": "markdown",
   "id": "2dd12ca0-4562-4359-97c2-005f05a03672",
   "metadata": {},
   "source": [
    "### 3.2 Generating mean reversion signals\n",
    "\n",
    "The `get_signal` function below will calculates the mean reversion signal based on the deviation between the chosen mean reversion trend (either `sma` or `yhat` from the forecast) and the actual price data (`y`). The daily percentage difference between the chosen trend and the actual prices is calculated. This quantifies how much the price deviates from the trend. A rolling mean and standard deviation with a window of 63 days (approximately three months) are calculated to provide a sense of the historical average deviation and its variation from the trend. Finally, the Z-score, representing the number of standard deviations by which the daily percentage difference deviates from the historical average, is calculated.\n",
    "\n",
    "The mean reversion signals generated are based on the Z-score. If the Z-score is less than -2, a signal of 1 is generated, indicating a potential buying signal. If the Z-score is greater than 2, a signal of -1 is generated, indicating a potential selling signal. If the Z-score is between -2 and 2, a neutral signal of 0 is generated, indicating no immediate action is recommended for mean reversion. The `signal` column stores these signals."
   ]
  },
  {
   "cell_type": "code",
   "execution_count": null,
   "id": "ce47c18e-a443-4db7-b0da-5f914314476a",
   "metadata": {},
   "outputs": [],
   "source": [
    "def get_signal(df, mean_reversion_trend='sma', z_threshold = 2):\n",
    "    daily_pct_diff = (df[mean_reversion_trend] - merge_df['y']) / merge_df['y']\n",
    "    daily_pct_diff_mean = daily_pct_diff.rolling(63).mean()\n",
    "    daily_pct_diff_std = daily_pct_diff.rolling(63).std()\n",
    "    z_score = (daily_pct_diff - daily_pct_diff_mean) / daily_pct_diff_std\n",
    "    df['signal'] = np.where(z_score < -2, 1, np.where(z_score > 2, -1, 0))\n",
    "    return df"
   ]
  },
  {
   "attachments": {},
   "cell_type": "markdown",
   "id": "d8395a29",
   "metadata": {},
   "source": [
    "### 3.3 Backtesting the performance of the mean reversion strategies\n",
    "\n",
    "After defining a function for generating mean reversion signals we can use `SignalStrategy` to backtest the performance of a strategy which trades based on these signals. A `SignalStrategy` requires a signal dataframe as an input (this is a pandas dataframe where the column headers are the instrument names and the values are the signals for each of the instruments). These signals can be either a number of units *or* a weight. In this case, the possible values are 1, -1 and 0, based on the Z-scores.\n",
    "\n",
    "The strategy's start date is set to the first valid index date in the dataframe, and rebalancing is done daily. For more information on the `SignalStrategy` refer to its docstring."
   ]
  },
  {
   "cell_type": "code",
   "execution_count": null,
   "id": "8849eefe",
   "metadata": {},
   "outputs": [],
   "source": [
    "sig.SignalStrategy?"
   ]
  },
  {
   "cell_type": "code",
   "execution_count": null,
   "id": "759b14e9-f60e-474f-9287-b23f3870a22a",
   "metadata": {},
   "outputs": [],
   "source": [
    "df_mean_reversion_prophet_signal = get_signal(merge_df, mean_reversion_trend='yhat')\n",
    "df_signal = df_mean_reversion_prophet_signal['signal'].rename(soy.name).to_frame()\n",
    "prophet_strategy = sig.SignalStrategy(\n",
    "    signal_input=df_signal,\n",
    "    start_date=df_signal.first_valid_index().date(),\n",
    "    rebalance_frequency='1BD'\n",
    ")"
   ]
  },
  {
   "cell_type": "code",
   "execution_count": null,
   "id": "35a96efe-4a1b-4a0e-a89d-b78c5e1f86f1",
   "metadata": {
    "tags": []
   },
   "outputs": [],
   "source": [
    "df_mean_reversion_sma_signal = get_signal(merge_df, mean_reversion_trend='sma')\n",
    "df_signal_sma = df_mean_reversion_sma_signal['signal'].rename(soy.name).to_frame()\n",
    "sma_strategy = sig.SignalStrategy(\n",
    "    signal_input=df_signal_sma,\n",
    "    start_date=df_signal_sma.first_valid_index().date(),\n",
    "    rebalance_frequency='1BD'\n",
    ")"
   ]
  },
  {
   "attachments": {},
   "cell_type": "markdown",
   "id": "28bc41ea",
   "metadata": {},
   "source": [
    "Finally, we can plot the performance of the mean reversion strategies."
   ]
  },
  {
   "cell_type": "code",
   "execution_count": null,
   "id": "5c5a6d0c-9f65-4f94-a615-188bd54ea92a",
   "metadata": {},
   "outputs": [],
   "source": [
    "sma_strategy.history().plot(legend=True)\n",
    "prophet_strategy.history().plot(legend=True)"
   ]
  },
  {
   "attachments": {},
   "cell_type": "markdown",
   "id": "2bdef990-5675-4b32-b429-29f3211f5e09",
   "metadata": {},
   "source": [
    "Our strategy outperforms! Let's build a basket for three grain contracts - Wheat, Soy, Corn."
   ]
  },
  {
   "attachments": {},
   "cell_type": "markdown",
   "id": "5ce0eaab-8829-4f25-83d7-eece5820f314",
   "metadata": {},
   "source": [
    "## 4. Building our basket of grains\n",
    "\n",
    "The following code builds a diversified grain basket strategy by combining the mean reversion signals from three grain contracts (Corn, Soybean, and Wheat) based on the prophet signals. The performance of the strategy is then plotted to visualize its historical returns.\n",
    "\n",
    "The `def_prophet_signal` function generates the mean reversion signals for a specific grain contract based on the prophet signals. The `contract_code` is used to identify the specific grain contract (e.g., `S` for Soybean, `C` for Corn, and `W` for Wheat). It uses `RollingFutureStrategy` to simulate historical rolling futures strategies for each grain and `history` to populate the historical price data into the `rfs_df`. \n",
    "\n",
    "The function `iter_prophet()` is called to train the prophet model and generate forecasts for the specified grain contract. The resulting dataframe `df_prophet` contains the forecasted prices, lower bounds, and upper bounds for the contract. The forecasted prices and bounds are shifted up one position to align them with the correct trading days. Then, the historical price data (`rfs_df`) and the forecasted results (`df_prophet`) are merged based on their common `ds` (date) column using an outer join. Any rows with missing data resulting from the merge are dropped, and the `ds` column is set as the index. The `get_signal()` function is used to generate the mean reversion signals based on the Prophet forecasted prices (`yhat`).\n",
    "\n",
    "Finally, a signal dataframe (`df_signal`) is created. This is required to use `SignalStrategy`. The mean reversion signals are extracted from `signal` and stored in `df_signal` and the column is then renamed using the grain contract's name."
   ]
  },
  {
   "cell_type": "code",
   "execution_count": null,
   "id": "944f59f8-257c-4881-b58b-aa5c651f26af",
   "metadata": {},
   "outputs": [],
   "source": [
    "def get_prophet_signal(contract_code):\n",
    "    rfs = sig.RollingFutureStrategy(contract_code=contract_code, contract_sector='COMDTY')\n",
    "    rfs_df = rfs.history().reset_index().rename({'date': 'ds', rfs.name: 'y'}, axis=1)\n",
    "    df_prophet= iter_prophet(rfs_df)\n",
    "    df_prophet[['yhat', 'yhat_lower', 'yhat_upper']] = df_prophet[['yhat', 'yhat_lower', 'yhat_upper']].shift(-1)\n",
    "    merge_df = rfs_df.merge(df_prophet, on='ds', how='outer').dropna().set_index('ds')\n",
    "    signal = get_signal(merge_df, mean_reversion_trend='yhat')\n",
    "    df_signal = signal['signal'].rename(rfs.name).to_frame()\n",
    "    return df_signal"
   ]
  },
  {
   "attachments": {},
   "cell_type": "markdown",
   "id": "1e2b6d73",
   "metadata": {},
   "source": [
    "Next, for each grain contract, the mean reversion signals are obtained using the `get_prophet_signal()` function, and the signals are appended to the `all_prophet_signals` list."
   ]
  },
  {
   "cell_type": "code",
   "execution_count": null,
   "id": "ca2ee74f-ced0-42d2-9171-aa942df8b536",
   "metadata": {
    "scrolled": true,
    "tags": []
   },
   "outputs": [],
   "source": [
    "# Note - this cell may take up to an hour to run.\n",
    "all_prophet_signals = []\n",
    "for c in 'S', 'C', 'W':\n",
    "    all_prophet_signals.append(get_prophet_signal(c))"
   ]
  },
  {
   "attachments": {},
   "cell_type": "markdown",
   "id": "e4926cb4",
   "metadata": {},
   "source": [
    "To use in our `SignalStrategy` the mean reversion signals for all three grain contracts are combined into a single dataframe (`df_all`) by concatenating them along the columns axis. The weights for each grain contract are assigned as 0.33 (assuming an equal allocation among the three contracts)."
   ]
  },
  {
   "cell_type": "code",
   "execution_count": null,
   "id": "1cd5a5fc-c3a3-423c-aff8-832bd8fd262a",
   "metadata": {},
   "outputs": [],
   "source": [
    "df_all = pd.concat(all_prophet_signals, axis=1) * 0.33\n",
    "\n",
    "df_all.tail()"
   ]
  },
  {
   "attachments": {},
   "cell_type": "markdown",
   "id": "46297190",
   "metadata": {},
   "source": [
    "Finally, a `SignalStrategy` is defined for our basket of grains using the combined mean reversion signals from all grain contracts (`df_all`). The start date is set to January 4, 2014, and rebalancing is done on a daily basis."
   ]
  },
  {
   "cell_type": "code",
   "execution_count": null,
   "id": "60af7b7c",
   "metadata": {},
   "outputs": [],
   "source": [
    "all_prophet_strategy = sig.SignalStrategy(\n",
    "    signal_input=df_all,\n",
    "    start_date=dtm.date(2014, 1, 4),\n",
    "    rebalance_frequency='1BD'\n",
    ")"
   ]
  },
  {
   "attachments": {},
   "cell_type": "markdown",
   "id": "a7999850",
   "metadata": {},
   "source": [
    "The performance of our strategy can be seen in the following plot."
   ]
  },
  {
   "cell_type": "code",
   "execution_count": null,
   "id": "e94dc79c-32cc-446a-a777-3e7c4c5ce5ee",
   "metadata": {},
   "outputs": [],
   "source": [
    "all_prophet_strategy.history().plot()"
   ]
  }
 ],
 "metadata": {
  "kernelspec": {
   "display_name": "Python 3",
   "language": "python",
   "name": "python3"
  },
  "language_info": {
   "codemirror_mode": {
    "name": "ipython",
    "version": 3
   },
   "file_extension": ".py",
   "mimetype": "text/x-python",
   "name": "python",
   "nbconvert_exporter": "python",
   "pygments_lexer": "ipython3",
   "version": "3.11.3"
  },
  "vscode": {
   "interpreter": {
    "hash": "e483b20f2aef0cfe437b9ea488667fd01f59262bbb79f624806c97e02b0e6267"
   }
  }
 },
 "nbformat": 4,
 "nbformat_minor": 5
}
