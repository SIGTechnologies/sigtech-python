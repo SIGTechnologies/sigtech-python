{
 "cells": [
  {
   "attachments": {},
   "cell_type": "markdown",
   "id": "a8938465",
   "metadata": {},
   "source": [
    "# Example 8: FX carry strategy\n",
    "\n",
    "## Pre-requisites\n",
    "### 1. If you have not opened the notebook in Colab, select the button below\n",
    "<a href=\"https://githubtocolab.com/SIGTechnologies/sigtech-python/blob/master/examples/8_FX_Carry_Strategy.ipynb\">\n",
    "    <img src=\"https://sigtech.com/wp-content/uploads/2023/08/grey_google_colab.svg\"></a>\n",
    "\n",
    "### 2. Get a FRED API key\n",
    "This notebook uses the FREDAPI library and requires you to have an API key for Federal Reserve Economic Data. Get one [here](https://fred.stlouisfed.org/docs/api/api_key.html).\n",
    "\n",
    "### 3. Enter your Sigtech and FRED API keys\n",
    "After pasting in your API keys, you need to run the cell. In Colab, hover your cursor over an individual code cell and click play to run it.\n",
    ">**Tip**!\\\n",
    ">After pasting in your API keys, you can press `CTRL-F9` (Windows) or `⌘-F9` (Mac) to run the entire notebook at once."
   ]
  },
  {
   "cell_type": "code",
   "execution_count": null,
   "id": "e269a146",
   "metadata": {},
   "outputs": [],
   "source": [
    "# Install FRED API and our Python SDK\n",
    "%pip install sigtech \n",
    "%pip install fredapi\n",
    "\n",
    "# Import OS and our Python SDK\n",
    "import sigtech.api as sig\n",
    "import os\n",
    "\n",
    "# Define your API key as a string. Remember to delete it before sharing your notebook with others. Replace \n",
    "# <YOUR_API_KEY> with the API key you have generated. e.g. os.environ['SIGTECH_API_KEY'] = 'sig_A1B2C3D4E5f6g7h8i9'\n",
    "os.environ['SIGTECH_API_KEY'] = '<YOUR_API_KEY>'\n",
    "\n",
    "# Define your FRED API key as a string. Remember to delete it before sharing your notebook with others. Replace \n",
    "# FRED_API_KEY with the API key you have generated. e.g. os.environ[\"FRED_API_KEY\"]=\"abcdefghijklmnopqrstuvwxyz123456\")\n",
    "from fredapi import Fred\n",
    "fred = Fred(api_key=os.environ[\"FRED_API_KEY\"])\n",
    "\n",
    "# Note - if this cell does not run in Colab, delete the line fred = Fred(api_key=os.environ[\"FRED_API_KEY\"]) and replace it with:\n",
    "# os.environ[\"FRED\"] = \"FRED_API_KEY\"\n",
    "# fred = Fred(api_key=os.environ[\"FRED\"])"
   ]
  },
  {
   "cell_type": "markdown",
   "id": "344a347d",
   "metadata": {},
   "source": [
    "### 4. Set up your Colab environment"
   ]
  },
  {
   "cell_type": "code",
   "execution_count": null,
   "id": "9c90933a",
   "metadata": {},
   "outputs": [],
   "source": [
    "# Import any additional Python libraries you require.\n",
    "import datetime as dtm\n",
    "import pandas as pd\n",
    "import numpy as np\n",
    "import matplotlib.pyplot as plt\n",
    "\n",
    "# Set any parameters \n",
    "plt.rcParams['figure.figsize'] = [16, 8]"
   ]
  },
  {
   "attachments": {},
   "cell_type": "markdown",
   "id": "cd1d9626",
   "metadata": {},
   "source": [
    "### 5. Create a session\n",
    "\n",
    "After installing our Python SDK, defining your API key, importing any additional Python libraries or functions you require, and setting any default parameters, initialize your session."
   ]
  },
  {
   "cell_type": "code",
   "execution_count": null,
   "id": "1815d78c",
   "metadata": {},
   "outputs": [],
   "source": [
    "sig.init()"
   ]
  },
  {
   "attachments": {},
   "cell_type": "markdown",
   "id": "026c8adf",
   "metadata": {},
   "source": [
    "## Introduction to an FX carry strategy\n",
    "\n",
    "An FX carry strategy aims to capitalize on the difference in interest rates between two currencies. The strategy involves borrowing in a currency with a low-interest rate and investing in a currency with a high-interest rate, thereby earning the \"carry\", i.e. the difference between the two rates.\n",
    "\n",
    "## Our strategy\n",
    "- Fetch historical federal funds rate data to use as a benchmark interest rate for the U.S. dollar (USD).\n",
    "- Get the historical interest rates of various currencies and compare them to the benchmark USD interest rate. \n",
    "- Calculate the carry ratio for each pair and uses it to generate trading signals.\n",
    "- Create a trading strategy using these signals and plot its performance. \n",
    "\n",
    "## 1. Get historical data\n",
    "First, we will use the FRED API to retrieve the historical federal funds rate."
   ]
  },
  {
   "cell_type": "code",
   "execution_count": null,
   "id": "046a5259-80bd-4886-a21f-1c884a28086b",
   "metadata": {},
   "outputs": [],
   "source": [
    "fedfunds = fred.get_series('FEDFUNDS').loc[dtm.date(2010,1,10):]"
   ]
  },
  {
   "cell_type": "code",
   "execution_count": null,
   "id": "bfee6868-772a-4a00-9735-6dec19366e02",
   "metadata": {},
   "outputs": [],
   "source": [
    "fedfunds.plot()"
   ]
  },
  {
   "attachments": {},
   "cell_type": "markdown",
   "id": "44e7153e",
   "metadata": {},
   "source": [
    "Next, we will create a universe of the currencies whose interest rates we want to compare to the federal funds rate and map them to their code in the FRED API. "
   ]
  },
  {
   "cell_type": "code",
   "execution_count": null,
   "id": "07f19bfc-0211-4aed-8d19-aab008938a10",
   "metadata": {},
   "outputs": [],
   "source": [
    "universe_mapping = {\n",
    "    'AD' : 'IR3TIB01AUM156N', # AUDUSD\n",
    "    'BP' : 'IR3TIB01GBM156N', # GBPUSD\n",
    "    'CD' : 'IR3TIB01CAM156N', # CADUSD\n",
    "    'EC' : 'IR3TIB01EZM156N', # EURUSD\n",
    "    'NV' : 'IR3TIB01NZM156N', # NZDUSD\n",
    "    'SF' : 'IR3TIB01NZM156N', # CHFUSD\n",
    "}"
   ]
  },
  {
   "attachments": {},
   "cell_type": "markdown",
   "id": "9b230a24",
   "metadata": {},
   "source": [
    "## 2. Calculate the carry ratio and generate trading signals\n",
    "The carry ratio is calculated by subtracting the Federal Funds Rate from the interest rate of the other currency in the pair (which is fetched using the FRED API). This differential effectively tells you how much more (or less) you could earn by holding one currency over the other."
   ]
  },
  {
   "cell_type": "code",
   "execution_count": null,
   "id": "5f624f87-1227-49fa-ac0c-6e7f1bb3c5ed",
   "metadata": {},
   "outputs": [],
   "source": [
    "carry_ratio = pd.DataFrame({x: (fred.get_series(y).loc[dtm.date(2010,1,10):] - fedfunds) for x, y in universe_mapping.items()})"
   ]
  },
  {
   "cell_type": "code",
   "execution_count": null,
   "id": "f750b032-e13c-41ab-a9bd-ef6789600dba",
   "metadata": {},
   "outputs": [],
   "source": [
    "carry_ratio"
   ]
  },
  {
   "attachments": {},
   "cell_type": "markdown",
   "id": "f4493347",
   "metadata": {},
   "source": [
    "The interest rate differential (carry ratio) is then used to generate trading signals. By incorporating the Federal Funds Rate, the strategy can aim for a \"dollar-neutral\" portfolio, where the sum of all USD exposures is zero. This helps in isolating the carry trade as the primary source of profit or loss, rather than directional moves in the USD itself."
   ]
  },
  {
   "cell_type": "code",
   "execution_count": null,
   "id": "f1050bec-7159-42eb-ac13-44ef550a5632",
   "metadata": {},
   "outputs": [],
   "source": [
    "def long_short_dollar_neutral(ts: pd.DataFrame, proportion: float) -> pd.DataFrame:\n",
    "    \"\"\"\n",
    "    This function creates a long-short dollar-neutral portfolio based on the input time series of asset signals.\n",
    "    \n",
    "    :param ts: DataFrame containing time series data of asset signals.\n",
    "    :param proportion: Proportion of assets to take long and short positions in.\n",
    "    :return: DataFrame containing the long-short allocations for each asset.\n",
    "    \"\"\"\n",
    "    \n",
    "    # Check if the proportion value is within the valid range [0, 1]\n",
    "    assert 0 <= proportion <= 1, f'proportion must be between 0 and 1, \"{proportion}\" supplied.'\n",
    "\n",
    "    # Helper function to calculate long and short positions for each row in the time series\n",
    "    def calc_signal_on_d(ts_row):\n",
    "        # Drop NaN values from the row\n",
    "        ts_row = ts_row.dropna()\n",
    "        \n",
    "        # Calculate the number of assets to go long and short on\n",
    "        n = int(len(ts_row) * proportion)\n",
    "        \n",
    "        # Take long positions on the top 'n' assets and short positions on the bottom 'n' assets\n",
    "        row_output = pd.concat([pd.Series(1, index=ts_row.nlargest(n).index),\n",
    "                                pd.Series(-1, index=ts_row.nsmallest(n).index)])\n",
    "        \n",
    "        # Remove duplicate indices to maintain dollar neutrality\n",
    "        return row_output.loc[row_output.index.drop_duplicates(keep=False)]\n",
    "\n",
    "    # Calculate long and short positions for each date and concatenate them into a DataFrame\n",
    "    df = pd.concat({d: calc_signal_on_d(ts.loc[d]) for d in ts.index}, axis=1, sort=True).T.fillna(0)\n",
    "    \n",
    "    # Normalize the allocations to make the portfolio dollar-neutral\n",
    "    return df.divide(df.abs().sum(axis=1), axis=0)\n"
   ]
  },
  {
   "attachments": {},
   "cell_type": "markdown",
   "id": "425ffbd2",
   "metadata": {},
   "source": [
    "## 3. Create a signal strategy and view its performance\n",
    "\n",
    "Firstly, we need to use the `long_short_dollar_neutral` function to generate a DataFrame which can be used as a `signal_input` in our SDK's `SignalStrategy` class. "
   ]
  },
  {
   "cell_type": "code",
   "execution_count": null,
   "id": "1ef74113-93eb-4e66-91ed-b317a883d421",
   "metadata": {},
   "outputs": [],
   "source": [
    "all_signals = long_short_dollar_neutral(carry_ratio, 0.5)"
   ]
  },
  {
   "cell_type": "code",
   "execution_count": null,
   "id": "9e6bcb99-f6d8-4bc1-9c8b-763bc24fd9d6",
   "metadata": {},
   "outputs": [],
   "source": [
    "signal_df = all_signals.dropna()"
   ]
  },
  {
   "attachments": {},
   "cell_type": "markdown",
   "id": "d29d3dcf",
   "metadata": {},
   "source": [
    "As part of getting `signal_df` in the correct format, we need to change the names of the column rows to match the names of those instruments in the SigTech API. "
   ]
  },
  {
   "cell_type": "code",
   "execution_count": null,
   "id": "bc025de2-10b5-4eec-844e-f0b43d5331bd",
   "metadata": {},
   "outputs": [],
   "source": [
    "signal_df.columns = [sig.RollingFutureStrategy(contract_code = code, contract_sector = 'CURNCY').name for code in universe_mapping.keys()]\n",
    "signal_df"
   ]
  },
  {
   "attachments": {},
   "cell_type": "markdown",
   "id": "aea5d24b",
   "metadata": {},
   "source": [
    "Then, we can create and plot the signal strategy."
   ]
  },
  {
   "cell_type": "code",
   "execution_count": null,
   "id": "a6ea207e-8b38-4fba-9f41-c731d182cb29",
   "metadata": {},
   "outputs": [],
   "source": [
    "strat = sig.SignalStrategy(\n",
    "    currency = 'USD',\n",
    "    start_date = dtm.date(2010,2,10),\n",
    "    signal_input = signal_df,\n",
    "    rebalance_frequency = 'EOM' # The signal strategy rebalances at the end of each month. \n",
    ")\n"
   ]
  },
  {
   "cell_type": "code",
   "execution_count": null,
   "id": "0e659347-fd63-4645-86b8-7c2b80bfc464",
   "metadata": {},
   "outputs": [],
   "source": [
    "strat.history().plot()"
   ]
  }
 ],
 "metadata": {
  "kernelspec": {
   "display_name": "Python 3",
   "language": "python",
   "name": "python3"
  },
  "language_info": {
   "codemirror_mode": {
    "name": "ipython",
    "version": 3
   },
   "file_extension": ".py",
   "mimetype": "text/x-python",
   "name": "python",
   "nbconvert_exporter": "python",
   "pygments_lexer": "ipython3",
   "version": "3.11.3"
  },
  "vscode": {
   "interpreter": {
    "hash": "e483b20f2aef0cfe437b9ea488667fd01f59262bbb79f624806c97e02b0e6267"
   }
  }
 },
 "nbformat": 4,
 "nbformat_minor": 5
}
