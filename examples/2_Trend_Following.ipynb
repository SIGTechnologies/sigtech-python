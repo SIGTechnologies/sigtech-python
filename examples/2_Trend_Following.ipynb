{
 "cells": [
  {
   "cell_type": "markdown",
   "metadata": {},
   "source": [
    "# FX Futures Trend Following Strategy\n",
    "\n",
    "This Jupyter Notebook code implements an FX Futures Trend Following Strategy using the SigTech API."
   ]
  },
  {
   "cell_type": "code",
   "execution_count": null,
   "metadata": {},
   "outputs": [],
   "source": [
    "# Importing required libraries\n",
    "import os\n",
    "import sigtech.api as sig\n",
    "import datetime as dtm\n",
    "import pandas as pd\n",
    "import ta\n",
    "import numpy as np\n",
    "\n",
    "# initialize environment and session\n",
    "sig.init()"
   ]
  },
  {
   "cell_type": "code",
   "execution_count": null,
   "metadata": {},
   "outputs": [],
   "source": [
    "# Defining the assets dictionary\n",
    "assets = {\n",
    "    \"AD\": \"CURNCY\",\n",
    "    \"CD\": \"CURNCY\",\n",
    "    \"SF\": \"CURNCY\",\n",
    "    \"EC\": \"CURNCY\",\n",
    "    \"BP\": \"CURNCY\",\n",
    "    \"JY\": \"CURNCY\",\n",
    "    \"NO\": \"CURNCY\",\n",
    "    \"NV\": \"CURNCY\",\n",
    "    \"SE\": \"CURNCY\",\n",
    "    \"DX\": \"CURNCY\"\n",
    "}\n"
   ]
  },
  {
   "cell_type": "code",
   "execution_count": null,
   "metadata": {},
   "outputs": [],
   "source": [
    "# Creating strategies for each asset\n",
    "strategies = {}\n",
    "for contract_code, contract_sector in assets.items():\n",
    "    strategy = sig.RollingFutureStrategy(\n",
    "        contract_code=contract_code,\n",
    "        contract_sector=contract_sector,\n",
    "        currency='USD',\n",
    "        start_date='2011-01-01',\n",
    "        rolling_rule='front',\n",
    "        front_offset='-4:-1'\n",
    "    )\n",
    "    strategies[contract_code] = strategy  # store the strategy\n"
   ]
  },
  {
   "cell_type": "code",
   "execution_count": null,
   "metadata": {},
   "outputs": [],
   "source": [
    "# Generating signals and ranking them\n",
    "signals = {}\n",
    "for asset, strategy in strategies.items():\n",
    "    signals[strategy.name] = strategy.history().pct_change(61)\n",
    "\n",
    "signals_df = pd.concat(signals, join=\"inner\", axis=1).dropna()\n",
    "\n",
    "ranked_signals_df = signals_df.rank(axis=1, method='max', ascending=False)\n",
    "final_rank_df = signals_df.copy()\n",
    "pct = .20\n",
    "top = round(pct*(len(ranked_signals_df.columns)))\n",
    "bottom = (len(ranked_signals_df.columns) - top)\n",
    "final_rank_df[ranked_signals_df <= top] = 1\n",
    "final_rank_df[ranked_signals_df > bottom] = -1\n",
    "final_rank_df[(ranked_signals_df >= top) & (ranked_signals_df <= bottom)] = 0"
   ]
  },
  {
   "cell_type": "code",
   "execution_count": null,
   "metadata": {},
   "outputs": [],
   "source": [
    "# Displaying tail of the dataframes\n",
    "signals_df.tail(10)\n",
    "ranked_signals_df.tail(10)\n",
    "final_rank_df.tail(10)"
   ]
  },
  {
   "cell_type": "code",
   "execution_count": null,
   "metadata": {},
   "outputs": [],
   "source": [
    "# Creating a momentum strategy\n",
    "momentum_strategy = sig.SignalStrategy(\n",
    "    signal_input=final_rank_df,\n",
    "    currency='USD',\n",
    "    start_date=final_rank_df.first_valid_index().date(),\n",
    "    rebalance_frequency='EOM'\n",
    ")"
   ]
  },
  {
   "cell_type": "code",
   "execution_count": null,
   "metadata": {},
   "outputs": [],
   "source": [
    "# Plotting the strategy's history\n",
    "momentum_strategy.history().plot(figsize=(20, 10))"
   ]
  },
  {
   "cell_type": "markdown",
   "metadata": {},
   "source": [
    "Please note that the implementation assumes the availability of the `sigtech.api` module, which is not provided here."
   ]
  }
 ],
 "metadata": {
  "kernelspec": {
   "display_name": "Python 3",
   "language": "python",
   "name": "python3"
  },
  "language_info": {
   "codemirror_mode": {
    "name": "ipython",
    "version": 3
   },
   "file_extension": ".py",
   "mimetype": "text/x-python",
   "name": "python",
   "nbconvert_exporter": "python",
   "pygments_lexer": "ipython3",
   "version": "3.11.3"
  },
  "orig_nbformat": 4,
  "vscode": {
   "interpreter": {
    "hash": "e483b20f2aef0cfe437b9ea488667fd01f59262bbb79f624806c97e02b0e6267"
   }
  }
 },
 "nbformat": 4,
 "nbformat_minor": 2
}
nb