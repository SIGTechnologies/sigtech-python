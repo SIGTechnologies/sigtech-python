{
 "cells": [
  {
   "attachments": {},
   "cell_type": "markdown",
   "metadata": {},
   "source": [
    "# Example 2: FX futures momentum strategy\n",
    "\n",
    "## Pre-requisites\n",
    "### 1. If you have not opened the notebook in Colab, select the button below\n",
    "<a href=\"https://githubtocolab.com/SIGTechnologies/sigtech-python/blob/master/examples/notebooks/02_FX_Futures_Momentum.ipynb\">\n",
    "    <img src=\"https://sigtech.com/wp-content/uploads/2023/08/grey_google_colab.svg\"></a>\n",
    "\n",
    "### 2. Enter your API key\n",
    "After pasting in your API key, you need to run the cell. In Colab, hover your cursor over an individual code cell and click play to run it.\n",
    ">**Tip**!\\\n",
    ">After pasting in your API key, you can press `CTRL-F9` (Windows) or `⌘-F9` (Mac) to run the entire notebook at once."
   ]
  },
  {
   "cell_type": "code",
   "execution_count": null,
   "metadata": {},
   "outputs": [],
   "source": [
    "# Install our Python SDK\n",
    "%pip install sigtech \n",
    "\n",
    "# Import OS and our Python SDK\n",
    "import sigtech.api as sig\n",
    "import os\n",
    "\n",
    "# Define your API key as a string. Remember to delete it before sharing your notebook with others. Replace \n",
    "# <YOUR_API_KEY> with the API key you have generated. e.g. os.environ['SIGTECH_API_KEY'] = 'sig_A1B2C3D4E5f6g7h8i9'\n",
    "os.environ['SIGTECH_API_KEY'] = '<YOUR_API_KEY>'"
   ]
  },
  {
   "cell_type": "markdown",
   "metadata": {},
   "source": [
    "### 3. Set up your Colab environment"
   ]
  },
  {
   "cell_type": "code",
   "execution_count": null,
   "metadata": {},
   "outputs": [],
   "source": [
    "# Install ta as it is not included in Colab\n",
    "%pip install ta\n",
    "\n",
    "# Import any additional Python libraries you require.\n",
    "import datetime as dtm\n",
    "import pandas as pd\n",
    "import ta\n",
    "import numpy as np"
   ]
  },
  {
   "attachments": {},
   "cell_type": "markdown",
   "metadata": {},
   "source": [
    "### 4. Create a session\n",
    "After installing our Python SDK, defining your API key, importing any additional Python libraries or functions you require, and setting any default parameters, initialize your session."
   ]
  },
  {
   "cell_type": "code",
   "execution_count": null,
   "metadata": {},
   "outputs": [],
   "source": [
    "sig.init()"
   ]
  },
  {
   "attachments": {},
   "cell_type": "markdown",
   "metadata": {},
   "source": [
    "## Introduction to an FX futures momentum strategy\n",
    "An FX futures momentum strategy is a trading strategy that aims to capitalize on the persistence of trends in currency futures prices. The basic idea behind the strategy is to go long (buy) on currency futures that have exhibited strong positive returns over a certain period and go short (sell) on those with weak returns.\n",
    "\n",
    "## Our strategy\n",
    "- We will define a dictionary of FX assets and create a `RollingFutureStrategy` for each asset.\n",
    "- For each asset's rolling futures strategy, we will calculate historical percentage changes (returns) over time and use these to generate signals for the strategy. After generating the signals, we will rank the strategies in descending order using the rank method. The top 20% will be longed and the bottom 20% will be shorted.\n",
    "- Finally, the ranked signals for each contract will be combined into a signal DataFrame and input into the `SignalStrategy` class to create the trend following strategy.\n",
    "\n",
    "## 1. Create the assets\n",
    "\n",
    "We define our currency futures assets in a dictionary mapping the contract codes to the contract sector for use in a `for` loop to generate a `RollingFutureStrategy` for each asset."
   ]
  },
  {
   "cell_type": "code",
   "execution_count": null,
   "metadata": {},
   "outputs": [],
   "source": [
    "assets = {\n",
    "    \"AD\": \"CURNCY\",\n",
    "    \"CD\": \"CURNCY\",\n",
    "    \"SF\": \"CURNCY\",\n",
    "    \"EC\": \"CURNCY\",\n",
    "    \"BP\": \"CURNCY\",\n",
    "    \"JY\": \"CURNCY\",\n",
    "    \"NO\": \"CURNCY\",\n",
    "    \"NV\": \"CURNCY\",\n",
    "    \"SE\": \"CURNCY\",\n",
    "    \"DX\": \"CURNCY\"\n",
    "}\n"
   ]
  },
  {
   "cell_type": "code",
   "execution_count": null,
   "metadata": {},
   "outputs": [],
   "source": [
    "strategies = {}  \n",
    "\n",
    "for contract_code, contract_sector in assets.items():\n",
    "    strategy = sig.RollingFutureStrategy(\n",
    "        contract_code=contract_code,\n",
    "        contract_sector=contract_sector,\n",
    "        currency='USD',\n",
    "        start_date='2011-01-01',\n",
    "        rolling_rule='front', \n",
    "        # Roll to the contract month with an expiration date closest to the current date.\n",
    "        front_offset='-4:-1' \n",
    "        # Specifies the number of business days before first delivery notice date (or expiry \n",
    "        # date for cash settled futures) to start and finish the roll.\n",
    "    )\n",
    "    strategies[contract_code] = strategy  # Store the generated strategies in a dictionary."
   ]
  },
  {
   "attachments": {},
   "cell_type": "markdown",
   "metadata": {},
   "source": [
    "## 2. Generate signals\n",
    "The function below is used to generate trading signals and rank them based on their performance. The top 20% will be assigned a value of 1 and signify when to take a long position, conversely the bottom 20% will be assigned a value of -1 and signify when to take a short position. The remaining signals will be given a value of 0 and signify when to be market-neutral."
   ]
  },
  {
   "cell_type": "code",
   "execution_count": null,
   "metadata": {},
   "outputs": [],
   "source": [
    "signals ={}\n",
    "\n",
    "# For each strategy, calculate the percentage change in its historical performance over a 61-day \n",
    "# period using the pct_change method applied to the strategy's historical data.\n",
    "for asset, strategy in strategies.items():\n",
    "    signals[strategy.name] = strategy.history().pct_change(61)\n",
    "\n",
    "# Concatenate the signals from different strategies into a single DataFrame called signals_df.\n",
    "signals_df = pd.concat(signals, join=\"inner\", axis=1).dropna()\n",
    "\n",
    "# Apply the rank method to signals_df. \n",
    "# axis=1 parameter means ranking is done horizontally (by date).\n",
    "# method='max' means if there are ties (signals with equal value), the highest rank will be assigned. \n",
    "# ascending=False parameter ensures that higher signal values receive higher ranks.\n",
    "ranked_signals_df = signals_df.rank(axis=1, method='max', ascending = False)\n",
    "\n",
    "\n",
    "final_rank_df = signals_df.copy()\n",
    "pct = .20\n",
    "\n",
    "top = round(pct*(len(ranked_signals_df.columns)))\n",
    "bottom = (len(ranked_signals_df.columns) - top)\n",
    "\n",
    "# For the top-ranked signals, set their values to 1 in final_rank_df, signalling a long position.\n",
    "final_rank_df[ranked_signals_df <= top] = 1 \n",
    "\n",
    "# For the bottom-ranked signals, set their values to -1 in final_rank_df, signalling a short position.\n",
    "final_rank_df[ranked_signals_df > bottom] = -1\n",
    "\n",
    "# For the signals falling between the top and bottom ranks, set their values to 0 in final_rank_df, \n",
    "# signalling a neutral position.\n",
    "final_rank_df[(ranked_signals_df >= top) & (ranked_signals_df <= bottom)] = 0"
   ]
  },
  {
   "attachments": {},
   "cell_type": "markdown",
   "metadata": {},
   "source": [
    "The following `.tail` codeblocks show how the original signal DataFrame is transformed to a DataFrame ranking the various signals and then into a DataFrame which is compatible with `SignalStrategy`. \n",
    "\n",
    " > A `SignalStrategy` requires a `signal_input`. This is a pandas DataFrame where the column headers are the instrument names and the values are the signals for each of the instruments. These signals can be either a number of units *or* a weight."
   ]
  },
  {
   "cell_type": "code",
   "execution_count": null,
   "metadata": {},
   "outputs": [],
   "source": [
    "signals_df.tail(10)"
   ]
  },
  {
   "cell_type": "code",
   "execution_count": null,
   "metadata": {},
   "outputs": [],
   "source": [
    "ranked_signals_df.tail(10)"
   ]
  },
  {
   "cell_type": "code",
   "execution_count": null,
   "metadata": {},
   "outputs": [],
   "source": [
    "final_rank_df.tail(10)"
   ]
  },
  {
   "attachments": {},
   "cell_type": "markdown",
   "metadata": {},
   "source": [
    "## 3. Backtest the FX futures momentum strategy\n",
    "\n",
    "Our signal DataFrame (`final_rank_df`) is used as the input for a `SignalStrategy` which rebalances at the end of each month."
   ]
  },
  {
   "cell_type": "code",
   "execution_count": null,
   "metadata": {},
   "outputs": [],
   "source": [
    "momentum_strategy = sig.SignalStrategy(\n",
    "    signal_input=final_rank_df,\n",
    "    currency = 'USD',\n",
    "    start_date = final_rank_df.first_valid_index().date(),\n",
    "    rebalance_frequency = 'EOM',\n",
    ")"
   ]
  },
  {
   "attachments": {},
   "cell_type": "markdown",
   "metadata": {},
   "source": [
    "We can now get the historical performance of our strategy using `.history()` and plot these values using `.plot()`."
   ]
  },
  {
   "cell_type": "code",
   "execution_count": null,
   "metadata": {},
   "outputs": [],
   "source": [
    "momentum_strategy.history().plot(figsize=(20,10))"
   ]
  }
 ],
 "metadata": {
  "kernelspec": {
   "display_name": "Python 3",
   "language": "python",
   "name": "python3"
  },
  "language_info": {
   "codemirror_mode": {
    "name": "ipython",
    "version": 3
   },
   "file_extension": ".py",
   "mimetype": "text/x-python",
   "name": "python",
   "nbconvert_exporter": "python",
   "pygments_lexer": "ipython3",
   "version": "3.11.3"
  },
  "orig_nbformat": 4,
  "vscode": {
   "interpreter": {
    "hash": "e483b20f2aef0cfe437b9ea488667fd01f59262bbb79f624806c97e02b0e6267"
   }
  }
 },
 "nbformat": 4,
 "nbformat_minor": 2
}
