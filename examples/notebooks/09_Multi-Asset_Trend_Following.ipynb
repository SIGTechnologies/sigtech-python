{
 "cells": [
  {
   "attachments": {},
   "cell_type": "markdown",
   "metadata": {},
   "source": [
    "# Example 9: Multi-asset trend following strategy\n",
    "\n",
    "## Pre-requisites\n",
    "### 1. If you have not opened the notebook in Colab, select the button below\n",
    "<a href=\"https://githubtocolab.com/SIGTechnologies/sigtech-python/blob/master/examples/notebooks/09_Multi-Asset_Trend_Following.ipynb\">\n",
    "    <img src=\"https://sigtech.com/wp-content/uploads/2023/08/grey_google_colab.svg\"></a>\n",
    "\n",
    "### 2. Enter your API key\n",
    "After pasting in your API key, you need to run the cell. In Colab, hover your cursor over an individual code cell and click play to run it.\n",
    ">**Tip**!\\\n",
    ">After pasting in your API key, you can press `CTRL-F9` (Windows) or `⌘-F9` (Mac) to run the entire notebook at once."
   ]
  },
  {
   "cell_type": "code",
   "execution_count": null,
   "metadata": {},
   "outputs": [],
   "source": [
    "# Install our Python SDK\n",
    "%pip install sigtech\n",
    "%pip install empyrical \n",
    "\n",
    "# Import OS and our Python SDK\n",
    "import sigtech.api as sig\n",
    "import os\n",
    "\n",
    "# Define your API key as a string. Remember to delete it before sharing your notebook with others. Replace \n",
    "# <YOUR_API_KEY> with the API key you have generated. e.g. os.environ['SIGTECH_API_KEY'] = 'sig_A1B2C3D4E5f6g7h8i9'\n",
    "os.environ['SIGTECH_API_KEY'] = '<YOUR_API_KEY>'"
   ]
  },
  {
   "cell_type": "markdown",
   "metadata": {},
   "source": [
    "### 3. Set up your Colab environment"
   ]
  },
  {
   "cell_type": "code",
   "execution_count": null,
   "metadata": {},
   "outputs": [],
   "source": [
    "# Import any additional Python libraries you require.\n",
    "import datetime as dtm\n",
    "import pandas as pd\n",
    "import numpy as np\n",
    "import empyrical as ep \n",
    "import matplotlib.pyplot as plt\n",
    "\n",
    "# Set any parameters \n",
    "plt.rcParams['figure.figsize'] = [16, 8]"
   ]
  },
  {
   "cell_type": "markdown",
   "metadata": {},
   "source": [
    "### 4. Create a session\n",
    "After installing our Python SDK, defining your API key, importing any additional Python libraries or functions you require, and setting any default parameters, initialize your session."
   ]
  },
  {
   "cell_type": "code",
   "execution_count": null,
   "metadata": {},
   "outputs": [],
   "source": [
    "sig.init()"
   ]
  },
  {
   "attachments": {},
   "cell_type": "markdown",
   "metadata": {},
   "source": [
    "## Introduction to trend following strategies\n",
    "\n",
    "A trend-following strategy aims to capitalize on market momentum by buying assets during upward trends and selling or shorting them during downward trends. The strategy relies on technical indicators like moving averages to identify the direction of market trends and make trading decisions accordingly.\n",
    "\n",
    "## Our strategy\n",
    "\n",
    "- We will fetch historical prices for the E-mini S&P 500 index and the commodity and evaluate how a basket of these instruments would perform.\n",
    "- Next, we will calculate short, medium, and long-term momentum for these instruments and normalize momentum by asset volatility, then calculate a weighted sum of normalized momentum for different periods.\n",
    "- Using this, we will generate trading signals based on composite trend scores.\n",
    "- We will calculate position sizes based on trading signals and volatility and execute the strategy using a `SignalStrategy` object.\n",
    "- We will evaluate the performance of the strategy using the empyrical library. \n",
    "\n",
    "Our strategy aims to capture momentum across a universe of equities and bonds by calculating short, medium, and long-term momentum indicators. It dynamically adjusts asset allocations based on these momentum signals, aiming to outperform a static bond-equity 60/40 portfolio.\n",
    "\n",
    "1. Evaluate the historical performance of the static strategy"
   ]
  },
  {
   "cell_type": "code",
   "execution_count": null,
   "metadata": {},
   "outputs": [],
   "source": [
    "universe = [\n",
    "    ('ES', 'INDEX'), # E-mini S&P 500 futures index\n",
    "    ('TY', 'COMDTY'),# US 10-year treasury bonds\n",
    "]\n",
    "\n",
    "# Create a list of RollingFutureStrategy objects for each asset in the universe\n",
    "assets = [sig.RollingFutureStrategy(contract_code = x, contract_sector = y) for x, y in universe]"
   ]
  },
  {
   "cell_type": "code",
   "execution_count": null,
   "metadata": {},
   "outputs": [],
   "source": [
    "# Retrieve historical data for each RollingFutureStrategy object and store it in a DataFrame\n",
    "df = pd.DataFrame({x.name:x.history() for x in assets})"
   ]
  },
  {
   "cell_type": "code",
   "execution_count": null,
   "metadata": {},
   "outputs": [],
   "source": [
    "# Plot the historical data stored in the DataFrame\n",
    "df.plot(legend = True)"
   ]
  },
  {
   "attachments": {},
   "cell_type": "markdown",
   "metadata": {},
   "source": [
    "Next, we create a basket of our instruments using the `BasketStrategy` class. "
   ]
  },
  {
   "cell_type": "code",
   "execution_count": null,
   "metadata": {},
   "outputs": [],
   "source": [
    "# Create a bond-equity 60-40 strategy using a BasketStrategy object\n",
    "bond_equity_60_40 = sig.BasketStrategy(\n",
    "    start_date = dtm.date(2018,1,10), \n",
    "    constituent_names = list(assets), \n",
    "    weights = [0.4,0.6]\n",
    "    )\n",
    "\n",
    "# Plot the historical performance of the bond-equity 60-40 strategy\n",
    "bond_equity_60_40.history().plot()\n"
   ]
  },
  {
   "attachments": {},
   "cell_type": "markdown",
   "metadata": {},
   "source": [
    "## 2. Calculate momentum and generate trading signals\n",
    "In this step, we:\n",
    "\n",
    "- Define and calculate momentum for short, medium, and long-term periods.\n",
    "- Calculate rolling volatility and normalizes momentum by this volatility. This step is essential for risk management, ensuring that assets with higher volatility don't overly influence the portfolio.\n",
    "- Compute a composite trend score, a weighted sum of normalized momentum indicators. This step aims to capture trends at multiple time horizons and is crucial for making well-informed trading decisions.\n",
    "- Generate trading signals and calculate position sizes based on composite trend scores and volatility. These steps translate the analytical measures into actionable trading decisions, crucial for executing the strategy.\n",
    "- Clean up the DataFrame to only include position sizes and drop missing values, preparing the data for backtesting using the `SignalStrategy` class."
   ]
  },
  {
   "cell_type": "code",
   "execution_count": null,
   "metadata": {},
   "outputs": [],
   "source": [
    "# Define assets based on the DataFrame columns\n",
    "assets = df.columns\n",
    "\n",
    "# Define the periods for short-term, medium-term, and long-term momentum\n",
    "N = 20  # Short-term period\n",
    "M = 60  # Medium-term period\n",
    "L = 120  # Long-term period"
   ]
  },
  {
   "cell_type": "code",
   "execution_count": null,
   "metadata": {},
   "outputs": [],
   "source": [
    "# 1. Calculate momentum for each asset and for each time period (N, M, L)\n",
    "for asset in assets:\n",
    "    df[f'{asset}_momentum_short'] = df[asset] - df[asset].shift(N)\n",
    "    df[f'{asset}_momentum_medium'] = df[asset] - df[asset].shift(M)\n",
    "    df[f'{asset}_momentum_long'] = df[asset] - df[asset].shift(L)\n"
   ]
  },
  {
   "cell_type": "code",
   "execution_count": null,
   "metadata": {},
   "outputs": [],
   "source": [
    "# 2. Define the period for volatility calculation\n",
    "K = 20  \n",
    "returns = df.pct_change()\n",
    "\n",
    "# Calculate the rolling volatility for each asset\n",
    "for asset in assets:\n",
    "    df[f'{asset}_volatility'] = returns[asset].rolling(window=K).std()\n",
    "\n",
    "# Normalize momentum by dividing it by volatility\n",
    "for asset in assets:\n",
    "    df[f'{asset}_normalized_momentum_short'] = df[f'{asset}_momentum_short'] / df[f'{asset}_volatility']\n",
    "    df[f'{asset}_normalized_momentum_medium'] = df[f'{asset}_momentum_medium'] / df[f'{asset}_volatility']\n",
    "    df[f'{asset}_normalized_momentum_long'] = df[f'{asset}_momentum_long'] / df[f'{asset}_volatility']\n"
   ]
  },
  {
   "cell_type": "code",
   "execution_count": null,
   "metadata": {},
   "outputs": [],
   "source": [
    "# 3. Composite Trend Score\n",
    "# Define example weights for composite trend score calculation\n",
    "w1, w2, w3 = 0.2, 0.3, 0.5  \n",
    "\n",
    "# Calculate composite trend score for each asset\n",
    "for asset in assets:\n",
    "    df[f'{asset}_composite_score'] = w1 * df[f'{asset}_normalized_momentum_short'] + w2 * df[f'{asset}_normalized_momentum_medium'] + w3 * df[f'{asset}_normalized_momentum_long']"
   ]
  },
  {
   "cell_type": "code",
   "execution_count": null,
   "metadata": {},
   "outputs": [],
   "source": [
    "# 4. Signal Generation\n",
    "# Define thresholds for signal generation\n",
    "positive_threshold = 0.5  \n",
    "negative_threshold = -0.5  \n",
    "\n",
    "# Generate trading signals based on composite trend score\n",
    "for asset in assets:\n",
    "    df[f'{asset}_signal'] = np.where(df[f'{asset}_composite_score'] > positive_threshold, 1, \n",
    "                                     np.where(df[f'{asset}_composite_score'] < negative_threshold, -1, 0))\n"
   ]
  },
  {
   "cell_type": "code",
   "execution_count": null,
   "metadata": {},
   "outputs": [],
   "source": [
    "# 5. Position Sizing\n",
    "# Calculate position size based on trading signal and volatility\n",
    "for asset in assets:\n",
    "    df[f'{asset}_position_size'] = df[f'{asset}_signal'] / df[f'{asset}_volatility']"
   ]
  },
  {
   "attachments": {},
   "cell_type": "markdown",
   "metadata": {},
   "source": [
    "## 3. Create a `SignalStrategy` to backtest trading this portfolio using momentum indicators\n",
    "\n",
    "First, we need to create a signal dataframe to use as an input for the `SignalStrategy` class. A signal dataframe is a pandas DataFrame where the column headers are the instrument names and the values are the signals for each of the instruments. These signals can be either a number of units *or* a weight."
   ]
  },
  {
   "cell_type": "code",
   "execution_count": null,
   "metadata": {},
   "outputs": [],
   "source": [
    "# Keep only position sizes and normalize weights\n",
    "\n",
    "positions = df[[col for col in df.columns if 'position_size' in col]]\n",
    "\n",
    "positions.columns = assets\n",
    "\n",
    "positions = positions.divide(positions.abs().sum(axis=1), axis=0)\n",
    "\n",
    "positions.tail()"
   ]
  },
  {
   "cell_type": "code",
   "execution_count": null,
   "metadata": {},
   "outputs": [],
   "source": [
    "signal_df = positions.copy().dropna()"
   ]
  },
  {
   "cell_type": "code",
   "execution_count": null,
   "metadata": {},
   "outputs": [],
   "source": [
    "signal_df"
   ]
  },
  {
   "attachments": {},
   "cell_type": "markdown",
   "metadata": {},
   "source": [
    "Now, we can create our `SignalStrategy`"
   ]
  },
  {
   "cell_type": "code",
   "execution_count": null,
   "metadata": {},
   "outputs": [],
   "source": [
    "s = sig.SignalStrategy(\n",
    "        currency = 'USD',\n",
    "        start_date = dtm.date(2018,1,10),\n",
    "        signal_input = signal_df,\n",
    "        rebalance_frequency = 'EOM' # Rebalances monthly at the end of the month.\n",
    ")"
   ]
  },
  {
   "attachments": {},
   "cell_type": "markdown",
   "metadata": {},
   "source": [
    "After creating it, we can view its historical performance."
   ]
  },
  {
   "cell_type": "code",
   "execution_count": null,
   "metadata": {},
   "outputs": [],
   "source": [
    "s.history().plot(legend = True, label = 'Equity - Bond Trend Portfolio')"
   ]
  },
  {
   "cell_type": "code",
   "execution_count": null,
   "metadata": {},
   "outputs": [],
   "source": [
    "def calculate_metrics(returns, factor_returns, strategy_name):\n",
    "    # Calculate metrics\n",
    "    beta = ep.beta(returns, factor_returns)\n",
    "    sharpe_ratio = ep.sharpe_ratio(returns)\n",
    "    sortino_ratio = ep.sortino_ratio(returns)\n",
    "    annual_volatility = ep.annual_volatility(returns)\n",
    "    annual_return = ep.annual_return(returns)\n",
    "    max_drawdown = ep.max_drawdown(returns)\n",
    "    omega_ratio = ep.omega_ratio(returns)\n",
    "    tail_ratio = ep.tail_ratio(returns)\n",
    "    cagr = ep.cagr(returns)\n",
    "\n",
    "    # Create a DataFrame\n",
    "    metrics = pd.DataFrame({\n",
    "        'Beta': [beta],\n",
    "        'Sharpe Ratio': [sharpe_ratio],\n",
    "        'Sortino Ratio': [sortino_ratio],\n",
    "        'Annual Volatility': [annual_volatility],\n",
    "        'Annual Return': [annual_return],\n",
    "        'Max Drawdown': [max_drawdown],\n",
    "        'Omega Ratio': [omega_ratio],\n",
    "        'Tail Ratio': [tail_ratio],\n",
    "        'CAGR': [cagr]\n",
    "    }, index=[strategy_name]).transpose()\n",
    "\n",
    "    return metrics"
   ]
  },
  {
   "cell_type": "code",
   "execution_count": null,
   "metadata": {},
   "outputs": [],
   "source": [
    "# Assuming 's.history()' and 'es.history()' are your strategy's and ES's return series respectively\n",
    "strategy_returns = s.history().pct_change().dropna()\n",
    "benchmark_returns = bond_equity_60_40.history().pct_change().dropna()\n",
    "\n",
    "# Calculate the metrics\n",
    "strategy_metrics = calculate_metrics(strategy_returns, benchmark_returns, 'Bond Equity Trend Following')\n",
    "benchmark_metrics = calculate_metrics(benchmark_returns, benchmark_returns, 'Bond Equity 60/40')\n",
    "\n",
    "# Concatenate the metrics\n",
    "all_metrics = pd.concat([strategy_metrics, benchmark_metrics], axis=1)\n",
    "\n",
    "all_metrics"
   ]
  },
  {
   "cell_type": "code",
   "execution_count": null,
   "metadata": {},
   "outputs": [],
   "source": []
  }
 ],
 "metadata": {
  "kernelspec": {
   "display_name": "Python 3",
   "language": "python",
   "name": "python3"
  },
  "language_info": {
   "codemirror_mode": {
    "name": "ipython",
    "version": 3
   },
   "file_extension": ".py",
   "mimetype": "text/x-python",
   "name": "python",
   "nbconvert_exporter": "python",
   "pygments_lexer": "ipython3",
   "version": "3.11.3"
  },
  "vscode": {
   "interpreter": {
    "hash": "e483b20f2aef0cfe437b9ea488667fd01f59262bbb79f624806c97e02b0e6267"
   }
  }
 },
 "nbformat": 4,
 "nbformat_minor": 4
}
