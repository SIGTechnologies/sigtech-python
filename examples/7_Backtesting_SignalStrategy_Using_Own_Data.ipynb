{
 "cells": [
  {
   "attachments": {},
   "cell_type": "markdown",
   "id": "d7e03399",
   "metadata": {},
   "source": [
    "# Example 7: Backtesting a `SignalStrategy` using your own signals data\n",
    "\n",
    "## Pre-requisites\n",
    "### 1. Install our SDK locally\n",
    "This example cannot be run in Colab as it requires an additional CSV file. \n",
    "In a command prompt or terminal window:\n",
    "1. Navigate to where you would like to install our SDK.\n",
    "1. Enter the command `pip install sigtech`.\n",
    "\n",
    "### 2. Open this notebook in an IDE\n",
    "\n",
    "### 3. Enter your API key in the cell below"
   ]
  },
  {
   "cell_type": "code",
   "execution_count": null,
   "id": "f82dbb18-7a71-43f6-9a19-4e0e0bb60dad",
   "metadata": {},
   "outputs": [],
   "source": [
    "# Install our Python SDK\n",
    "%pip install sigtech \n",
    "\n",
    "# Import OS and our Python SDK\n",
    "import sigtech.api as sig\n",
    "import os\n",
    "\n",
    "# Define your API key as a string. Remember to delete it before sharing your notebook with others. Replace \n",
    "# <YOUR_API_KEY> with the API key you have generated. e.g. os.environ['SIGTECH_API_KEY'] = 'sig_A1B2C3D4E5f6g7h8i9'\n",
    "os.environ['SIGTECH_API_KEY'] = '<YOUR_API_KEY>'"
   ]
  },
  {
   "attachments": {},
   "cell_type": "markdown",
   "id": "0cc013ab",
   "metadata": {},
   "source": [
    "### 4. Set up your local environment"
   ]
  },
  {
   "cell_type": "code",
   "execution_count": null,
   "id": "e00fc95a-1fa5-4a58-9979-f1950b3db1d9",
   "metadata": {},
   "outputs": [],
   "source": [
    "# Import any additional Python libraries you require.\n",
    "import datetime as dtm\n",
    "import pandas as pd\n",
    "import numpy as np\n",
    "import matplotlib.pyplot as plt\n",
    "\n",
    "# Set any parameters \n",
    "plt.rcParams['figure.figsize'] = [16, 8]"
   ]
  },
  {
   "attachments": {},
   "cell_type": "markdown",
   "id": "24151422",
   "metadata": {},
   "source": [
    "### 5. Create a session\n",
    "After installing our Python SDK, defining your API key, importing any additional Python libraries or functions you require, and setting any default parameters, initialize your session."
   ]
  },
  {
   "cell_type": "code",
   "execution_count": null,
   "id": "06aaf973-1e6f-4bd4-b23e-d876a4a0dec9",
   "metadata": {},
   "outputs": [],
   "source": [
    "sig.init()"
   ]
  },
  {
   "attachments": {},
   "cell_type": "markdown",
   "id": "e6ebd4e8",
   "metadata": {},
   "source": [
    "This example is designed to showcase how you can use your own data to generate trading signals and then backtest the performance of a strategy based on those signals in minutes using our curated data and API.\n",
    "\n",
    "## Our strategy\n",
    "In this example, we are backtesting the performance of a strategy which trades US 10-Year note futures based on a set of trading signals generated using the FRED API. These signals are available in `example_data/ty_signal.csv`. How the trading signals were generated is not important; remember, you can easily substitute our `ty_signal.csv` file for a CSV file with your own trading signals and backtest the performance of a strategy which uses those signals instead.  \n",
    "\n",
    "\n",
    "## 1. View the baseline performance of the commodity\n",
    "\n",
    "In this example, we will be looking at US 10-Year note futures. To plot the historical performance of this commodity we use the `RollingFuturesStrategy` class. \n",
    ">**Tip**!\\\n",
    ">You can find the `contract_code` and `contract_sector` for a commodity using our [API data browser](https://sigtechapi.streamlit.app/)."
   ]
  },
  {
   "cell_type": "code",
   "execution_count": null,
   "id": "0e3ef3ab-eaab-4fc5-b479-b807d0466d83",
   "metadata": {},
   "outputs": [],
   "source": [
    "ty = sig.RollingFutureStrategy(\n",
    "    contract_code = 'TY',\n",
    "    contract_sector = 'COMDTY', \n",
    "    start_date = dtm.date(2016,1,1)"
   ]
  },
  {
   "cell_type": "code",
   "execution_count": null,
   "id": "da012b23-4f83-489f-ba26-a78c4dd22997",
   "metadata": {},
   "outputs": [],
   "source": [
    "ty.history().plot()"
   ]
  },
  {
   "attachments": {},
   "cell_type": "markdown",
   "id": "7c4e120f",
   "metadata": {},
   "source": [
    "## 2. Compare it to the performance of the `SignalStrategy`\n",
    "\n",
    "Firstly, we pull in data from our CSV file in the `example_data` folder."
   ]
  },
  {
   "cell_type": "code",
   "execution_count": null,
   "id": "131e888b-620e-49ee-83f8-f0ae2dbae1da",
   "metadata": {},
   "outputs": [],
   "source": [
    "# Replace <path_to_file> with the filepath for where you have installed our SDK.\n",
    "signal = pd.read_csv('<path_to_file>example_data/ty_signal.csv', index_col = 0)"
   ]
  },
  {
   "attachments": {},
   "cell_type": "markdown",
   "id": "07c1c433",
   "metadata": {},
   "source": [
    "Next, we must convert the CSV data so that it can be used as the `signal_input` for our `SignalStrategy`.\n",
    "> A `SignalStrategy` requires a `signal_input`. This is a pandas DataFrame where the column headers are the instrument names and the values are the signals for each of the instruments. These signals can be either a number of units *or* a weight."
   ]
  },
  {
   "cell_type": "code",
   "execution_count": null,
   "id": "9e2f30ba",
   "metadata": {},
   "outputs": [],
   "source": [
    "signal.index = pd.to_datetime(signal.index)\n",
    "signal.columns = [ty.name]"
   ]
  },
  {
   "attachments": {},
   "cell_type": "markdown",
   "id": "aa4b27b8",
   "metadata": {},
   "source": [
    "Run the code cell below to see what a dataframe that can be used as a `signal_input` looks like."
   ]
  },
  {
   "cell_type": "code",
   "execution_count": null,
   "id": "8ddc9346-ed30-4b99-baa8-abbb41b46ba9",
   "metadata": {},
   "outputs": [],
   "source": [
    "signal.tail()\n",
    "signal.plot()"
   ]
  },
  {
   "attachments": {},
   "cell_type": "markdown",
   "id": "bad8eed2",
   "metadata": {},
   "source": [
    "Finally, we can create a `SignalStrategy` and view its performance. "
   ]
  },
  {
   "cell_type": "code",
   "execution_count": null,
   "id": "1d061e9f-06b1-473d-92ab-c6c3aedfb588",
   "metadata": {},
   "outputs": [],
   "source": [
    "s = sig.SignalStrategy(\n",
    "    signal_input = signal,\n",
    "    currency = 'USD',\n",
    "    rebalance_frequency = 'EOM', # The strategy will rebalance at the end of each month. See https://learn.sigtech.com/docs/rebalance_frequencies for more information. \n",
    ")"
   ]
  },
  {
   "cell_type": "code",
   "execution_count": null,
   "id": "96aa5f76-f1c8-4637-b3fb-1c1b80178f1b",
   "metadata": {},
   "outputs": [],
   "source": [
    "s.history().plot(label = 'Signal Strategy', legend=True)\n",
    "ty.history().plot(label = 'Baseline', legend=True)\n"
   ]
  }
 ],
 "metadata": {
  "kernelspec": {
   "display_name": "Python 3",
   "language": "python",
   "name": "python3"
  },
  "language_info": {
   "codemirror_mode": {
    "name": "ipython",
    "version": 3
   },
   "file_extension": ".py",
   "mimetype": "text/x-python",
   "name": "python",
   "nbconvert_exporter": "python",
   "pygments_lexer": "ipython3",
   "version": "3.11.3"
  },
  "vscode": {
   "interpreter": {
    "hash": "e483b20f2aef0cfe437b9ea488667fd01f59262bbb79f624806c97e02b0e6267"
   }
  }
 },
 "nbformat": 4,
 "nbformat_minor": 5
}
