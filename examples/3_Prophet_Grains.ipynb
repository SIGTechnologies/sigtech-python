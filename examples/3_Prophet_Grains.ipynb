{
 "cells": [
  {
   "attachments": {},
   "cell_type": "markdown",
   "id": "df0b8bb9-9bd0-43da-8640-e76c79c2690a",
   "metadata": {},
   "source": [
    "# Example 3: Grains Prophet\n",
    "\n",
    "## Pre-requisities\n",
    "\n",
    "### 1. Open the example notebook in Colab\n",
    "Our example notebooks assume you are using Google Colab. To open this notebook in Colab:\n",
    "1. Sign-up or login to [Google Colab](https://colab.research.google.com/).\n",
    "1. Select `File`.\n",
    "1. Select `Open notebook`.\n",
    "1. Select the `Github` tab.\n",
    "1. Then:\n",
    "    1. In `Enter a GitHub URL or search by organisation or user`, enter `SigTechnologies` and select the search option.\n",
    "    1. In the `Repository` drop-down menu, select `SIGTechnologies/sigtech-python`.\n",
    "    1. In the `branch` drop-down menu, select `master`.\n",
    "1. Select the file you want to open.\n",
    "\n",
    "### 2. Set up your Colab environment"
   ]
  },
  {
   "cell_type": "code",
   "execution_count": null,
   "id": "c2a7b459",
   "metadata": {},
   "outputs": [],
   "source": [
    "# Install our Python SDK\n",
    "!pip install sigtech \n",
    "\n",
    "# Import os and our Python SDK\n",
    "import os\n",
    "import sigtech.api as sig\n",
    "\n",
    "# Define your API key as a string. Remember to delete it before sharing your notebook with others. \n",
    "os.environ['SIGTECH_API_KEY'] = '<YOUR_API_KEY>'\n",
    "\n",
    "# Import any additional Python libraries you require.\n",
    "import numpy as np\n",
    "import pandas as pd\n",
    "from tqdm import tqdm\n",
    "import datetime as dtm\n",
    "\n",
    "# The prophet library is designed to make time series forecasting tasks more accessible and intuitive.\n",
    "from prophet import Prophet # The Prophet class is the core component of the library and is used to create a time series forecasting model.\n",
    "from prophet.plot import plot_plotly, plot_components_plotly # plot_plotly and plot_components_plotly areplotting functions are used to visualize the results of time series forecasting."
   ]
  },
  {
   "attachments": {},
   "cell_type": "markdown",
   "id": "4a384ac9",
   "metadata": {},
   "source": [
    "### 3. Start a session\n",
    "After installing our python SDK, defining your API key, importing any Python libraries you require and setting any default parameters, initialize your session."
   ]
  },
  {
   "cell_type": "code",
   "execution_count": null,
   "id": "85cfb3de",
   "metadata": {},
   "outputs": [],
   "source": [
    "sig.init()"
   ]
  },
  {
   "attachments": {},
   "cell_type": "markdown",
   "id": "2bb3c335-44e1-4b8f-b26d-ddfaef9d9312",
   "metadata": {},
   "source": [
    "## Introduction to a prophet grains strategy\n",
    "\n",
    "The prophet grains strategy is a trading strategy that leverages the seasonal patterns in the Corn, Soybean, and Wheat futures markets to make trading decisions. The strategy takes advantage of the differences in supply and pricing between the old crop and new crop months. The key components of this strategy are:\n",
    "\n",
    "- **Seasonal patterns**: the strategy is based on the understanding that the standardized trading months for Corn, Soybean, and Wheat futures align with the seasonal patterns in planting, harvesting, and marketing the underlying crops. For example, spring is the planting season for Corn and Soybeans, while fall is the planting season for Wheat. Similarly, July is the typical harvest month for Wheat, while November and December are the harvest months for Corn and Soybeans.\n",
    "\n",
    "- **Old crop vs. new crop**: during the planting months, the source of grain available is from crops harvested during the previous harvest season, known as the \"old crop.\" On the other hand, during the harvest months, the newly harvested crop comes to the market, resulting in higher supply, known as the \"new crop.\"\n",
    "\n",
    "- **Seasonal pricing**: When a new crop is harvested and supply is higher, the grain markets tend to reflect their lowest seasonal prices. Conversely, during the old crop months when supply is typically lower, grain prices tend to be higher compared to the farther out new-crop trading months.\n",
    "\n",
    "- **Prophet forecasting**: The strategy utilizes the \"Prophet\" forecasting procedure to make predictions for time series data. Prophet is a model that captures non-linear trends and incorporates yearly, weekly, and daily seasonality, along with holiday effects. It works well with time series data that exhibit strong seasonal patterns and have historical data covering multiple seasons.\n",
    "\n",
    "### Usefulness of the prophet library\n",
    "\n",
    "The prophet library is key to this strategy because it is:\n",
    "\n",
    "- Robust to missing data: prophet is capable of handling missing data points in the time series.\n",
    "- Handles shifts in the trend: it can identify and adapt to shifts in the underlying trend of the time series.\n",
    "- Outlier handling: prophet typically performs well even when the data contains outlier values.\n",
    "\n",
    "Overall, the Prophet Grains Strategy aims to identify favorable trading opportunities by considering the seasonal supply and pricing patterns of Corn, Soybean, and Wheat futures. By using the Prophet forecasting model, the strategy can make informed decisions on when to enter or exit trades based on the historical seasonal trends and pricing behaviors of these agricultural commodities.\n",
    "\n",
    "## Our strategy\n"
   ]
  },
  {
   "attachments": {},
   "cell_type": "markdown",
   "id": "a25f95c5-2e46-4813-b317-162181abf6f9",
   "metadata": {},
   "source": [
    "## 1. Forecast the price of one grain\n",
    "\n",
    "The following code forecasts the price movements of soybean futures using the prophet forecasting model "
   ]
  },
  {
   "cell_type": "code",
   "execution_count": null,
   "id": "ecbdfc17-6936-490c-aa16-a611ad3db123",
   "metadata": {},
   "outputs": [],
   "source": [
    "soy = sig.RollingFutureStrategy(contract_code='S', contract_sector='COMDTY')"
   ]
  },
  {
   "cell_type": "code",
   "execution_count": null,
   "id": "dc11abf5-98b4-46bd-8123-287956e2cac8",
   "metadata": {},
   "outputs": [],
   "source": [
    "# Fetch the historical price data of the Soybean futures using the soy rolling futures strategy.\n",
    "df_soy = soy.history().reset_index().rename({'date': 'ds', soy.name: 'y'}, axis=1) \n",
    "\n",
    "# Initialize a prophet forecasting model. The model will capture yearly and weekly seasonality but not daily patterns.\n",
    "m_soy = Prophet(daily_seasonality=False) \n",
    "\n",
    "# Fit the prophet model to the historical price data of Soybean futures (stored in the df_soy DataFrame).\n",
    "m_soy.fit(df_soy)  \n",
    "\n",
    "# Create a DataFrame with future dates to make predictions. Predictions will be made for 365 days into the future.\n",
    "future_soy = m_soy.make_future_dataframe(periods=365) \n",
    "\n",
    "# Filter the future_soy DataFrame to exclude weekends (Saturday and Sunday).\n",
    "future_soy = future_soy[future_soy['ds'].dt.dayofweek < 5] \n",
    "\n",
    "# Use the fitted Prophet model (m_soy) to predict the prices of Soybean futures.\n",
    "forecast_soy = m_soy.predict(future_soy) "
   ]
  },
  {
   "cell_type": "code",
   "execution_count": null,
   "id": "11327388-07fd-495f-8931-4579a701d866",
   "metadata": {},
   "outputs": [],
   "source": [
    "# Generates a Plotly interactive plot to visualize the forecasted price values and the historical price data for Soybean futures\n",
    "plot_plotly(m_soy, forecast_soy)"
   ]
  },
  {
   "cell_type": "code",
   "execution_count": null,
   "id": "8db40fb0-668b-477f-a670-c32dcd25d2f7",
   "metadata": {},
   "outputs": [],
   "source": [
    "plot_components_plotly(m_soy, forecast_soy)"
   ]
  },
  {
   "cell_type": "markdown",
   "id": "289aa06e-c09e-4fbc-afbb-f6a2c6871d39",
   "metadata": {},
   "source": [
    "## 3. Build Signal"
   ]
  },
  {
   "attachments": {},
   "cell_type": "markdown",
   "id": "9d3207f9-ebf2-4d04-be71-28205e4b167c",
   "metadata": {},
   "source": [
    "We will train prophet weekly to predict the next 5 trading days, starting with 3 years of training data.\n",
    "\n",
    "The provided code builds a signal for the Prophet Grains Strategy by using the train_prophet function to iteratively train the Prophet forecasting model. The goal is to predict the next 5 trading days' price movements for Soybean futures.\n",
    "\n",
    "Here's an explanation of the code:\n",
    "\n",
    "train_prophet(df, forecast_days=5): This function trains the Prophet forecasting model (Prophet object) using the historical price data of Soybean futures represented by the DataFrame df. The forecast_days parameter specifies the number of trading days into the future for which the model will make predictions (default is 5 days). The function returns a DataFrame (forecast) containing the predictions for the specified future dates, including the forecasted prices (yhat) and their lower and upper bounds (yhat_lower and yhat_upper).\n",
    "\n",
    "iter_prophet(df, retrain_after_days=5, forecast_days=5, min_training_days=750): This function iteratively trains the Prophet model using the train_prophet function. The df DataFrame contains historical price data of Soybean futures (or any other commodity). The parameters are as follows:\n",
    "\n",
    "retrain_after_days: The number of days after which the model will be retrained. This ensures that the model adapts to changing market conditions over time. The default is 5 days.\n",
    "forecast_days: The number of trading days into the future for which the model will make predictions. This is passed to the train_prophet function.\n",
    "min_training_days: The minimum number of training days required before making the first prediction. This ensures that the model has sufficient historical data to learn meaningful patterns. The default is 750 days.\n",
    "iter_forecasts = []: This list will store the forecasts obtained after training the model iteratively.\n",
    "\n",
    "Iterative Training: The code then iterates through the historical price data in chunks of retrain_after_days. For each iteration, the train_prophet function is called to train the model on the historical data up to the current iteration's end (df.loc[:i+min_training_days]). The forecast for the next forecast_days is obtained from the trained model.\n",
    "\n",
    "Appending Forecasts: Each forecast obtained in the loop is appended to the iter_forecasts list.\n",
    "\n",
    "pd.concat(iter_forecasts): Finally, the code concatenates all the forecasts from the iter_forecasts list into a single DataFrame called df_prophet_soy.\n",
    "\n",
    "In summary, the iter_prophet function utilizes the train_prophet function to train and predict future price movements for Soybean futures iteratively. The iterative training allows the model to be updated regularly with new data, ensuring it captures changing market conditions. The resulting DataFrame df_prophet_soy contains the forecasts for the next 5 trading days based on the Prophet Grains Strategy and can be used to make informed trading decisions."
   ]
  },
  {
   "cell_type": "code",
   "execution_count": null,
   "id": "7de555a3-6844-4335-8862-d1d7811d1fc7",
   "metadata": {},
   "outputs": [],
   "source": [
    "def train_prophet(df, forecast_days=5):\n",
    "    m = Prophet(daily_seasonality=False)\n",
    "    m.fit(df)\n",
    "    future = m.make_future_dataframe(periods=forecast_days, include_history=False)\n",
    "    future = future[future['ds'].dt.dayofweek < 5] # don't predict weekends\n",
    "    forecast = m.predict(future)\n",
    "    \n",
    "    return forecast[['ds', 'yhat', 'yhat_lower', 'yhat_upper']]"
   ]
  },
  {
   "cell_type": "code",
   "execution_count": null,
   "id": "b51994af-8826-4a8e-9377-1fa4003e45c2",
   "metadata": {},
   "outputs": [],
   "source": [
    "def iter_prophet(df, retrain_after_days=5, forecast_days=5, min_training_days=750):\n",
    "    \n",
    "    iter_forecasts = []\n",
    "    for i in tqdm(range(0, len(df), retrain_after_days)):\n",
    "        forecast = train_prophet(df.loc[:i+min_training_days], forecast_days)\n",
    "        iter_forecasts.append(forecast)\n",
    "    \n",
    "    return pd.concat(iter_forecasts)"
   ]
  },
  {
   "cell_type": "code",
   "execution_count": null,
   "id": "91cee115-5719-4453-b264-f7943884757f",
   "metadata": {
    "scrolled": true,
    "tags": []
   },
   "outputs": [],
   "source": [
    "df_prophet_soy = iter_prophet(df_soy)"
   ]
  },
  {
   "cell_type": "code",
   "execution_count": null,
   "id": "8bebac7f-4570-4677-9c2f-a006d60875b3",
   "metadata": {},
   "outputs": [],
   "source": [
    "df_prophet_soy[['yhat', 'yhat_lower', 'yhat_upper']] = df_prophet_soy[['yhat', 'yhat_lower', 'yhat_upper']].shift(-1)\n",
    "merge_df = df_soy.merge(df_prophet_soy, on='ds', how='outer').dropna().set_index('ds')\n",
    "merge_df.head()"
   ]
  },
  {
   "cell_type": "code",
   "execution_count": null,
   "id": "bd1339d2-3643-4f0b-bd48-a246f4cc076d",
   "metadata": {},
   "outputs": [],
   "source": [
    "merge_df.plot()"
   ]
  },
  {
   "cell_type": "markdown",
   "id": "cf93a324-3451-4074-9f59-0950e88f8c55",
   "metadata": {},
   "source": [
    "Let's compare prophet to a smooth moving average"
   ]
  },
  {
   "cell_type": "code",
   "execution_count": null,
   "id": "03f106f9-af7f-4a47-a8d5-b2d84ea0f5ce",
   "metadata": {},
   "outputs": [],
   "source": [
    "merge_df['sma'] = merge_df['y'].rolling(21*3).mean()\n",
    "merge_df = merge_df.dropna()\n",
    "merge_df[['y', 'yhat', 'sma']].plot()"
   ]
  },
  {
   "cell_type": "markdown",
   "id": "2dd12ca0-4562-4359-97c2-005f05a03672",
   "metadata": {},
   "source": [
    "We generate a mean reversion signal whenever the price deviates 2 Z scores from our trend line, short when it's above, long when it's below."
   ]
  },
  {
   "cell_type": "code",
   "execution_count": null,
   "id": "ce47c18e-a443-4db7-b0da-5f914314476a",
   "metadata": {},
   "outputs": [],
   "source": [
    "def get_signal(df, mean_reversion_trend='sma', z_threshold = 2):\n",
    "    daily_pct_diff = (df[mean_reversion_trend] - merge_df['y']) / merge_df['y']\n",
    "    daily_pct_diff_mean = daily_pct_diff.rolling(63).mean()\n",
    "    daily_pct_diff_std = daily_pct_diff.rolling(63).std()\n",
    "    z_score = (daily_pct_diff - daily_pct_diff_mean) / daily_pct_diff_std\n",
    "    df['signal'] = np.where(z_score < -2, 1, np.where(z_score > 2, -1, 0))\n",
    "    return df"
   ]
  },
  {
   "cell_type": "code",
   "execution_count": null,
   "id": "759b14e9-f60e-474f-9287-b23f3870a22a",
   "metadata": {},
   "outputs": [],
   "source": [
    "df_mean_reversion_prophet_signal = get_signal(merge_df, mean_reversion_trend='yhat')\n",
    "df_signal = df_mean_reversion_prophet_signal['signal'].rename(soy.name).to_frame()\n",
    "prophet_strategy = sig.SignalStrategy(\n",
    "    signal_input=df_signal,\n",
    "    start_date=df_signal.first_valid_index().date(),\n",
    "    rebalance_frequency='1BD'\n",
    ")"
   ]
  },
  {
   "cell_type": "code",
   "execution_count": null,
   "id": "35a96efe-4a1b-4a0e-a89d-b78c5e1f86f1",
   "metadata": {
    "tags": []
   },
   "outputs": [],
   "source": [
    "df_mean_reversion_sma_signal = get_signal(merge_df, mean_reversion_trend='sma')\n",
    "df_signal_sma = df_mean_reversion_sma_signal['signal'].rename(soy.name).to_frame()\n",
    "sma_strategy = sig.SignalStrategy(\n",
    "    signal_input=df_signal_sma,\n",
    "    start_date=df_signal_sma.first_valid_index().date(),\n",
    "    rebalance_frequency='1BD'\n",
    ")"
   ]
  },
  {
   "cell_type": "code",
   "execution_count": null,
   "id": "5c5a6d0c-9f65-4f94-a615-188bd54ea92a",
   "metadata": {},
   "outputs": [],
   "source": [
    "sma_strategy.history().plot(legend=True)\n",
    "prophet_strategy.history().plot(legend=True)"
   ]
  },
  {
   "cell_type": "markdown",
   "id": "2bdef990-5675-4b32-b429-29f3211f5e09",
   "metadata": {},
   "source": [
    "The prophet strategy outperforms! Let's go ahead and build our basket for three grain contracts - Wheat, Soy, Corn."
   ]
  },
  {
   "cell_type": "markdown",
   "id": "5ce0eaab-8829-4f25-83d7-eece5820f314",
   "metadata": {},
   "source": [
    "## 4. Build the strategy"
   ]
  },
  {
   "cell_type": "code",
   "execution_count": null,
   "id": "944f59f8-257c-4881-b58b-aa5c651f26af",
   "metadata": {},
   "outputs": [],
   "source": [
    "def get_prophet_signal(contract_code):\n",
    "    rfs = sig.RollingFutureStrategy(contract_code=contract_code, contract_sector='COMDTY')\n",
    "    rfs_df = rfs.history().reset_index().rename({'date': 'ds', rfs.name: 'y'}, axis=1)\n",
    "    df_prophet = iter_prophet(rfs_df)\n",
    "    df_prophet[['yhat', 'yhat_lower', 'yhat_upper']] = df_prophet[['yhat', 'yhat_lower', 'yhat_upper']].shift(-1)\n",
    "    merge_df = rfs_df.merge(df_prophet, on='ds', how='outer').dropna().set_index('ds')\n",
    "    signal = get_signal(merge_df, mean_reversion_trend='yhat')\n",
    "    df_signal = signal['signal'].rename(rfs.name).to_frame()\n",
    "    return df_signal"
   ]
  },
  {
   "cell_type": "code",
   "execution_count": null,
   "id": "ca2ee74f-ced0-42d2-9171-aa942df8b536",
   "metadata": {
    "scrolled": true,
    "tags": []
   },
   "outputs": [],
   "source": [
    "all_prophet_signals = []\n",
    "for c in 'S', 'C', 'W':\n",
    "    all_prophet_signals.append(get_prophet_signal(c))"
   ]
  },
  {
   "cell_type": "code",
   "execution_count": null,
   "id": "1cd5a5fc-c3a3-423c-aff8-832bd8fd262a",
   "metadata": {},
   "outputs": [],
   "source": [
    "df_all = pd.concat(all_prophet_signals, axis=1) * 0.33\n",
    "\n",
    "all_prophet_strategy = sig.SignalStrategy(\n",
    "    signal_input=df_all,\n",
    "    start_date=dtm.date(2014, 1, 4),\n",
    "    rebalance_frequency='1BD'\n",
    ")"
   ]
  },
  {
   "cell_type": "code",
   "execution_count": null,
   "id": "e94dc79c-32cc-446a-a777-3e7c4c5ce5ee",
   "metadata": {},
   "outputs": [],
   "source": [
    "all_prophet_strategy.history().plot()"
   ]
  },
  {
   "cell_type": "code",
   "execution_count": null,
   "id": "2407def1-5456-4153-b57e-1727c6a274f7",
   "metadata": {},
   "outputs": [],
   "source": [
    "df_all.tail()"
   ]
  }
 ],
 "metadata": {
  "kernelspec": {
   "display_name": "Python 3",
   "language": "python",
   "name": "python3"
  },
  "language_info": {
   "codemirror_mode": {
    "name": "ipython",
    "version": 3
   },
   "file_extension": ".py",
   "mimetype": "text/x-python",
   "name": "python",
   "nbconvert_exporter": "python",
   "pygments_lexer": "ipython3",
   "version": "3.11.3"
  },
  "vscode": {
   "interpreter": {
    "hash": "e483b20f2aef0cfe437b9ea488667fd01f59262bbb79f624806c97e02b0e6267"
   }
  }
 },
 "nbformat": 4,
 "nbformat_minor": 5
}
