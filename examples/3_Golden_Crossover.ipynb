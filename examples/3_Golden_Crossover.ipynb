{
 "cells": [
  {
   "attachments": {},
   "cell_type": "markdown",
   "metadata": {},
   "source": [
    "# Example 3: Golden crossover strategy\n",
    "\n",
    "## Pre-requisites\n",
    "### 1. If you have not opened the notebook in Colab, select the button below\n",
    "<a href=\"https://githubtocolab.com/SIGTechnologies/sigtech-python/blob/master/examples/3_Golden_Crossover.ipynb\">\n",
    "    <img src=\"https://sigtech.com/wp-content/uploads/2023/08/grey_google_colab.svg\"></a>\n",
    "\n",
    "### 2. Enter your API key\n",
    "After pasting in your API key, you need to run the cell. In Colab, hover your cursor over an individual code cell and click play to run it.\n",
    ">**Tip**!\\\n",
    ">After pasting in your API key, you can press `CTRL-F9` (Windows) or `⌘-F9` (Mac) to run the entire notebook at once."
   ]
  },
  {
   "cell_type": "code",
   "execution_count": null,
   "metadata": {},
   "outputs": [],
   "source": [
    "# Install our Python SDK\n",
    "!pip install sigtech \n",
    "\n",
    "# Import OS and our Python SDK\n",
    "import sigtech.api as sig\n",
    "import os\n",
    "\n",
    "# Define your API key as a string. Remember to delete it before sharing your notebook with others. Replace \n",
    "# <YOUR_API_KEY> with the API key you have generated. e.g. os.environ['SIGTECH_API_KEY'] = 'sig_A1B2C3D4E5f6g7h8i9'\n",
    "os.environ['SIGTECH_API_KEY'] = '<YOUR_API_KEY>'"
   ]
  },
  {
   "attachments": {},
   "cell_type": "markdown",
   "metadata": {},
   "source": [
    "### 3. Set up your Colab environment"
   ]
  },
  {
   "cell_type": "code",
   "execution_count": null,
   "metadata": {},
   "outputs": [],
   "source": [
    "# Import any additional Python libraries you require.\n",
    "import datetime as dtm\n",
    "import pandas as pd\n",
    "import numpy as np"
   ]
  },
  {
   "attachments": {},
   "cell_type": "markdown",
   "metadata": {},
   "source": [
    "### 4. Create a session\n",
    "After installing our Python SDK, defining your API key, importing any additional Python libraries or functions you require, and setting any default parameters, initialize your session."
   ]
  },
  {
   "cell_type": "code",
   "execution_count": null,
   "metadata": {},
   "outputs": [],
   "source": [
    "sig.init()"
   ]
  },
  {
   "attachments": {},
   "cell_type": "markdown",
   "metadata": {},
   "source": [
    "## Introduction to the golden crossover strategy\n",
    "This is a popular technical analysis based trading strategy. It involves the use of moving averages to identify buy signals.\n",
    "\n",
    "The three main components of the Golden Crossover strategy are:\n",
    "- **Simple moving averages (SMAs)**: moving averages are calculated by taking the average price of an asset over a specified period. In the case of the golden crossover strategy, two specific SMAs are used: the short-term moving average and the long-term moving average.\n",
    "- **Golden crossover**: the golden crossover occurs when the short-term moving average crosses above the long-term moving average. It is considered a bullish signal.\n",
    "- **Death cross**: occurs when the short-term moving average crosses below the long-term moving average. It is considered a bearish signal.\n",
    "\n",
    "\n",
    "## Our strategy\n",
    "- Will generate and test a golden cross strategy for trading the E-mini S&P 500 (ES) futures contract. \n",
    "- The strategy will use two simple moving averages (SMAs) with different time periods (60 days and 1 year) to generate buy and sell signals based on golden crossover and death cross events.\n",
    "\n",
    "## 1. Create the simple moving averages   \n",
    "First, we define the futures contract. This done using the `RollingFutureStrategy` class. \n",
    "\n",
    ">The `contract_code` and `contract_sector` can be found in our [API data catalog](https://sigtechapi.streamlit.app/)."
   ]
  },
  {
   "cell_type": "code",
   "execution_count": null,
   "metadata": {},
   "outputs": [],
   "source": [
    "es = sig.RollingFutureStrategy(\n",
    "        contract_code='ES',\n",
    "        contract_sector='INDEX',\n",
    "        currency='USD',\n",
    "        start_date='2015-01-01'\n",
    "    )\n",
    "es.history() # Function from our library which calls the historical values of the futures contract."
   ]
  },
  {
   "attachments": {},
   "cell_type": "markdown",
   "metadata": {},
   "source": [
    "Next we need to define the short-term and long-term moving average.\n",
    "\n",
    "The following code calculates the 10-day percentage change of the ES futures price and adds it as a new column to `total_df`. Two new columns are added to `total_df`, representing the 60-day and 1-year simple moving averages (SMA) of the ES futures price. Rows with any missing data are dropped."
   ]
  },
  {
   "cell_type": "code",
   "execution_count": null,
   "metadata": {},
   "outputs": [],
   "source": [
    "\n",
    "total_df = pd.DataFrame(es.history().rename(es.name)).dropna()\n",
    "\n",
    "total_df['10d_pct_chg'] = total_df[es.name].pct_change(10)*100\n",
    "total_df['60d_sma'] = total_df[es.name].rolling(60).mean().dropna()\n",
    "total_df['1yr_sma'] = total_df[es.name].rolling(252).mean().dropna()\n",
    "total_df = total_df.dropna()\n",
    "total_df.tail(10)"
   ]
  },
  {
   "attachments": {},
   "cell_type": "markdown",
   "metadata": {},
   "source": [
    "We can generate a plot for the ES futures price, the 60-day SMA, and the 1-year SMA using `.plot()`."
   ]
  },
  {
   "cell_type": "code",
   "execution_count": null,
   "metadata": {},
   "outputs": [],
   "source": [
    "total_df.plot(y=[es.name,'60d_sma','1yr_sma'],figsize=(20,10))"
   ]
  },
  {
   "attachments": {},
   "cell_type": "markdown",
   "metadata": {},
   "source": [
    "## 2. Generate a signal for the golden crossover\n",
    "First we need to convert our DataFrame into one which is compatible with `SignalStrategy`. \n",
    "\n",
    "> A `SignalStrategy` requires a signal DataFrame as an input (this is a pandas DataFrame where the column headers are the instrument names and the values are the signals for each of the instruments). These signals can be either a number of units *or* a weight.\n",
    "\n",
    "The following codeblock generates a new column in `total_df` called `sma_signal`, which assigns a value of 1 when the 60-day SMA is greater than the 1-year SMA, and -1 otherwise. This represents the golden crossover (1) and death cross (-1) signals, respectively.\n",
    "\n",
    "`.head` shows what a signal DataFrame compatible with `SignalStrategy` looks like."
   ]
  },
  {
   "cell_type": "code",
   "execution_count": null,
   "metadata": {},
   "outputs": [],
   "source": [
    "total_df['sma_signal'] = np.where((total_df['60d_sma'] > total_df['1yr_sma']),1,-1)\n",
    "total_df.head(10)"
   ]
  },
  {
   "attachments": {},
   "cell_type": "markdown",
   "metadata": {},
   "source": [
    "## 3. Backtest the strategy\n",
    "Then we create our `SignalStrategy` using `total_df` as the `signal_input`. The following strategy rebalances every month. "
   ]
  },
  {
   "cell_type": "code",
   "execution_count": null,
   "metadata": {},
   "outputs": [],
   "source": [
    "signal = sig.SignalStrategy(\n",
    "    currency='USD',\n",
    "    signal_input=total_df[['sma_signal']].rename(columns={'sma_signal':es.name}),\n",
    "    start_date=total_df.first_valid_index().date(),\n",
    "    rebalance_frequency='EOM',\n",
    ")"
   ]
  },
  {
   "attachments": {},
   "cell_type": "markdown",
   "metadata": {},
   "source": [
    "We can view the historical performance of our strategy using `.history()` and plot these values using `.plot()`."
   ]
  },
  {
   "cell_type": "code",
   "execution_count": null,
   "metadata": {},
   "outputs": [],
   "source": [
    "signal.history().plot(figsize=(20,10))"
   ]
  }
 ],
 "metadata": {
  "kernelspec": {
   "display_name": "Python 3",
   "language": "python",
   "name": "python3"
  },
  "language_info": {
   "codemirror_mode": {
    "name": "ipython",
    "version": 3
   },
   "file_extension": ".py",
   "mimetype": "text/x-python",
   "name": "python",
   "nbconvert_exporter": "python",
   "pygments_lexer": "ipython3",
   "version": "3.11.3"
  },
  "orig_nbformat": 4,
  "vscode": {
   "interpreter": {
    "hash": "e483b20f2aef0cfe437b9ea488667fd01f59262bbb79f624806c97e02b0e6267"
   }
  }
 },
 "nbformat": 4,
 "nbformat_minor": 2
}
