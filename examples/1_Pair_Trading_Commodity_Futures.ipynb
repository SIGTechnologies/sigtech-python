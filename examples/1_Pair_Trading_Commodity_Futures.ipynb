{
 "cells": [
  {
   "attachments": {},
   "cell_type": "markdown",
   "id": "057f3e3a-8a2d-4816-a4b9-0825b92f5de0",
   "metadata": {},
   "source": [
    "# Example 1: Pair Trading - Commodity Futures\n",
    "\n",
    "## Pre-requisites\n",
    "### 1. Open the example notebook in Colab\n",
    "Our example notebooks assume you are using Google Colab. To open this notebook in Colab:\n",
    "1. Sign-up or login to [Google Colab](https://colab.research.google.com/).\n",
    "1. Select `File`.\n",
    "1. Select `Open notebook`.\n",
    "1. Select the `Github` tab.\n",
    "1. Then:\n",
    "    1. In `Enter a GitHub URL or search by organisation or user`, enter `SigTechnologies` and select the search option.\n",
    "    1. In the `Repository` drop-down menu, select `SIGTechnologies/sigtech-python`.\n",
    "    1. In the `branch` drop-down menu, select `master`.\n",
    "1. Select the file you want to open, in this case `examples/1_Pair_Trading_Commodity_Futures.ipynb`.\n",
    "\n",
    "### 2. Set up your Colab environment"
   ]
  },
  {
   "cell_type": "code",
   "execution_count": null,
   "id": "38cb14ad",
   "metadata": {},
   "outputs": [],
   "source": [
    "# Install our Python SDK\n",
    "!pip install sigtech \n",
    "\n",
    "import os\n",
    "import sigtech.api as sig\n",
    "\n",
    "# Define your API key as a string. Remember to delete it before sharing your notebook with others. \n",
    "os.environ['SIGTECH_API_KEY'] = '<YOUR_API_KEY>'\n",
    "\n",
    "# Import any additional Python libraries you require.\n",
    "import datetime as dtm\n",
    "import pandas as pd\n",
    "import numpy as np\n",
    "import matplotlib.pyplot as plt\n",
    "\n",
    "# Import the coint function from the statsmodels.tsa.stattools module.\n",
    "# The coint function tests for the presence of a cointegrating relationship between two or more time series.\n",
    "from statsmodels.tsa.stattools import coint \n",
    "\n",
    "# Set the default figure size for matplotlib plots.\n",
    "plt.rcParams['figure.figsize'] = [16, 8] "
   ]
  },
  {
   "attachments": {},
   "cell_type": "markdown",
   "id": "2579653c",
   "metadata": {},
   "source": [
    "### 3. Create a session\n",
    "After installing our Python SDK, defining your API key, importing any additional Python libraries or functions you require, and setting any default parameters, initialize your session."
   ]
  },
  {
   "cell_type": "code",
   "execution_count": null,
   "id": "aeea4ef8",
   "metadata": {},
   "outputs": [],
   "source": [
    "sig.init()"
   ]
  },
  {
   "attachments": {},
   "cell_type": "markdown",
   "id": "eb5fdaa9",
   "metadata": {},
   "source": [
    "## Introduction to pairs trading\n",
    "A pairs trading strategy is a market-neutral trading strategy that simultaneously trades two correlated financial instruments in order to profit from temporary price divergences between them. The strategy is based on the concept of cointegration, which suggests that certain assets move together in the long run, even though they may experience short-term price deviations.\n",
    "\n",
    "Here's how backtesting a pairs trading strategy typically works:\n",
    "\n",
    "1. **Identifying pairs** - we try to find assets that have historically exhibited a strong correlation. These assets can be from the same sector or industry, have similar business models, or belong to related markets. \n",
    "\n",
    "1. **Calculating the Spread** - after identifying some assets which could potentially exhibit cointegration, we calculate the spread between the two asset prices. The spread is typically a simple arithmetic difference or a normalized z-score between the prices of the two assets.\n",
    "\n",
    "1. **Generating signals** - for assets which do exhibit cointegration, we define some signals, based on statistical measures, to determine when to initiate trades. These signals signify a trading direction depending on if the spread widens or narrows relative to its historical mean or equilibrium level.\n",
    "\n",
    "1. **Backtesting** - finally, we backtest the performance of a strategy which trades when the spread widens significantly beyond some predetermined thresholds. If the spread becomes too wide, we short the relatively expensive asset and simultaneously go long on the relatively cheap asset. Conversely, when the spread narrows and comes back within the threshold, we close the positions. \n",
    "\n",
    "## Our strategy\n",
    "1. **Identifying pairs** - we will investigate if there is cointegration between the prices of feeder cattle, live cattle, corn and rough rice.\n",
    "1. **Calculating the spread** - we will calculate the spread using cointegration steps from the `statsmodel` library.\n",
    "1. **Generating signals** - we will calculate the spread using the z_score_limit and window size for the price relationship between paired assets.\n",
    "1. **Backtesting** - we will use the `sig.SignalStrategy` method, to backtest the performance of a pairs trading strategy based on the cointegrated assets.\n",
    "\n",
    "## 1. Identifying pairs\n",
    "The assets being considered in this strategy are:\n",
    "\n",
    "- **Feeder Cattle (FC)**: Feeder cattle are weaned calves that are sent to feedlots to be fattened for slaughter. Their prices can be influenced by factors such as feed prices, weather, and beef demand.\n",
    "- **Live Cattle (LC)**: Live cattle are cattle that are ready for slaughter. Similar to feeder cattle, their prices can be affected by feed prices, weather, and beef demand, as well as export markets.\n",
    "- **Corn (C)**: Corn is a staple crop used in food production and as a feedstock in the production of ethanol. Its prices can be influenced by weather, crop yields, and demand from the ethanol industry.\n",
    "- **Rough Rice (RR)**: Rough rice is rice that has just been harvested and has not yet been milled. Its prices can be influenced by weather, crop yields, and demand from both domestic and international rice markets.\n",
    "\n",
    "Our hypothesis before backtesting this strategy is that there will be some cointegration between the price of feeder cattle and live cattle and also between the price of corn and rough rice. We are also considering the possibility that we may find unexpected cointegration between the prices of one of the cattle assets and one of the grain assets.\n",
    "\n",
    "## 2. Calculating the spread\n",
    "\n",
    "### 2.1 Create Rolling Futures for each asset\n",
    "\n",
    "To initialize futures strategies for each of the commodity assets we are interested in, we will use our SDKs `RollingFutureStrategy` class to set up our futures contracts. \n",
    "\n",
    "A full explanation for each parameter in the `sig.RollingFuturesStrategy` can be seen by running the following code cell to view the class's docstring. In short:\n",
    "- The `rolling_rule` parameter is set to `f_0`, meaning we are using the adjusted front month contract.\n",
    "- The `monthly_roll_days` parameter is set to `5:9`, meaning futures contracts will be rolled between the 5th and 9th business days of the month."
   ]
  },
  {
   "cell_type": "code",
   "execution_count": null,
   "id": "3669dd9e-fa4d-4051-947e-0ec478a0eb53",
   "metadata": {},
   "outputs": [],
   "source": [
    "sig.RollingFutureStrategy?"
   ]
  },
  {
   "attachments": {},
   "cell_type": "markdown",
   "id": "d5bdecdd",
   "metadata": {},
   "source": [
    "Run the following cell to create the rolling future strategies for our chosen commodities."
   ]
  },
  {
   "cell_type": "code",
   "execution_count": null,
   "id": "dcc1336c-0e89-4f7c-9af0-d45014464ef3",
   "metadata": {},
   "outputs": [],
   "source": [
    "# Feeder Cattle\n",
    "fc = sig.RollingFutureStrategy(\n",
    "    currency='USD',\n",
    "    start_date=dtm.date(2010,1,10),\n",
    "    contract_code='FC',\n",
    "    contract_sector='COMDTY',\n",
    "    monthly_roll_days = '5:9',\n",
    "    rolling_rule='f_0',\n",
    ")\n",
    "\n",
    "# Live Cattle\n",
    "lc = sig.RollingFutureStrategy(\n",
    "    currency='USD',\n",
    "    start_date=dtm.date(2010,1,10),\n",
    "    contract_code='LC',\n",
    "    contract_sector='COMDTY',\n",
    "    monthly_roll_days = '5:9',\n",
    "    rolling_rule='f_0',\n",
    ")\n",
    "\n",
    "# Corn\n",
    "c = sig.RollingFutureStrategy(\n",
    "    currency='USD',\n",
    "    start_date=dtm.date(2010,1,10),\n",
    "    contract_code='C',\n",
    "    contract_sector='COMDTY',\n",
    "    monthly_roll_days = '5:9',\n",
    "    rolling_rule='f_0',\n",
    ")\n",
    "\n",
    "# Rough Rice\n",
    "rr = sig.RollingFutureStrategy(\n",
    "    currency='USD',\n",
    "    start_date=dtm.date(2010,1,10),\n",
    "    contract_code='RR',\n",
    "    contract_sector='COMDTY',\n",
    "    monthly_roll_days = '5:9',\n",
    "    rolling_rule='f_0',\n",
    ")"
   ]
  },
  {
   "attachments": {},
   "cell_type": "markdown",
   "id": "2fdf1986-5477-43fc-ba24-b68750e3f13c",
   "metadata": {},
   "source": [
    "### 2.2 Define a function which will test pairs of commodities for cointegration\n",
    "\n",
    "After initializing our futures strategies, the next step in our pairs trading strategy is to test for cointegration between the various pairs of commodities. Cointegration is a statistical property of two or more time series variables which indicates if a linear combination of them is stationary. In the context of pairs trading, if two assets are cointegrated, it means they move together in such a way that the spread between them is mean-reverting. This property is fundamental to the success of a pairs trading strategy.\n",
    "\n",
    "To test for cointegration, we first retrieve the historical data for each asset and then reindex them to ensure they are of the same size. We then use the `coint` function from the `statsmodels` library to run a cointegration test. This function returns a score, p-value, and critical values. We primarily focus on the p-value, which tells us the probability that we would see the observed data if the two series were not cointegrated.\n",
    "\n",
    "We define a function `test_cointegration(asset1, asset2)`, which takes two assets as inputs, performs the cointegration test, and prints the p-value. If the p-value is less than 0.05 (a common threshold in statistical testing), we conclude that the assets are cointegrated and we can proceed with a pairs trading strategy. If the p-value is above 0.05, we conclude that the assets are not cointegrated, and we should not proceed with pairs trading.\n",
    "\n",
    "> The cointegration test used is the Engle-Granger cointegration test. The two time series being tested for cointegration are considered as endogenous (endog) and exogenous (exog) variables.\n",
    "> The endogenous variable is the primary variable of interest in the cointegration test. It is the time series being tested to see if it has a long-term relationship with another time series (the exogenous variable)"
   ]
  },
  {
   "cell_type": "code",
   "execution_count": null,
   "id": "1c91d2a5-4da5-4e00-8a62-62ca61b79dae",
   "metadata": {},
   "outputs": [],
   "source": [
    "def test_cointegration(asset1, asset2):\n",
    "    \n",
    "    # Fetch the history of the rolling future strategy for asset1 and asset2\n",
    "    asset1_df = asset1.history().dropna()\n",
    "    asset2_df = asset2.history().dropna()\n",
    "    \n",
    "    \n",
    "    # Ensure endog and exog are of the same size \n",
    "    asset1_df = asset1_df.reindex(asset2_df.index).fillna(method='ffill')\n",
    "    asset2_df = asset2_df.reindex(asset1_df.index).fillna(method='ffill')\n",
    "    \n",
    "    # Run cointegration test\n",
    "    score, pvalue, _ = coint(asset1_df, asset2_df)\n",
    "    print('--------')\n",
    "    print(f'p-value of cointegration test between {asset1.name} and {asset2.name}: {pvalue}')\n",
    "    \n",
    "    # For this example we define the threshold of 0.05 for the p-value\n",
    "    if pvalue < 0.05:\n",
    "        print('Assets are cointegrated, proceed with pairs trading strategy.')\n",
    "        print('--------')\n",
    "\n",
    "    else:\n",
    "        print('Assets are not cointegrated, do not proceed with pairs trading.')\n",
    "        print('--------')"
   ]
  },
  {
   "attachments": {},
   "cell_type": "markdown",
   "id": "2f6ed419",
   "metadata": {},
   "source": [
    "### 2.3 Test for cointegration between different assets"
   ]
  },
  {
   "cell_type": "code",
   "execution_count": null,
   "id": "7ff73702-af41-4c6f-839e-ca75b87d28f4",
   "metadata": {},
   "outputs": [],
   "source": [
    "test_cointegration(fc, lc)"
   ]
  },
  {
   "cell_type": "markdown",
   "id": "9d3ddfc0-2d94-4cef-b156-a05dbe02fb9a",
   "metadata": {},
   "source": [
    "In the test above, we are checking for cointegration between Feeder Cattle and Live Cattle. The output shows that the p-value of the cointegration test is less than 0.05, indicating that these two assets are cointegrated and suitable for pairs trading.\n"
   ]
  },
  {
   "cell_type": "code",
   "execution_count": null,
   "id": "ca893d14-63f9-44f2-b7cd-108fe61e3846",
   "metadata": {},
   "outputs": [],
   "source": [
    "test_cointegration(c, rr)"
   ]
  },
  {
   "attachments": {},
   "cell_type": "markdown",
   "id": "b6070e81-e318-47b7-97e1-6105cffe23b2",
   "metadata": {},
   "source": [
    "Similarly, in the test above, we tested for cointegration between Corn and Rough Rice. The result again shows a p-value less than 0.05, suggesting these two assets are also cointegrated.\n"
   ]
  },
  {
   "cell_type": "code",
   "execution_count": null,
   "id": "fc3d83c4-c838-4e40-95ed-71d694aed370",
   "metadata": {},
   "outputs": [],
   "source": [
    "test_cointegration(fc, c)"
   ]
  },
  {
   "cell_type": "markdown",
   "id": "be3079a9-14ca-4abc-a9f9-84f270e87700",
   "metadata": {},
   "source": [
    "In contrast, when we test for cointegration between Feeder Cattle and Corn, the p-value is greater than 0.05. This suggests that these two assets are not cointegrated and should not be used for pairs trading.\n",
    "\n",
    "These tests help us identify which pairs of assets move together in a way that makes them suitable for pairs trading. We can use this process to test any number of asset pairs as part of our strategy development.\n"
   ]
  },
  {
   "attachments": {},
   "cell_type": "markdown",
   "id": "2a8c35bf-3932-402d-8c44-a6ce01442163",
   "metadata": {},
   "source": [
    "## 3. Generate Trading Signals"
   ]
  },
  {
   "attachments": {},
   "cell_type": "markdown",
   "id": "188642de-33d4-44b8-95e7-bb2f66096f3a",
   "metadata": {},
   "source": [
    "Now that we've identified pairs of commodities that are cointegrated, the next step in our pairs trading strategy is to generate trading signals. These signals tell us when to enter and exit our long and short positions.\n",
    "\n",
    "To generate these signals, we define a function `generate_pairs_trading_signals(asset1, asset2, window, zscore_limit)`. This function takes two assets, a window size, and a z-score limit as inputs. The window size is the number of periods used for calculating the moving average and standard deviation of the price spread. The z-score limit defines our threshold for entering and exiting trades.\n",
    "\n",
    "The function proceeds as follows:\n",
    "1. Fetch the historical data for each asset.\n",
    "2. Calculate the spread between the two assets.\n",
    "3. Calculate the z-score of the spread. The z-score tells us how many standard deviations the spread is from its moving average. A high positive z-score indicates the spread is higher than usual, suggesting that asset1 is overpriced relative to asset2, and vice versa for a high negative z-score.\n",
    "4. Generate trading signals based on the z-score. \n",
    "    1. If the z-score is less than the negative of the `zscore_limit`, it indicates entering a long position.\n",
    "    1. If the z-score is greater than or equal to 0, it indicates exiting a long position.\n",
    "    1. If the z-score is greater than the `zscore_limit`, it indicates entering a short position.\n",
    "    1. If the z-score is less than or equal to 0, it indicates exiting a short position.\n",
    "5. The function then creates a DataFrame to hold these signals and carries forward the positions when no action is taken. \n",
    "6. We combine the long and short positions to get our final positions.\n"
   ]
  },
  {
   "cell_type": "code",
   "execution_count": null,
   "id": "60475f25-5fdf-45ba-ab5c-eced35e7593d",
   "metadata": {},
   "outputs": [],
   "source": [
    "def generate_pairs_trading_signals(asset1, asset2, window, zscore_limit):\n",
    "    # Fetch the historical data for each asset\n",
    "    asset1_df = asset1.history()\n",
    "    asset2_df = asset2.history()\n",
    "    \n",
    "    # Calculate the spread\n",
    "    spread = asset1_df - asset2_df\n",
    "    \n",
    "    # Calculate the z-score of the spread\n",
    "    spread_mean = spread.rolling(window).mean()\n",
    "    spread_std = spread.rolling(window).std()\n",
    "    zscore = (spread - spread_mean) / spread_std\n",
    "    \n",
    "    # Create signals based on the z-score\n",
    "    df = pd.DataFrame()\n",
    "    df['long_entry'] = zscore < -zscore_limit\n",
    "    df['long_exit'] = zscore >= 0\n",
    "    df['short_entry'] = zscore > zscore_limit\n",
    "    df['short_exit'] = zscore <= 0\n",
    "    \n",
    "    # Carry forward the positions when no action is taken for long positions\n",
    "    df['positions_long'] = np.nan\n",
    "    df.loc[df['long_entry'],'positions_long'] = 1\n",
    "    df.loc[df['long_exit'],'positions_long'] = 0\n",
    "    df['positions_long'].ffill(inplace=True)\n",
    "    \n",
    "    # Carry forward the positions when no action is taken for short positions\n",
    "    df['positions_short'] = np.nan\n",
    "    df.loc[df['short_entry'],'positions_short'] = -1\n",
    "    df.loc[df['short_exit'],'positions_short'] = 0\n",
    "    df['positions_short'].ffill(inplace=True)\n",
    "    \n",
    "    # Combine the long and short positions to get the final positions\n",
    "    df['positions'] = df['positions_long'] + df['positions_short']\n",
    "    \n",
    "    # Return long/short signals mapped to our assets.\n",
    "    \n",
    "    return pd.DataFrame({asset1.name:df['positions'], asset2.name:df['positions']*-1})"
   ]
  },
  {
   "attachments": {},
   "cell_type": "markdown",
   "id": "bd9b5b4a",
   "metadata": {},
   "source": [
    "Next, we generate trading signals for our cointegrated pairs, Feeder Cattle and Live Cattle, as well as Corn and Rough Rice. We're using a 21-day rolling window to calculate our z-scores, and a z-score limit of 2 to generate our trading signals. This means we'll enter a trade when the z-score is above 2 or below -2, and exit when the z-score crosses back over zero.\n",
    "\n",
    "The result is a DataFrame for each pair, containing our trading signals, which is compatible with our `SignalStrategy` class. \n",
    "\n",
    "> A `SignalStrategy` requires a `signal_input`, this is a dataframe where the column headers are the instrument names and the values are the signals for each of the instruments). These signals can be either a number of units *or* a weight.\n"
   ]
  },
  {
   "cell_type": "code",
   "execution_count": null,
   "id": "2af0468f-fa42-4d48-8b09-35fc0b7420aa",
   "metadata": {},
   "outputs": [],
   "source": [
    "fc_lc_signal_df = generate_pairs_trading_signals(fc, lc, 21, 2).dropna()\n",
    "c_rr_signal_df = generate_pairs_trading_signals(c, rr, 21, 2).dropna()"
   ]
  },
  {
   "attachments": {},
   "cell_type": "markdown",
   "id": "63134b88",
   "metadata": {},
   "source": [
    "We can also see when each asset in a cointegrated asset pair will be longed or shorted over the course of a strategy based on the dataframe generated from the trading signals."
   ]
  },
  {
   "cell_type": "code",
   "execution_count": null,
   "id": "c037826c-6d54-4877-be55-298cc0b33f8c",
   "metadata": {},
   "outputs": [],
   "source": [
    "fc_lc_signal_df['2020-01-01':].plot()"
   ]
  },
  {
   "attachments": {},
   "cell_type": "markdown",
   "id": "360fc7f0-3a50-41b5-8aab-b78235f82bd6",
   "metadata": {},
   "source": [
    "## 4. Backtesting the historical performance of each pair trading strategy"
   ]
  },
  {
   "attachments": {},
   "cell_type": "markdown",
   "id": "7a81e224-eaba-489a-b2ed-23a1750b9b5d",
   "metadata": {},
   "source": [
    "After generating the trading signals, the next step is to backtest these signals. Backtesting involves running our strategy on historical data to see how it would have performed. This gives us a sense of how our strategy might perform in the future, although it's important to remember that past performance is not always indicative of future results.\n",
    "\n",
    "In the code below, we backtest our pairs trading strategy for the two pairs of commodities we identified earlier: Feeder Cattle and Live Cattle, and Corn and Rough Rice.\n",
    "\n",
    "We use the `SignalStrategy` class perform our backtest. This class takes several parameters:\n",
    "- `currency`: The currency used for the strategy.\n",
    "- `signal_input`: The signal dataframe.\n",
    "- `start_date`: The start date of the strategy, which we get from the first valid index of our signal dataframes.\n",
    "- `rebalance_frequency`: The frequency at which the strategy rebalances. Here, we use `1BD` for one business day.\n",
    "\n",
    "We create a new `SignalStrategy` object for each pair of commodities.\n"
   ]
  },
  {
   "cell_type": "code",
   "execution_count": null,
   "id": "9618fa4b-e521-4c91-b796-277d9b318572",
   "metadata": {},
   "outputs": [],
   "source": [
    "sig.SignalStrategy?"
   ]
  },
  {
   "cell_type": "code",
   "execution_count": null,
   "id": "a2cb883f-5304-4f9c-8429-c69e1980b75c",
   "metadata": {},
   "outputs": [],
   "source": [
    "fc_lc_pairs_trading_strategy = sig.SignalStrategy(\n",
    "    currency='USD',\n",
    "    signal_input=fc_lc_signal_df,\n",
    "    start_date=fc_lc_signal_df.first_valid_index().date(),\n",
    "    rebalance_frequency='1BD',\n",
    ")\n",
    "\n",
    "c_rr_pairs_trading_strategy = sig.SignalStrategy(\n",
    "    currency='USD',\n",
    "    signal_input=c_rr_signal_df,\n",
    "    start_date=fc_lc_signal_df.first_valid_index().date(),\n",
    "    rebalance_frequency='1BD',\n",
    ")"
   ]
  },
  {
   "attachments": {},
   "cell_type": "markdown",
   "id": "7599547f-50bc-48c8-b0d8-4b7944b7d268",
   "metadata": {},
   "source": [
    "The `SignalStrategy` objects represent our backtested pairs trading strategies. We can use these objects to analyze the performance of our strategies.\n"
   ]
  },
  {
   "cell_type": "code",
   "execution_count": null,
   "id": "50fc5171-6500-486b-ade3-c45bcd9e4244",
   "metadata": {},
   "outputs": [],
   "source": [
    "fc_lc_pairs_trading_strategy.history().plot(label = 'FC-LC Pairs Trading Strategy', legend = True, figsize = [16,8])\n",
    "c_rr_pairs_trading_strategy.history().plot(label = 'C-RR Pairs Trading Strategy', legend = True)"
   ]
  },
  {
   "attachments": {},
   "cell_type": "markdown",
   "id": "f3be2656-6291-4e89-8a7f-ea3b0dff875b",
   "metadata": {},
   "source": [
    "## 5. Backtesting the performance of a portfolio containing these strategies"
   ]
  },
  {
   "attachments": {},
   "cell_type": "markdown",
   "id": "6e5812eb-bf4c-4d57-90ff-abcd14deeecc",
   "metadata": {},
   "source": [
    "After backtesting the signals, we can combine these strategies into a portfolio. The code below uses the `BasketStrategy` class to simulate a portfolio. It takes several parameters:\n",
    "\n",
    "- `currency`: the currency used for the strategy.\n",
    "- `start_date`: the start date of the strategy.\n",
    "- `constituent_names`: the names of the constituent strategies, which are the names of our pairs trading strategies.\n",
    "- `weights`: the relative weights of the constituent strategies in the portfolio.\n",
    "- `rebalance_frequency`: The frequency at which the portfolio rebalances.\n",
    "\n",
    "You can see a full explanation of the `BasketStrategy` class by viewing its docstring."
   ]
  },
  {
   "cell_type": "code",
   "execution_count": null,
   "id": "8c95d329-cc80-4656-92e1-650ffb211c7d",
   "metadata": {},
   "outputs": [],
   "source": [
    "sig.BasketStrategy?"
   ]
  },
  {
   "attachments": {},
   "cell_type": "markdown",
   "id": "a193baa2",
   "metadata": {},
   "source": [
    "Now we can define our portolio and backtest its historical performance."
   ]
  },
  {
   "cell_type": "code",
   "execution_count": null,
   "id": "418f7ef6-aec2-4b6a-8dd2-ac297993e906",
   "metadata": {},
   "outputs": [],
   "source": [
    "simple_basket = sig.BasketStrategy(\n",
    "    currency='USD',\n",
    "    start_date=dtm.date(2011,2,15),\n",
    "    constituent_names=[\n",
    "        fc_lc_pairs_trading_strategy.name,\n",
    "        c_rr_pairs_trading_strategy.name,\n",
    "    ],\n",
    "    weights=[0.7, 0.3], # The strategy will rebalance so that the feed cattle:live cattle pair account for 70% of assets within the strategy.\n",
    "    rebalance_frequency='EOM', # The strategy will rebalance at the end of each month.\n",
    ")"
   ]
  },
  {
   "attachments": {},
   "cell_type": "markdown",
   "id": "6c723f27",
   "metadata": {},
   "source": [
    "Finally, we can plot the performance of our portfolio."
   ]
  },
  {
   "cell_type": "code",
   "execution_count": null,
   "id": "300e9b1d-65b0-4515-ae43-2eff26b9df5d",
   "metadata": {},
   "outputs": [],
   "source": [
    "simple_basket.history().plot()"
   ]
  }
 ],
 "metadata": {
  "kernelspec": {
   "display_name": "Python 3",
   "language": "python",
   "name": "python3"
  },
  "language_info": {
   "codemirror_mode": {
    "name": "ipython",
    "version": 3
   },
   "file_extension": ".py",
   "mimetype": "text/x-python",
   "name": "python",
   "nbconvert_exporter": "python",
   "pygments_lexer": "ipython3",
   "version": "3.11.3"
  },
  "vscode": {
   "interpreter": {
    "hash": "e483b20f2aef0cfe437b9ea488667fd01f59262bbb79f624806c97e02b0e6267"
   }
  }
 },
 "nbformat": 4,
 "nbformat_minor": 5
}
