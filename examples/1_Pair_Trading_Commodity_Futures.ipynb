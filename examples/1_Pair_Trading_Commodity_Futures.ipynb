{
 "cells": [
  {
   "cell_type": "markdown",
   "id": "057f3e3a-8a2d-4816-a4b9-0825b92f5de0",
   "metadata": {},
   "source": [
    "# Pair Trading - Commodity Futures"
   ]
  },
  {
   "cell_type": "markdown",
   "id": "ad8f4fbf-0982-46a9-88c8-8cb92ef8bd6c",
   "metadata": {},
   "source": [
    "- Pairs trading is a market-neutral trading strategy that seeks to take advantage of temporary price anomalies between related securities. The notebook identifies pairs of assets whose prices have moved together historically and then trades on the expectation that any deviation from this historical pattern will be corrected.\n",
    "\n",
    "- Trading signals are generated based on the z_score_limit and window size for the price relationship between paired assets.\n",
    "\n",
    "- The trading strategies are combined into a top-level portfolio.\n"
   ]
  },
  {
   "cell_type": "markdown",
   "id": "b31f8da7-13d7-42f7-8d52-b2ba82c7fe4a",
   "metadata": {},
   "source": [
    "___"
   ]
  },
  {
   "cell_type": "code",
   "execution_count": null,
   "id": "d76c370c-0451-4925-a0ab-7ef0ebaa7fa3",
   "metadata": {},
   "outputs": [],
   "source": [
    "import datetime as dtm\n",
    "import pandas as pd\n",
    "import numpy as np\n",
    "\n",
    "from statsmodels.tsa.stattools import coint\n",
    "\n",
    "import os\n",
    "os.environ['SIGTECH_API_KEY'] = 'ENTER_API_KEY_HERE'\n",
    "\n",
    "import matplotlib.pyplot as plt\n",
    "plt.rcParams['figure.figsize'] = [16, 8]"
   ]
  },
  {
   "cell_type": "code",
   "execution_count": null,
   "id": "27facaf8-6ccc-430d-bac9-2bb865c76032",
   "metadata": {},
   "outputs": [],
   "source": [
    "import sigtech.api as sig\n",
    "sig.init()"
   ]
  },
  {
   "cell_type": "code",
   "execution_count": null,
   "id": "4c3479f6-f328-49f9-acd1-d1a22e5a15ba",
   "metadata": {},
   "outputs": [],
   "source": [
    "start_date = dtm.date(2010,1,10)"
   ]
  },
  {
   "cell_type": "markdown",
   "id": "2b3366ec-8823-42cd-87a5-95cb4853c85b",
   "metadata": {},
   "source": [
    "___"
   ]
  },
  {
   "cell_type": "markdown",
   "id": "fbb90fb0-01d6-49d0-be63-a3ec00201aae",
   "metadata": {},
   "source": [
    "## Create Rolling Futures"
   ]
  },
  {
   "cell_type": "markdown",
   "id": "474ac179-610f-454d-9694-add3be13abf2",
   "metadata": {},
   "source": [
    "In the following cell, we are initializing our futures strategies for each of the commodity assets we are interested in. We are using the `RollingFutureStrategy` class to set up our futures contracts. \n",
    "\n",
    "We specify the currency as 'USD', set the start date for our strategy, and provide the contract code and sector for each commodity. The `rolling_rule` parameter is set to 'f_0', which indicates that we are using the adjusted front month contract.\n",
    "\n",
    "The commodities we are initializing here are:\n",
    "\n",
    "- **Feeder Cattle (FC)**: Feeder cattle are weaned calves that are sent to feedlots to be fattened for slaughter. Their prices can be influenced by factors such as feed prices, weather, and beef demand.\n",
    "\n",
    "- **Live Cattle (LC)**: Live cattle are cattle that are ready for slaughter. Similar to feeder cattle, their prices can be affected by feed prices, weather, and beef demand, as well as export markets.\n",
    "\n",
    "- **Corn (C)**: Corn is a staple crop used in food production and as a feedstock in the production of ethanol. Its prices can be influenced by weather, crop yields, and demand from the ethanol industry.\n",
    "\n",
    "- **Rough Rice (RR)**: Rough rice is rice that has just been harvested and has not yet been milled. Its prices can be influenced by weather, crop yields, and demand from both domestic and international rice markets.\n"
   ]
  },
  {
   "cell_type": "code",
   "execution_count": null,
   "id": "3669dd9e-fa4d-4051-947e-0ec478a0eb53",
   "metadata": {},
   "outputs": [],
   "source": [
    "sig.RollingFutureStrategy?"
   ]
  },
  {
   "cell_type": "code",
   "execution_count": null,
   "id": "dcc1336c-0e89-4f7c-9af0-d45014464ef3",
   "metadata": {},
   "outputs": [],
   "source": [
    "# Feeder Cattle\n",
    "fc = sig.RollingFutureStrategy(\n",
    "    currency='USD',\n",
    "    start_date=start_date,\n",
    "    contract_code='FC',\n",
    "    contract_sector='COMDTY',\n",
    "    monthly_roll_days = '5:9',\n",
    "    rolling_rule='f_0',\n",
    ")\n",
    "\n",
    "# Live Cattle\n",
    "lc = sig.RollingFutureStrategy(\n",
    "    currency='USD',\n",
    "    start_date=start_date,\n",
    "    contract_code='LC',\n",
    "    contract_sector='COMDTY',\n",
    "    monthly_roll_days = '5:9',\n",
    "    rolling_rule='f_0',\n",
    ")\n",
    "\n",
    "# Corn\n",
    "c = sig.RollingFutureStrategy(\n",
    "    currency='USD',\n",
    "    start_date=start_date,\n",
    "    contract_code='C',\n",
    "    contract_sector='COMDTY',\n",
    "    monthly_roll_days = '5:9',\n",
    "    rolling_rule='f_0',\n",
    ")\n",
    "\n",
    "# Rough Rice\n",
    "rr = sig.RollingFutureStrategy(\n",
    "    currency='USD',\n",
    "    start_date=start_date,\n",
    "    contract_code='RR',\n",
    "    contract_sector='COMDTY',\n",
    "    monthly_roll_days = '5:9',\n",
    "    rolling_rule='f_0',\n",
    ")"
   ]
  },
  {
   "cell_type": "markdown",
   "id": "8edef71e-e5d3-4168-8b73-1db1eb92f622",
   "metadata": {},
   "source": [
    "___"
   ]
  },
  {
   "cell_type": "markdown",
   "id": "2fdf1986-5477-43fc-ba24-b68750e3f13c",
   "metadata": {},
   "source": [
    "## Cointegration Tests"
   ]
  },
  {
   "cell_type": "markdown",
   "id": "d6c4ae70-20de-4003-8c7e-b3a76e7432e5",
   "metadata": {},
   "source": [
    "After initializing our futures strategies, the next step in our pairs trading strategy is to test for cointegration between the various pairs of commodities. Cointegration is a statistical property of two or more time series variables which indicates if a linear combination of them is stationary. In the context of pairs trading, if two assets are cointegrated, it means they move together in such a way that the spread between them is mean-reverting. This property is fundamental to the success of a pairs trading strategy.\n",
    "\n",
    "To test for cointegration, we first retrieve the historical data for each asset and then reindex them to ensure they are of the same size. We then use the `coint` function from the statsmodels library to run a cointegration test. This function returns a score, p-value, and critical values. We primarily focus on the p-value, which tells us the probability that we would see the observed data if the two series were not cointegrated.\n",
    "\n",
    "We define a function `test_cointegration(asset1, asset2)`, which takes two assets as inputs, performs the cointegration test, and prints the p-value. If the p-value is less than 0.05 (a common threshold in statistical testing), we conclude that the assets are cointegrated and we can proceed with a pairs trading strategy. If the p-value is above 0.05, we conclude that the assets are not cointegrated, and we should not proceed with pairs trading.\n"
   ]
  },
  {
   "cell_type": "code",
   "execution_count": null,
   "id": "1c91d2a5-4da5-4e00-8a62-62ca61b79dae",
   "metadata": {},
   "outputs": [],
   "source": [
    "def test_cointegration(asset1, asset2):\n",
    "    \n",
    "    # Fetch histories\n",
    "    asset1_df = asset1.history().dropna()\n",
    "    asset2_df = asset2.history().dropna()\n",
    "    \n",
    "    \n",
    "    # Ensure endog and exog are of the same size \n",
    "    asset1_df = asset1_df.reindex(asset2_df.index).fillna(method='ffill')\n",
    "    asset2_df = asset2_df.reindex(asset1_df.index).fillna(method='ffill')\n",
    "    \n",
    "    # Run cointegration test\n",
    "    score, pvalue, _ = coint(asset1_df, asset2_df)\n",
    "    print('--------')\n",
    "    print(f'p-value of cointegration test between {asset1.name} and {asset2.name}: {pvalue}')\n",
    "    \n",
    "    # Let's use an example threshold of 0.05 for the p-value\n",
    "    if pvalue < 0.05:\n",
    "        print('Assets are cointegrated, proceed with pairs trading strategy.')\n",
    "        print('--------')\n",
    "\n",
    "    else:\n",
    "        print('Assets are not cointegrated, do not proceed with pairs trading.')\n",
    "        print('--------')"
   ]
  },
  {
   "cell_type": "code",
   "execution_count": null,
   "id": "7ff73702-af41-4c6f-839e-ca75b87d28f4",
   "metadata": {},
   "outputs": [],
   "source": [
    "test_cointegration(fc, lc)"
   ]
  },
  {
   "cell_type": "markdown",
   "id": "9d3ddfc0-2d94-4cef-b156-a05dbe02fb9a",
   "metadata": {},
   "source": [
    "In the test above, we are checking for cointegration between Feeder Cattle and Live Cattle. The output shows that the p-value of the cointegration test is less than 0.05, indicating that these two assets are cointegrated and suitable for pairs trading.\n"
   ]
  },
  {
   "cell_type": "code",
   "execution_count": null,
   "id": "ca893d14-63f9-44f2-b7cd-108fe61e3846",
   "metadata": {},
   "outputs": [],
   "source": [
    "test_cointegration(c, rr)"
   ]
  },
  {
   "cell_type": "markdown",
   "id": "b6070e81-e318-47b7-97e1-6105cffe23b2",
   "metadata": {},
   "source": [
    "Similarly, we test for cointegration between Corn and Rough Rice. The result again shows a p-value less than 0.05, suggesting these two assets are also cointegrated.\n"
   ]
  },
  {
   "cell_type": "code",
   "execution_count": null,
   "id": "fc3d83c4-c838-4e40-95ed-71d694aed370",
   "metadata": {},
   "outputs": [],
   "source": [
    "test_cointegration(fc, c)"
   ]
  },
  {
   "cell_type": "markdown",
   "id": "be3079a9-14ca-4abc-a9f9-84f270e87700",
   "metadata": {},
   "source": [
    "In contrast, when we test for cointegration between Feeder Cattle and Corn, the p-value is greater than 0.05. This suggests that these two assets are not cointegrated and should not be used for pairs trading.\n",
    "\n",
    "These tests help us identify which pairs of assets move together in a way that makes them suitable for pairs trading. We can use this process to test any number of asset pairs as part of our strategy development.\n"
   ]
  },
  {
   "cell_type": "markdown",
   "id": "c179d184-6976-4417-be89-7028d3d7935a",
   "metadata": {},
   "source": [
    "___"
   ]
  },
  {
   "cell_type": "markdown",
   "id": "2a8c35bf-3932-402d-8c44-a6ce01442163",
   "metadata": {},
   "source": [
    "## Generate Trading Signals"
   ]
  },
  {
   "cell_type": "markdown",
   "id": "188642de-33d4-44b8-95e7-bb2f66096f3a",
   "metadata": {},
   "source": [
    "Now that we've identified pairs of commodities that are cointegrated, the next step in our pairs trading strategy is to generate trading signals. These signals tell us when to enter and exit our long and short positions.\n",
    "\n",
    "To generate these signals, we define a function `generate_pairs_trading_signals(asset1, asset2, window, zscore_limit)`. This function takes two assets, a window size, and a z-score limit as inputs. The window size is the number of periods used for calculating the moving average and standard deviation of the price spread. The z-score limit defines our threshold for entering and exiting trades.\n",
    "\n",
    "The function proceeds as follows:\n",
    "1. Fetch the historical data for each asset.\n",
    "2. Calculate the spread between the two assets.\n",
    "3. Calculate the z-score of the spread. The z-score tells us how many standard deviations the spread is from its moving average. A high positive z-score indicates the spread is higher than usual, suggesting that asset1 is overpriced relative to asset2, and vice versa for a high negative z-score.\n",
    "4. Generate trading signals based on the z-score. If the z-score is less than the negative of the z-score limit, we enter a long position. If the z-score is greater than the z-score limit, we enter a short position. We exit our long and short positions when the z-score crosses back over zero.\n",
    "5. The function then creates a DataFrame to hold these signals and carries forward the positions when no action is taken. \n",
    "6. We combine the long and short positions to get our final positions.\n"
   ]
  },
  {
   "cell_type": "code",
   "execution_count": null,
   "id": "60475f25-5fdf-45ba-ab5c-eced35e7593d",
   "metadata": {},
   "outputs": [],
   "source": [
    "def generate_pairs_trading_signals(asset1, asset2, window, zscore_limit):\n",
    "    # Fetch Histories\n",
    "    asset1_df = asset1.history()\n",
    "    asset2_df = asset2.history()\n",
    "    \n",
    "    # Calculate the spread\n",
    "    spread = asset1_df - asset2_df\n",
    "    \n",
    "    # Calculate the z-score of the spread\n",
    "    spread_mean = spread.rolling(window).mean()\n",
    "    spread_std = spread.rolling(window).std()\n",
    "    zscore = (spread - spread_mean) / spread_std\n",
    "    \n",
    "    # Create signals based on the z-score\n",
    "    df = pd.DataFrame()\n",
    "    df['long_entry'] = zscore < -zscore_limit\n",
    "    df['long_exit'] = zscore >= 0\n",
    "    df['short_entry'] = zscore > zscore_limit\n",
    "    df['short_exit'] = zscore <= 0\n",
    "    \n",
    "    # Carry forward the positions when no action is taken\n",
    "    df['positions_long'] = np.nan\n",
    "    df.loc[df['long_entry'],'positions_long'] = 1\n",
    "    df.loc[df['long_exit'],'positions_long'] = 0\n",
    "    df['positions_long'].ffill(inplace=True)\n",
    "    \n",
    "    df['positions_short'] = np.nan\n",
    "    df.loc[df['short_entry'],'positions_short'] = -1\n",
    "    df.loc[df['short_exit'],'positions_short'] = 0\n",
    "    df['positions_short'].ffill(inplace=True)\n",
    "    \n",
    "    # Combine the long and short positions to get the final positions\n",
    "    df['positions'] = df['positions_long'] + df['positions_short']\n",
    "    \n",
    "    # Return long/short signals mapped to our assets.\n",
    "    \n",
    "    return pd.DataFrame({asset1.name:df['positions'], asset2.name:df['positions']*-1})"
   ]
  },
  {
   "cell_type": "code",
   "execution_count": null,
   "id": "2af0468f-fa42-4d48-8b09-35fc0b7420aa",
   "metadata": {},
   "outputs": [],
   "source": [
    "fc_lc_signal_df = generate_pairs_trading_signals(fc, lc, 21, 2).dropna()\n",
    "c_rr_signal_df = generate_pairs_trading_signals(c, rr, 21, 2).dropna()"
   ]
  },
  {
   "cell_type": "code",
   "execution_count": null,
   "id": "c037826c-6d54-4877-be55-298cc0b33f8c",
   "metadata": {},
   "outputs": [],
   "source": [
    "fc_lc_signal_df['2023-01-01':].plot()"
   ]
  },
  {
   "cell_type": "markdown",
   "id": "bb8b1415-8fc3-48e9-a754-d8bc2ef9fdc0",
   "metadata": {},
   "source": [
    "In the code above, we generate trading signals for our cointegrated pairs, Feeder Cattle and Live Cattle, as well as Corn and Rough Rice. We're using a 21-day rolling window to calculate our z-scores, and a z-score limit of 2 to generate our trading signals. This means we'll enter a trade when the z-score is above 2 or below -2, and exit when the z-score crosses back over zero.\n",
    "\n",
    "The result is a DataFrame for each pair, containing our trading signals. We can use these signals to guide our trading decisions in the next steps of our pairs trading strategy.\n"
   ]
  },
  {
   "cell_type": "markdown",
   "id": "998b53f6-b3ec-4b40-ad68-fb23a42cf33d",
   "metadata": {},
   "source": [
    "___"
   ]
  },
  {
   "cell_type": "markdown",
   "id": "360fc7f0-3a50-41b5-8aab-b78235f82bd6",
   "metadata": {},
   "source": [
    "## Backtest Signals"
   ]
  },
  {
   "cell_type": "markdown",
   "id": "7a81e224-eaba-489a-b2ed-23a1750b9b5d",
   "metadata": {},
   "source": [
    "After generating the trading signals, the next step is to backtest these signals. Backtesting involves running our strategy on historical data to see how it would have performed. This gives us a sense of how our strategy might perform in the future, although it's important to remember that past performance is not always indicative of future results.\n",
    "\n",
    "In the code below, we backtest our pairs trading strategy for the two pairs of commodities we identified earlier: Feeder Cattle and Live Cattle, and Corn and Rough Rice.\n",
    "\n",
    "We use the `SignalStrategy` class perform our backtest. This class takes several parameters:\n",
    "- `currency`: The currency used for the strategy.\n",
    "- `signal_input`: The signal dataframe.\n",
    "- `start_date`: The start date of the strategy, which we get from the first valid index of our signal dataframes.\n",
    "- `rebalance_frequency`: The frequency at which the strategy rebalances. Here, we use '1BD' for one business day.\n",
    "\n",
    "We create a new `SignalStrategy` object for each pair of commodities.\n"
   ]
  },
  {
   "cell_type": "code",
   "execution_count": null,
   "id": "9618fa4b-e521-4c91-b796-277d9b318572",
   "metadata": {},
   "outputs": [],
   "source": [
    "sig.SignalStrategy?"
   ]
  },
  {
   "cell_type": "code",
   "execution_count": null,
   "id": "a2cb883f-5304-4f9c-8429-c69e1980b75c",
   "metadata": {},
   "outputs": [],
   "source": [
    "fc_lc_pairs_trading_strategy = sig.SignalStrategy(\n",
    "    currency='USD',\n",
    "    signal_input=fc_lc_signal_df,\n",
    "    start_date=fc_lc_signal_df.first_valid_index().date(),\n",
    "    rebalance_frequency='1BD',\n",
    ")\n",
    "\n",
    "c_rr_pairs_trading_strategy = sig.SignalStrategy(\n",
    "    currency='USD',\n",
    "    signal_input=c_rr_signal_df,\n",
    "    start_date=fc_lc_signal_df.first_valid_index().date(),\n",
    "    rebalance_frequency='1BD',\n",
    ")"
   ]
  },
  {
   "cell_type": "markdown",
   "id": "7599547f-50bc-48c8-b0d8-4b7944b7d268",
   "metadata": {},
   "source": [
    "The `SignalStrategy` objects represent our backtested pairs trading strategies. We can use these objects to analyze the performance of our strategies in the next steps.\n"
   ]
  },
  {
   "cell_type": "code",
   "execution_count": null,
   "id": "50fc5171-6500-486b-ade3-c45bcd9e4244",
   "metadata": {},
   "outputs": [],
   "source": [
    "fc_lc_pairs_trading_strategy.history().plot(label = 'FC-LC Pairs Trading Strategy', legend = True, figsize = [16,8])\n",
    "c_rr_pairs_trading_strategy.history().plot(label = 'C-RR Pairs Trading Strategy', legend = True)"
   ]
  },
  {
   "cell_type": "markdown",
   "id": "1de35972-a6f8-428e-a7e2-0f8aa82e71f1",
   "metadata": {},
   "source": [
    "___"
   ]
  },
  {
   "cell_type": "markdown",
   "id": "f3be2656-6291-4e89-8a7f-ea3b0dff875b",
   "metadata": {},
   "source": [
    "## Combine into Portfolio"
   ]
  },
  {
   "cell_type": "markdown",
   "id": "6e5812eb-bf4c-4d57-90ff-abcd14deeecc",
   "metadata": {},
   "source": [
    "After backtesting the signals, we can combine these strategies into a portfolio. A portfolio is a collection of financial investments like stocks, bonds, commodities, cash, and cash equivalents, including closed-end funds and exchange-traded funds (ETFs).\n",
    "\n",
    "In this case, we combine our two pairs trading strategies into a portfolio. The code below creates a new `BasketStrategy` object which represents this portfolio. It takes several parameters:\n",
    "- `currency`: The currency used for the strategy.\n",
    "- `start_date`: The start date of the strategy.\n",
    "- `constituent_names`: The names of the constituent strategies, which are the names of our pairs trading strategies.\n",
    "- `weights`: The weights of the constituent strategies in the portfolio. Here, we assign equal weights to both strategies.\n",
    "- `rebalance_frequency`: The frequency at which the portfolio rebalances. Here, we use 'EOM' for end of month.\n",
    "\n",
    "\n",
    "The `BasketStrategy` object represents our portfolio of pairs trading strategies.\n"
   ]
  },
  {
   "cell_type": "code",
   "execution_count": null,
   "id": "8c95d329-cc80-4656-92e1-650ffb211c7d",
   "metadata": {},
   "outputs": [],
   "source": [
    "sig.BasketStrategy?"
   ]
  },
  {
   "cell_type": "code",
   "execution_count": null,
   "id": "418f7ef6-aec2-4b6a-8dd2-ac297993e906",
   "metadata": {},
   "outputs": [],
   "source": [
    "simple_basket = sig.BasketStrategy(\n",
    "    currency='USD',\n",
    "    start_date=dtm.date(2011,2,15),\n",
    "    constituent_names=[\n",
    "        fc_lc_pairs_trading_strategy.name,\n",
    "        c_rr_pairs_trading_strategy.name,\n",
    "    ],\n",
    "    weights=[0.7, 0.3],\n",
    "    rebalance_frequency='EOM',\n",
    ")"
   ]
  },
  {
   "cell_type": "code",
   "execution_count": null,
   "id": "300e9b1d-65b0-4515-ae43-2eff26b9df5d",
   "metadata": {},
   "outputs": [],
   "source": [
    "simple_basket.history().plot()"
   ]
  },
  {
   "cell_type": "markdown",
   "id": "b4234f01-1ab7-403b-a024-0a3bf646458d",
   "metadata": {},
   "source": [
    "___"
   ]
  }
 ],
 "metadata": {
  "kernelspec": {
   "display_name": "Python 3",
   "language": "python",
   "name": "python3"
  },
  "language_info": {
   "codemirror_mode": {
    "name": "ipython",
    "version": 3
   },
   "file_extension": ".py",
   "mimetype": "text/x-python",
   "name": "python",
   "nbconvert_exporter": "python",
   "pygments_lexer": "ipython3",
   "version": "3.11.3"
  },
  "vscode": {
   "interpreter": {
    "hash": "e483b20f2aef0cfe437b9ea488667fd01f59262bbb79f624806c97e02b0e6267"
   }
  }
 },
 "nbformat": 4,
 "nbformat_minor": 5
}
