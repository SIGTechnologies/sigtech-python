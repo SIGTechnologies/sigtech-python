{
 "cells": [
  {
   "attachments": {},
   "cell_type": "markdown",
   "metadata": {},
   "source": [
    "# Example 5: Nasdaq momentum strategy using XGBoost\n",
    "\n",
    "## Pre-requisites\n",
    "### 1. If you have not opened the notebook in Colab, select the button below\n",
    "<a href=\"https://githubtocolab.com/SIGTechnologies/sigtech-python/blob/master/examples/framework/5_NASDAQ_Momentum_Using_XGBoost.ipynb\">\n",
    "    <img src=\"https://sigtech.com/wp-content/uploads/2023/08/grey_google_colab.svg\"></a>\n",
    "\n",
    "### 2. Enter your API key\n",
    "After pasting in your API key, you need to run the cell. In Colab, hover your cursor over an individual code cell and click play to run it.\n",
    ">**Tip**!\\\n",
    ">After pasting in your API key, you can press `CTRL-F9` (Windows) or `⌘-F9` (Mac) to run the entire notebook at once."
   ]
  },
  {
   "cell_type": "code",
   "execution_count": null,
   "metadata": {},
   "outputs": [],
   "source": [
    "# Install our Python SDK\n",
    "%pip install sigtech \n",
    "\n",
    "# Import OS and our Python SDK\n",
    "import sigtech.api as sig\n",
    "import os\n",
    "\n",
    "# Define your API key as a string. Remember to delete it before sharing your notebook with others. Replace \n",
    "# <YOUR_API_KEY> with the API key you have generated. e.g. os.environ['SIGTECH_API_KEY'] = 'sig_A1B2C3D4E5f6g7h8i9'\n",
    "os.environ['SIGTECH_API_KEY'] = '<YOUR_API_KEY>'"
   ]
  },
  {
   "attachments": {},
   "cell_type": "markdown",
   "metadata": {},
   "source": [
    "### 3. Set up your Colab environment"
   ]
  },
  {
   "cell_type": "code",
   "execution_count": null,
   "metadata": {
    "id": "sw1ALPv1U-vL"
   },
   "outputs": [],
   "source": [
    "# Install our Python SDK & XGBoost\n",
    "%pip install xgboost\n",
    "%pip install scikit-learn\n",
    "\n",
    "# Import any additional Python libraries you require.\n",
    "import datetime as dtm\n",
    "import sklearn\n",
    "import pandas as pd\n",
    "import numpy as np\n",
    "import xgboost as xgb\n",
    "import matplotlib.pyplot as plt\n",
    "from sklearn.model_selection import train_test_split\n",
    "\n",
    "# Set any parameters \n",
    "plt.rcParams['figure.figsize'] = [16, 8]"
   ]
  },
  {
   "attachments": {},
   "cell_type": "markdown",
   "metadata": {},
   "source": [
    "### 3. Create a session\n",
    "After installing our Python SDK, defining your API key, importing any additional Python libraries or functions you require, and setting any default parameters, initialize your session."
   ]
  },
  {
   "cell_type": "code",
   "execution_count": null,
   "metadata": {},
   "outputs": [],
   "source": [
    "sig.init()"
   ]
  },
  {
   "attachments": {},
   "cell_type": "markdown",
   "metadata": {},
   "source": [
    "## Introduction to Nasdaq momentum strategies\n",
    "This strategy aims to capitalize on momentum trends in the Nasdaq (`NQ`) index futures contract. The strategy employs a combination of traditional technical indicators and machine learning to identify potential entry and exit points for trades based on momentum signals in the historical price data.\n",
    "\n",
    "## Our strategy\n",
    "- We will create a dataframe of technical indicators monitoring the performance of Nasdaq futures.\n",
    "- The dataframe will be used to train an XGBoost model and obtain predictions about which dates to take a long or short position on NQ futures.\n",
    "- We will backtest the performance of a signals strategy which trades based on these predictions and compare its performance to a benchmark rolling futures strategy,\n",
    "\n",
    "## 1. Create a dataframe of multiple technical indicators on the performance of Nasdaq futures\n",
    "\n",
    "The technical indicators being used are:\n",
    "- 4-week and 12-week simple moving averages (to identify trends in the Nasdaq index price data). Crossovers between shorter and longer MAs can signal potential shifts in momentum and help determine entry and exit points for trades.\n",
    "- 14-day Relative Strength Index (RSI) which measures the speed and change of price movements and determine whether an asset is overbought or oversold.\n",
    "- Bollinger Bands consisting of a 20-week moving average and upper and lower bands representing standard deviations from the MA. These bands help identify periods of high or low volatility, which can indicate potential price breakouts or reversals.\n",
    "- MACD (Moving Average Convergence Divergence) calculated by finding the difference between two exponential moving averages (`exp12` and `exp26`) of the closing prices of Nasdaq index futures. This helps identify short-term and long-term trends in the Nasdaq index futures.\n",
    "- Volatility, measured by the standard deviation of closing prices over a rolling window of 20 periods."
   ]
  },
  {
   "cell_type": "code",
   "execution_count": null,
   "metadata": {
    "id": "pmdtPrewVIWo"
   },
   "outputs": [],
   "source": [
    "nq = sig.RollingFutureStrategy(contract_code = 'NQ', contract_sector = 'INDEX')\n",
    "nq.history().plot()"
   ]
  },
  {
   "cell_type": "code",
   "execution_count": null,
   "metadata": {
    "id": "bs2unejUVQe4"
   },
   "outputs": [],
   "source": [
    "# Create a pandas DataFrame ('df') to store the historical closing prices of the NQ index:\n",
    "df = pd.DataFrame({'Close':nq.history()})"
   ]
  },
  {
   "cell_type": "code",
   "execution_count": null,
   "metadata": {
    "id": "hB2zRMS0VSgc"
   },
   "outputs": [],
   "source": [
    "# Calculate weekly returns and add them as a new column ('weekly_returns') in the DataFrame:\n",
    "df['weekly_returns'] = df['Close'].pct_change(periods=5)\n",
    "\n",
    "# Calculate 4-week and 12-week moving averages and add them as new columns in the DataFrame:\n",
    "df['4_week_ma'] = df['Close'].rolling(window=4).mean()\n",
    "df['12_week_ma'] = df['Close'].rolling(window=12).mean()\n",
    "\n",
    "# Calculate the Relative Strength Index (RSI) and add it as a new column ('rsi') in the DataFrame:\n",
    "delta = df['Close'].diff()\n",
    "up, down = delta.copy(), delta.copy()\n",
    "up[up < 0] = 0\n",
    "down[down > 0] = 0\n",
    "\n",
    "average_gain = up.rolling(window=14).mean()\n",
    "average_loss = abs(down.rolling(window=14).mean())\n",
    "\n",
    "rs = average_gain / average_loss\n",
    "df['rsi'] = 100 - (100 / (1 + rs))\n",
    "\n",
    "# Calculate the Moving Average Convergence Divergence (MACD) and add it as a new column ('macd') in the DataFrame:\n",
    "exp12 = df['Close'].ewm(span=12, adjust=False).mean()\n",
    "exp26 = df['Close'].ewm(span=26, adjust=False).mean()\n",
    "macd_line = exp12 - exp26\n",
    "signal_line = macd_line.ewm(span=9, adjust=False).mean()\n",
    "\n",
    "df['macd'] = macd_line - signal_line\n",
    "\n",
    "# Calculate the Bollinger Bands and add them as new columns ('bollinger_upper' and 'bollinger_lower') in the DataFrame:\n",
    "df['20_week_ma'] = df['Close'].rolling(window=20).mean()\n",
    "df['20_week_std'] = df['Close'].rolling(window=20).std()\n",
    "df['bollinger_upper'] = df['20_week_ma'] + (df['20_week_std'] * 2)\n",
    "df['bollinger_lower'] = df['20_week_ma'] - (df['20_week_std'] * 2)\n",
    "\n",
    "# Calculate volatility and add it as a new column ('volatility') in the DataFrame:\n",
    "df['volatility'] = df['Close'].rolling(window=20).std()"
   ]
  },
  {
   "cell_type": "code",
   "execution_count": null,
   "metadata": {
    "colab": {
     "base_uri": "https://localhost:8080/",
     "height": 282
    },
    "id": "xTUJnPC8VfJ1",
    "outputId": "3ad80369-a20a-4ef1-c0ef-22055faee49b"
   },
   "outputs": [],
   "source": [
    "# Clean the DataFrame by dropping any rows with NaN values:\n",
    "df = df.dropna()\n",
    "\n",
    "df.tail()"
   ]
  },
  {
   "attachments": {},
   "cell_type": "markdown",
   "metadata": {},
   "source": [
    "## Use this dataframe in an XGBoost model\n",
    "\n",
    "The following code prepares the data, trains an XGBoost model, and generates binary predictions for future price movements in the Nasdaq index futures contract. The 'target' column is crucial as it provides the labeled data for training, enabling the model to learn patterns in the historical price data and predict whether prices will increase or decrease in the following week.\n",
    "\n",
    "The following XGBoost parameters are used:\n",
    "- `max_depth`: specifies the maximum depth of each decision tree in the ensemble, controlling the complexity of the individual trees and preventing overfitting.\n",
    "- `eta` (or learning rate): determines the step size for each boosting iteration. A smaller `eta` makes computation slower but leads to a more optimal model.\n",
    "- `min_child_weight`: sets the minimum sum of instance weights needed in a child (leaf) node during the tree building process. Prevents additional child nodes without meaningful data forming.\n",
    "- `gamma`: the minimum loss reduction required to make a further partition on a leaf node. Prevents the model from splitting nodes that do not significantly reduce the loss function.\n",
    "- `subsample`: sets the subsample ratio of the training instances used to grow each tree, controlling the randomness and variance of the model by training on a fraction of the data.\n",
    "- `objective`: specifies the loss function to be minimized during training, determining the model's task (regression, classification, etc.) and the appropriate loss metric to optimize.\n"
   ]
  },
  {
   "cell_type": "code",
   "execution_count": null,
   "metadata": {
    "id": "v40XetCrVglR"
   },
   "outputs": [],
   "source": [
    "# Create the target variable called 'target' in the DataFrame ('df'). The 'target' \n",
    "# column will contain binary values: -1 if the price of the NQ index decreased in \n",
    "# the next week compared to the current week, and 1 if the price increased.\n",
    "df['target'] = np.where(df['Close'].shift(-5) > df['Close'], 1, -1)\n",
    "\n",
    "# Remove the last 5 rows. They don't have a target value (because there is no next week data for them).\n",
    "df = df[:-5]\n",
    "\n",
    "# Split the DataFrame ('df') into two parts: 'features' and 'target'. \n",
    "# 'features' contain all columns except the 'target' and 'Close' columns.\n",
    "# 'target' will only contain the 'target' column.\n",
    "features = df.drop(columns=['target', 'Close'])\n",
    "target = df['target']\n",
    "\n",
    "# To evaluate the model, we divide the data into training and testing sets using the train_test_split function. \n",
    "# ~90% of the data will be used for training ('X_train' and 'y_train'), and ~10% will be used for testing \n",
    "# ('X_test' and 'y_test').\n",
    "X_train, X_test, y_train, y_test = train_test_split(features, target, test_size=0.1, random_state=42, shuffle=False)\n",
    "\n",
    "# XGBoost requires a specific data structure called 'DMatrix' to efficiently handle large datasets. \n",
    "# We create 'DMatrix' objects for both the training and testing sets ('dtrain' and 'dtest').\n",
    "dtrain = xgb.DMatrix(X_train, label=y_train)\n",
    "dtest = xgb.DMatrix(X_test, label=y_test)\n",
    "\n",
    "# Set the various parameters that control the behavior of the XGBoost model. \n",
    "param = {\n",
    "    'max_depth': 8,\n",
    "    'eta': 0.1,\n",
    "    'min_child_weight': 1,\n",
    "    'gamma': 0.1,\n",
    "    'subsample': 0.8,\n",
    "    'objective': 'reg:squarederror'\n",
    "}\n",
    "\n",
    "\n",
    "# Train the model using the 'xgb.train' function. The model will go through 20 iterations to refine its predictions.\n",
    "num_round = 20\n",
    "model = xgb.train(param, dtrain, num_round)\n",
    "\n",
    "# Use the model to make predictions on the test dataset ('X_test'). \n",
    "preds = model.predict(dtest)\n",
    "\n",
    "# Convert the model's predictions from continuous values into binary predictions: -1 or 1.\n",
    "binary_preds = np.where(preds < 0, -1, 1)\n",
    "\n",
    "# Create a DataFrame ('pred_df') to store the binary predictions \n",
    "pred_df = pd.DataFrame(binary_preds, columns=['prediction'], index=X_test.index)\n",
    "pred_df.tail(10)\n"
   ]
  },
  {
   "cell_type": "code",
   "execution_count": null,
   "metadata": {
    "colab": {
     "base_uri": "https://localhost:8080/",
     "height": 397
    },
    "id": "v95ZUi4KVqTY",
    "outputId": "90afeb36-179a-4456-9b0a-18547badefd6"
   },
   "outputs": [],
   "source": [
    "# Create a plot to see a visual representation of the output of the XGBoost model\n",
    "pred_df.plot()"
   ]
  },
  {
   "attachments": {},
   "cell_type": "markdown",
   "metadata": {},
   "source": [
    "## 3. Backtest and compare trading using the XGBoost model versus a normal rolling futures strategy\n",
    "In this section, we will compare the performance of a `SignalStrategy` which trades NQ futures based on the signals from our XGBoost model (and stored in `pred_df`) versus a benchmark rolling futures strategy which trades NQ futures. \n",
    "\n",
    "Firstly, `pref_df` needs to be converted into a DataFrame which can be used as a `signal_input` in our SDK's `SignalStrategy` class. "
   ]
  },
  {
   "cell_type": "code",
   "execution_count": null,
   "metadata": {
    "colab": {
     "base_uri": "https://localhost:8080/",
     "height": 455
    },
    "id": "tLGMKb58VsF-",
    "outputId": "1f8c42c1-fe1f-4ca5-eff1-d31d857c020a"
   },
   "outputs": [],
   "source": [
    "# The 'squeeze()' method converts 'pred_df' to a one-dimensional Series.\n",
    "signal_df = pd.DataFrame({nq.name:pred_df.squeeze()})\n",
    "signal_df"
   ]
  },
  {
   "attachments": {},
   "cell_type": "markdown",
   "metadata": {},
   "source": [
    "Next, we create the `SignalStrategy`, our strategy will start on the earliest available date and rebalance daily. "
   ]
  },
  {
   "cell_type": "code",
   "execution_count": null,
   "metadata": {
    "id": "mpqyGN97XEzW"
   },
   "outputs": [],
   "source": [
    "s = sig.SignalStrategy(\n",
    "    currency='USD',\n",
    "    signal_input=signal_df,\n",
    "    start_date=signal_df.first_valid_index().date(),\n",
    "    rebalance_frequency='1BD',\n",
    ")"
   ]
  },
  {
   "attachments": {},
   "cell_type": "markdown",
   "metadata": {},
   "source": [
    "Finally, we compare the performance of our XGBoost model based strategy against a normal rolling futures strategy."
   ]
  },
  {
   "cell_type": "code",
   "execution_count": null,
   "metadata": {
    "colab": {
     "base_uri": "https://localhost:8080/",
     "height": 397
    },
    "id": "2QktE1ZCXTDJ",
    "outputId": "0e46a229-35cb-4a1e-91ff-82472e850a82"
   },
   "outputs": [],
   "source": [
    "nq_benchmark = sig.RollingFutureStrategy(\n",
    "    start_date = signal_df.first_valid_index().date(), \n",
    "    contract_code = 'NQ', \n",
    "    contract_sector = 'INDEX'\n",
    "    )\n",
    "\n",
    "nq_benchmark.history().plot(label=\"Rolling Futures Strategy\")\n",
    "s.history().plot(label=\"XGBoost Signals Strategy\")\n",
    "plt.legend()\n",
    "plt.show()"
   ]
  }
 ],
 "metadata": {
  "colab": {
   "provenance": [],
   "toc_visible": true
  },
  "kernelspec": {
   "display_name": "Python 3 (ipykernel)",
   "language": "python",
   "name": "python3"
  },
  "language_info": {
   "codemirror_mode": {
    "name": "ipython",
    "version": 3
   },
   "file_extension": ".py",
   "mimetype": "text/x-python",
   "name": "python",
   "nbconvert_exporter": "python",
   "pygments_lexer": "ipython3",
   "version": "3.10.5"
  }
 },
 "nbformat": 4,
 "nbformat_minor": 4
}
